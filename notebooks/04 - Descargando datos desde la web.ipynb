{
 "cells": [
  {
   "cell_type": "markdown",
   "metadata": {},
   "source": [
    "# Tutorial descargando datos de la web\n",
    "\n",
    "En este tutorial veremos como recuperar datos desde la web. Revisaremos algunos módulos de Python para descargar y \"entender\" la web, y la funcionalidad que tiene Pandas para leer dataframes desde distintos tipos de datos.\n",
    "\n",
    "## Los datos\n",
    "\n",
    "Utilizaremos el sitio web de la BBC sobre los resultados de las [Olimpiadas Río 2016](http://www.bbc.com/sport/olympics/rio-2016/). El sitio incluye diaria sobre los diferentes eventos deportivos, así como tambien resultados y los países que compiten.\n",
    "\n",
    "El objetivo es recuperar los eventos deportivos que podrían ser de interés para el público chileno. "
   ]
  },
  {
   "cell_type": "markdown",
   "metadata": {},
   "source": [
    "## HTML\n",
    "HTML es el lenguaje que se utiliza para crear páginas web. El contenido y la apariciencia de un sitio web se especifica mediante etiquetas anidadas. Por ejemplo, la etiqueta ``<title>...</title>`` se utiliza para denotar el título de una página web (es el texto que vemos en un TAB del navegador).\n",
    "\n",
    "![html](images/html.png)\n",
    "\n",
    "El contenido de la página está dentro de las etiquetas ``<body> .... </body>``. Dentro de esa etiqueta se pueden crear tablas con datos, o párrafos con texto.\n",
    "\n",
    "Más información sobre HTML en https://en.wikipedia.org/wiki/HTML"
   ]
  },
  {
   "cell_type": "markdown",
   "metadata": {},
   "source": [
    "## Cómo comenzar\n",
    "\n",
    "Lo primero es recolectar información sobre como funciona el sitio web objetivo. A simple vista, el sitio de la BBC contiene una sección con toda la programación de las olimpiadas, dedicando una URL para cada día: http://www.bbc.com/sport/olympics/rio-2016/schedule\n",
    "\n",
    "Para obtener la información de un día particular se puede especifica el año, mes y día con el formato YYYY-MM-DD. Por ejemplo, http://www.bbc.com/sport/olympics/rio-2016/schedule/2016-08-07 recupera los eventos del día 7 de agosto de 2016.\n",
    "\n",
    "![bbcrender](images/bbc_render.png)"
   ]
  },
  {
   "cell_type": "markdown",
   "metadata": {},
   "source": [
    "Para ver las etiquetas HTML del sitio puedes utilizar la funcion **Inspect Element**. Por ejemplo, acá vemos el código html para los eventos de Arquería. \n",
    "\n",
    "![bbc_html](images/bbc_html.png)\n",
    "\n",
    "El sitio posee muuuucho contenido, es por eso que muchas etiquetas anidadas!"
   ]
  },
  {
   "cell_type": "markdown",
   "metadata": {
    "collapsed": true
   },
   "source": [
    "## Descargando los datos\n",
    "\n",
    "Ya tenemos un poco más claro donde están los datos que buscamos. \n"
   ]
  },
  {
   "cell_type": "code",
   "execution_count": 1,
   "metadata": {
    "collapsed": true
   },
   "outputs": [],
   "source": [
    "import pandas as pd"
   ]
  },
  {
   "cell_type": "markdown",
   "metadata": {},
   "source": [
    "Ahora asignaremos la url asociada a cada día de las olimpiadas, siguiendo el formato que encontramos anteriormente."
   ]
  },
  {
   "cell_type": "code",
   "execution_count": 2,
   "metadata": {
    "collapsed": false
   },
   "outputs": [],
   "source": [
    "url = 'http://www.bbc.com/sport/olympics/rio-2016/schedule/2016-08-07'"
   ]
  },
  {
   "cell_type": "markdown",
   "metadata": {},
   "source": [
    "La función .strftime permite crear string siguiendo el formato que definamos nosotros. Más info en https://pandas.pydata.org/pandas-docs/stable/generated/pandas.Series.dt.strftime.html\n",
    "\n",
    "Para descargar las páginas usaremos el módulo [**requests**](http://docs.python-requests.org/en/master/) (aunque existen varios otros!). Recuerda instalarlon con \n",
    "```bash\n",
    "pip install requests\n",
    "```"
   ]
  },
  {
   "cell_type": "code",
   "execution_count": 3,
   "metadata": {
    "collapsed": false
   },
   "outputs": [
    {
     "data": {
      "text/plain": [
       "'    <!DOCTYPE html>  <html id=\"sport-html\" class=\"b-reith-sans-font no-js no-enhanced no-touch no-font-face no-av no-app no-csscolumns no-css-transitions no-css-2d-transforms no-flexbox no-svg\"  lang=\"en\"> <head> <title>Schedule - Rio 2016 - Olympic Games - BBC Sport</title> <meta http-equiv=\"X-UA-Compatible\" content=\"IE=edge\"/> <meta name=\"description\" content=\"Schedule for the Olympic Games 2016\" /> <meta name=\"keywords\" content=\"Rio 2016, Olympics 2016, Olympic Games, schedule, BBC, BBC Sport\" />  <meta property=\"og:site_name\" content=\"BBC Sport\"/>     <meta charset=\"UTF-8\"/>  <link rel=\"canonical\" href=\"http://www.bbc.com/sport/olympics/rio-2016/schedule/2016-08-07\" />   <link rel=\"alternate\" href=\"android-app://bbc.mobile.sport.ww/http/www.bbc.com/sport/olympics/rio-2016/schedule/2016-08-07\" />    <link rel=\"alternate\" hreflang=\"en\" href=\"http://www.bbc.com/sport/olympics/rio-2016/schedule/2016-08-07\" /> <link rel=\"alternate\" hreflang=\"en-gb\" href=\"http://www.bbc.co.uk/sport/olymp'"
      ]
     },
     "execution_count": 3,
     "metadata": {},
     "output_type": "execute_result"
    }
   ],
   "source": [
    "import requests\n",
    "webpage = requests.get(url)\n",
    "webpage.text[:1000]"
   ]
  },
  {
   "cell_type": "markdown",
   "metadata": {},
   "source": [
    "La variable webpage.text contiene el html de la url que descargamos. Ahora veremos como acceder al contenido que buscamos!"
   ]
  },
  {
   "cell_type": "markdown",
   "metadata": {},
   "source": [
    "## Magical Pandas\n",
    "\n",
    "\n",
    "Pandas trae un módulo para extraer contenido desde html. Es bastante rudimentario, pero es la primera opción que debes probar.\n",
    "\n",
    "El método ``read_html(...)`` recibe como entrada un string html, o la dirección web de una página, y devuelve una lista de DataFrames con las tablas que están en el HTML."
   ]
  },
  {
   "cell_type": "code",
   "execution_count": 4,
   "metadata": {
    "collapsed": false
   },
   "outputs": [
    {
     "data": {
      "text/plain": [
       "21"
      ]
     },
     "execution_count": 4,
     "metadata": {},
     "output_type": "execute_result"
    }
   ],
   "source": [
    "tablas = pd.read_html(webpage.text) \n",
    "len(tablas)"
   ]
  },
  {
   "cell_type": "markdown",
   "metadata": {},
   "source": [
    "Pandas descubrió 21 tablas. Cada una corresponde a un deporte. La primera tabla corresponde a los juegos de arquería:\n",
    "\n",
    "![bbc_tabla](images/bbc_tables.png)"
   ]
  },
  {
   "cell_type": "code",
   "execution_count": 5,
   "metadata": {
    "collapsed": false
   },
   "outputs": [
    {
     "data": {
      "text/html": [
       "<div>\n",
       "<style>\n",
       "    .dataframe thead tr:only-child th {\n",
       "        text-align: right;\n",
       "    }\n",
       "\n",
       "    .dataframe thead th {\n",
       "        text-align: left;\n",
       "    }\n",
       "\n",
       "    .dataframe tbody tr th {\n",
       "        vertical-align: top;\n",
       "    }\n",
       "</style>\n",
       "<table border=\"1\" class=\"dataframe\">\n",
       "  <thead>\n",
       "    <tr style=\"text-align: right;\">\n",
       "      <th></th>\n",
       "      <th>0</th>\n",
       "      <th>1</th>\n",
       "      <th>2</th>\n",
       "    </tr>\n",
       "  </thead>\n",
       "  <tbody>\n",
       "    <tr>\n",
       "      <th>0</th>\n",
       "      <td>13:00 - 13:25</td>\n",
       "      <td>Women's Team 1/8 Eliminations MEX V GEO</td>\n",
       "      <td>Results</td>\n",
       "    </tr>\n",
       "    <tr>\n",
       "      <th>1</th>\n",
       "      <td>13:25 - 13:50</td>\n",
       "      <td>Women's Team 1/8 Eliminations JPN V UKR</td>\n",
       "      <td>Results</td>\n",
       "    </tr>\n",
       "    <tr>\n",
       "      <th>2</th>\n",
       "      <td>13:50 - 14:15</td>\n",
       "      <td>Women's Team 1/8 Eliminations BRZ V ITA</td>\n",
       "      <td>Results</td>\n",
       "    </tr>\n",
       "    <tr>\n",
       "      <th>3</th>\n",
       "      <td>14:15 - 14:40</td>\n",
       "      <td>Women's Team 1/8 Eliminations IND V COL</td>\n",
       "      <td>Results</td>\n",
       "    </tr>\n",
       "    <tr>\n",
       "      <th>4</th>\n",
       "      <td>18:00 - 18:25</td>\n",
       "      <td>Women's Team Quarterfinal MEX V TPE</td>\n",
       "      <td>Results</td>\n",
       "    </tr>\n",
       "    <tr>\n",
       "      <th>5</th>\n",
       "      <td>18:25 - 18:50</td>\n",
       "      <td>Women's Team Quarterfinal KOR V JPN</td>\n",
       "      <td>Results</td>\n",
       "    </tr>\n",
       "    <tr>\n",
       "      <th>6</th>\n",
       "      <td>18:50 - 19:15</td>\n",
       "      <td>Women's Team Quarterfinal CHN V ITA</td>\n",
       "      <td>Results</td>\n",
       "    </tr>\n",
       "    <tr>\n",
       "      <th>7</th>\n",
       "      <td>19:15 - 19:40</td>\n",
       "      <td>Women's Team Quarterfinal IND V RUS</td>\n",
       "      <td>Results</td>\n",
       "    </tr>\n",
       "    <tr>\n",
       "      <th>8</th>\n",
       "      <td>19:43 - 20:08</td>\n",
       "      <td>Women's Team Semifinal KOR V TPE</td>\n",
       "      <td>Results</td>\n",
       "    </tr>\n",
       "    <tr>\n",
       "      <th>9</th>\n",
       "      <td>20:11 - 20:36</td>\n",
       "      <td>Women's Team Semifinal ITA V RUS</td>\n",
       "      <td>Results</td>\n",
       "    </tr>\n",
       "    <tr>\n",
       "      <th>10</th>\n",
       "      <td>20:39 - 21:04</td>\n",
       "      <td>Women's Team Bronze Medal Match TPE V ITA</td>\n",
       "      <td>Results</td>\n",
       "    </tr>\n",
       "    <tr>\n",
       "      <th>11</th>\n",
       "      <td>21:07 - 21:32</td>\n",
       "      <td>Women's Team Gold Medal Match KOR V RUS</td>\n",
       "      <td>Results</td>\n",
       "    </tr>\n",
       "  </tbody>\n",
       "</table>\n",
       "</div>"
      ],
      "text/plain": [
       "                0                                          1        2\n",
       "0   13:00 - 13:25    Women's Team 1/8 Eliminations MEX V GEO  Results\n",
       "1   13:25 - 13:50    Women's Team 1/8 Eliminations JPN V UKR  Results\n",
       "2   13:50 - 14:15    Women's Team 1/8 Eliminations BRZ V ITA  Results\n",
       "3   14:15 - 14:40    Women's Team 1/8 Eliminations IND V COL  Results\n",
       "4   18:00 - 18:25        Women's Team Quarterfinal MEX V TPE  Results\n",
       "5   18:25 - 18:50        Women's Team Quarterfinal KOR V JPN  Results\n",
       "6   18:50 - 19:15        Women's Team Quarterfinal CHN V ITA  Results\n",
       "7   19:15 - 19:40        Women's Team Quarterfinal IND V RUS  Results\n",
       "8   19:43 - 20:08           Women's Team Semifinal KOR V TPE  Results\n",
       "9   20:11 - 20:36           Women's Team Semifinal ITA V RUS  Results\n",
       "10  20:39 - 21:04  Women's Team Bronze Medal Match TPE V ITA  Results\n",
       "11  21:07 - 21:32    Women's Team Gold Medal Match KOR V RUS  Results"
      ]
     },
     "execution_count": 5,
     "metadata": {},
     "output_type": "execute_result"
    }
   ],
   "source": [
    "tablas[0]"
   ]
  },
  {
   "cell_type": "code",
   "execution_count": 5,
   "metadata": {
    "collapsed": false
   },
   "outputs": [
    {
     "data": {
      "text/html": [
       "<div>\n",
       "<style>\n",
       "    .dataframe thead tr:only-child th {\n",
       "        text-align: right;\n",
       "    }\n",
       "\n",
       "    .dataframe thead th {\n",
       "        text-align: left;\n",
       "    }\n",
       "\n",
       "    .dataframe tbody tr th {\n",
       "        vertical-align: top;\n",
       "    }\n",
       "</style>\n",
       "<table border=\"1\" class=\"dataframe\">\n",
       "  <thead>\n",
       "    <tr style=\"text-align: right;\">\n",
       "      <th></th>\n",
       "      <th>0</th>\n",
       "      <th>1</th>\n",
       "      <th>2</th>\n",
       "    </tr>\n",
       "  </thead>\n",
       "  <tbody>\n",
       "    <tr>\n",
       "      <th>0</th>\n",
       "      <td>02:30 - 04:16</td>\n",
       "      <td>Men's Preliminary Round Group A VEN V SER</td>\n",
       "      <td>Results</td>\n",
       "    </tr>\n",
       "    <tr>\n",
       "      <th>1</th>\n",
       "      <td>16:00 - 17:31</td>\n",
       "      <td>Women's Preliminary Round Group B US V SEN</td>\n",
       "      <td>Results</td>\n",
       "    </tr>\n",
       "    <tr>\n",
       "      <th>2</th>\n",
       "      <td>18:15 - 20:16</td>\n",
       "      <td>Men's Preliminary Round Group B BRZ V LTU</td>\n",
       "      <td>Results</td>\n",
       "    </tr>\n",
       "    <tr>\n",
       "      <th>3</th>\n",
       "      <td>18:15 - 19:59</td>\n",
       "      <td>Women's Preliminary Round Group B SER V SPA</td>\n",
       "      <td>Results</td>\n",
       "    </tr>\n",
       "    <tr>\n",
       "      <th>4</th>\n",
       "      <td>21:30 - 23:04</td>\n",
       "      <td>Women's Preliminary Round Group A AUS V TUR</td>\n",
       "      <td>Results</td>\n",
       "    </tr>\n",
       "    <tr>\n",
       "      <th>5</th>\n",
       "      <td>23:00 - 00:52</td>\n",
       "      <td>Men's Preliminary Round Group B CRO V SPA</td>\n",
       "      <td>Results</td>\n",
       "    </tr>\n",
       "    <tr>\n",
       "      <th>6</th>\n",
       "      <td>23:45 - 01:33</td>\n",
       "      <td>Women's Preliminary Round Group A FRA V BLR</td>\n",
       "      <td>Results</td>\n",
       "    </tr>\n",
       "  </tbody>\n",
       "</table>\n",
       "</div>"
      ],
      "text/plain": [
       "               0                                            1        2\n",
       "0  02:30 - 04:16    Men's Preliminary Round Group A VEN V SER  Results\n",
       "1  16:00 - 17:31   Women's Preliminary Round Group B US V SEN  Results\n",
       "2  18:15 - 20:16    Men's Preliminary Round Group B BRZ V LTU  Results\n",
       "3  18:15 - 19:59  Women's Preliminary Round Group B SER V SPA  Results\n",
       "4  21:30 - 23:04  Women's Preliminary Round Group A AUS V TUR  Results\n",
       "5  23:00 - 00:52    Men's Preliminary Round Group B CRO V SPA  Results\n",
       "6  23:45 - 01:33  Women's Preliminary Round Group A FRA V BLR  Results"
      ]
     },
     "execution_count": 5,
     "metadata": {},
     "output_type": "execute_result"
    }
   ],
   "source": [
    "tablas[1]"
   ]
  },
  {
   "cell_type": "markdown",
   "metadata": {},
   "source": [
    "Funciona! Pero parcialmente... también queremos automatizar la detección del tipo de evento asociado a cada tabla. Para eso ocuparemos el módulo [BeautifoulSoup](https://www.crummy.com/software/BeautifulSoup/)."
   ]
  },
  {
   "cell_type": "markdown",
   "metadata": {},
   "source": [
    "## Recuperando información desde el html\n",
    "\n",
    "El módulo [BeautifoulSoup](https://www.crummy.com/software/BeautifulSoup/) permite interpretar el html y extraer la información que contienen los tags anidados. Nota: La tecnología para recuperar información usando la estructura anidada se llama [parsing](https://en.wikipedia.org/wiki/Parsing), y es lo que el computador utiliza para interpretar las instrucciones que escribimos en Python o HTML.\n",
    "\n",
    "El módulo recibe como entrada un string con el html y el parser que se desea utilizar. Sugiero utilizar el parser html5. Recuerden instalarlos con:\n",
    "\n",
    "```bash\n",
    "pip install beautifulsoup4\n",
    "pip install html5\n",
    "```"
   ]
  },
  {
   "cell_type": "code",
   "execution_count": 6,
   "metadata": {
    "collapsed": false
   },
   "outputs": [],
   "source": [
    "from bs4 import BeautifulSoup\n",
    "\n",
    "soup = BeautifulSoup(webpage.text, 'html5lib')"
   ]
  },
  {
   "cell_type": "markdown",
   "metadata": {},
   "source": [
    "Para identificar la etiqueta asociada al tipo de evento examinaremos el html usando Firefox y la herramienta **Inspect Element**:\n",
    "\n",
    "![bbcli](images/bbc_litag.png)"
   ]
  },
  {
   "cell_type": "markdown",
   "metadata": {},
   "source": [
    "El deporte de cada evento está en el tag ``<span class=\"gel-pica-bold\"> ... </li>``, con la función ``find_all`` podemos recuperar todas las apariciones del tag:"
   ]
  },
  {
   "cell_type": "code",
   "execution_count": 7,
   "metadata": {
    "collapsed": false
   },
   "outputs": [
    {
     "data": {
      "text/plain": [
       "21"
      ]
     },
     "execution_count": 7,
     "metadata": {},
     "output_type": "execute_result"
    }
   ],
   "source": [
    "sports = soup.find_all(\"span\", class_=\"gel-pica-bold\") # retorna una lista\n",
    "len(sports)"
   ]
  },
  {
   "cell_type": "markdown",
   "metadata": {},
   "source": [
    "También son 21 :). Para extraera la información de cada etiqueta usamos ``.text``:"
   ]
  },
  {
   "cell_type": "code",
   "execution_count": 8,
   "metadata": {
    "collapsed": false
   },
   "outputs": [
    {
     "data": {
      "text/plain": [
       "' Archery '"
      ]
     },
     "execution_count": 8,
     "metadata": {},
     "output_type": "execute_result"
    }
   ],
   "source": [
    "sports[0].text"
   ]
  },
  {
   "cell_type": "markdown",
   "metadata": {},
   "source": [
    "Ahora solo debemos asignar el deporte a cada DataFrame que recuperamos anteriormente con Pandas."
   ]
  },
  {
   "cell_type": "markdown",
   "metadata": {},
   "source": [
    "## Enriqueciendo los datos\n",
    "\n",
    "Ahora que ya tenemos la información de eventos por deporte, podemos combinar la información en los dataframes que obtuvimos con Pandas."
   ]
  },
  {
   "cell_type": "code",
   "execution_count": 9,
   "metadata": {
    "collapsed": false
   },
   "outputs": [
    {
     "data": {
      "text/html": [
       "<div>\n",
       "<style>\n",
       "    .dataframe thead tr:only-child th {\n",
       "        text-align: right;\n",
       "    }\n",
       "\n",
       "    .dataframe thead th {\n",
       "        text-align: left;\n",
       "    }\n",
       "\n",
       "    .dataframe tbody tr th {\n",
       "        vertical-align: top;\n",
       "    }\n",
       "</style>\n",
       "<table border=\"1\" class=\"dataframe\">\n",
       "  <thead>\n",
       "    <tr style=\"text-align: right;\">\n",
       "      <th></th>\n",
       "      <th>0</th>\n",
       "      <th>1</th>\n",
       "      <th>2</th>\n",
       "      <th>sport</th>\n",
       "    </tr>\n",
       "  </thead>\n",
       "  <tbody>\n",
       "    <tr>\n",
       "      <th>0</th>\n",
       "      <td>13:00 - 13:25</td>\n",
       "      <td>Women's Team 1/8 Eliminations MEX V GEO</td>\n",
       "      <td>Results</td>\n",
       "      <td>Archery</td>\n",
       "    </tr>\n",
       "    <tr>\n",
       "      <th>1</th>\n",
       "      <td>13:25 - 13:50</td>\n",
       "      <td>Women's Team 1/8 Eliminations JPN V UKR</td>\n",
       "      <td>Results</td>\n",
       "      <td>Archery</td>\n",
       "    </tr>\n",
       "    <tr>\n",
       "      <th>2</th>\n",
       "      <td>13:50 - 14:15</td>\n",
       "      <td>Women's Team 1/8 Eliminations BRZ V ITA</td>\n",
       "      <td>Results</td>\n",
       "      <td>Archery</td>\n",
       "    </tr>\n",
       "    <tr>\n",
       "      <th>3</th>\n",
       "      <td>14:15 - 14:40</td>\n",
       "      <td>Women's Team 1/8 Eliminations IND V COL</td>\n",
       "      <td>Results</td>\n",
       "      <td>Archery</td>\n",
       "    </tr>\n",
       "    <tr>\n",
       "      <th>4</th>\n",
       "      <td>18:00 - 18:25</td>\n",
       "      <td>Women's Team Quarterfinal MEX V TPE</td>\n",
       "      <td>Results</td>\n",
       "      <td>Archery</td>\n",
       "    </tr>\n",
       "    <tr>\n",
       "      <th>5</th>\n",
       "      <td>18:25 - 18:50</td>\n",
       "      <td>Women's Team Quarterfinal KOR V JPN</td>\n",
       "      <td>Results</td>\n",
       "      <td>Archery</td>\n",
       "    </tr>\n",
       "    <tr>\n",
       "      <th>6</th>\n",
       "      <td>18:50 - 19:15</td>\n",
       "      <td>Women's Team Quarterfinal CHN V ITA</td>\n",
       "      <td>Results</td>\n",
       "      <td>Archery</td>\n",
       "    </tr>\n",
       "    <tr>\n",
       "      <th>7</th>\n",
       "      <td>19:15 - 19:40</td>\n",
       "      <td>Women's Team Quarterfinal IND V RUS</td>\n",
       "      <td>Results</td>\n",
       "      <td>Archery</td>\n",
       "    </tr>\n",
       "    <tr>\n",
       "      <th>8</th>\n",
       "      <td>19:43 - 20:08</td>\n",
       "      <td>Women's Team Semifinal KOR V TPE</td>\n",
       "      <td>Results</td>\n",
       "      <td>Archery</td>\n",
       "    </tr>\n",
       "    <tr>\n",
       "      <th>9</th>\n",
       "      <td>20:11 - 20:36</td>\n",
       "      <td>Women's Team Semifinal ITA V RUS</td>\n",
       "      <td>Results</td>\n",
       "      <td>Archery</td>\n",
       "    </tr>\n",
       "    <tr>\n",
       "      <th>10</th>\n",
       "      <td>20:39 - 21:04</td>\n",
       "      <td>Women's Team Bronze Medal Match TPE V ITA</td>\n",
       "      <td>Results</td>\n",
       "      <td>Archery</td>\n",
       "    </tr>\n",
       "    <tr>\n",
       "      <th>11</th>\n",
       "      <td>21:07 - 21:32</td>\n",
       "      <td>Women's Team Gold Medal Match KOR V RUS</td>\n",
       "      <td>Results</td>\n",
       "      <td>Archery</td>\n",
       "    </tr>\n",
       "  </tbody>\n",
       "</table>\n",
       "</div>"
      ],
      "text/plain": [
       "                0                                          1        2  \\\n",
       "0   13:00 - 13:25    Women's Team 1/8 Eliminations MEX V GEO  Results   \n",
       "1   13:25 - 13:50    Women's Team 1/8 Eliminations JPN V UKR  Results   \n",
       "2   13:50 - 14:15    Women's Team 1/8 Eliminations BRZ V ITA  Results   \n",
       "3   14:15 - 14:40    Women's Team 1/8 Eliminations IND V COL  Results   \n",
       "4   18:00 - 18:25        Women's Team Quarterfinal MEX V TPE  Results   \n",
       "5   18:25 - 18:50        Women's Team Quarterfinal KOR V JPN  Results   \n",
       "6   18:50 - 19:15        Women's Team Quarterfinal CHN V ITA  Results   \n",
       "7   19:15 - 19:40        Women's Team Quarterfinal IND V RUS  Results   \n",
       "8   19:43 - 20:08           Women's Team Semifinal KOR V TPE  Results   \n",
       "9   20:11 - 20:36           Women's Team Semifinal ITA V RUS  Results   \n",
       "10  20:39 - 21:04  Women's Team Bronze Medal Match TPE V ITA  Results   \n",
       "11  21:07 - 21:32    Women's Team Gold Medal Match KOR V RUS  Results   \n",
       "\n",
       "        sport  \n",
       "0    Archery   \n",
       "1    Archery   \n",
       "2    Archery   \n",
       "3    Archery   \n",
       "4    Archery   \n",
       "5    Archery   \n",
       "6    Archery   \n",
       "7    Archery   \n",
       "8    Archery   \n",
       "9    Archery   \n",
       "10   Archery   \n",
       "11   Archery   "
      ]
     },
     "execution_count": 9,
     "metadata": {},
     "output_type": "execute_result"
    }
   ],
   "source": [
    "tablas[0].assign(sport = sports[0].text)"
   ]
  },
  {
   "cell_type": "code",
   "execution_count": 10,
   "metadata": {
    "collapsed": false
   },
   "outputs": [
    {
     "data": {
      "text/html": [
       "<div>\n",
       "<style>\n",
       "    .dataframe thead tr:only-child th {\n",
       "        text-align: right;\n",
       "    }\n",
       "\n",
       "    .dataframe thead th {\n",
       "        text-align: left;\n",
       "    }\n",
       "\n",
       "    .dataframe tbody tr th {\n",
       "        vertical-align: top;\n",
       "    }\n",
       "</style>\n",
       "<table border=\"1\" class=\"dataframe\">\n",
       "  <thead>\n",
       "    <tr style=\"text-align: right;\">\n",
       "      <th></th>\n",
       "      <th>0</th>\n",
       "      <th>1</th>\n",
       "      <th>2</th>\n",
       "      <th>sport</th>\n",
       "    </tr>\n",
       "  </thead>\n",
       "  <tbody>\n",
       "    <tr>\n",
       "      <th>0</th>\n",
       "      <td>13:00 - 13:25</td>\n",
       "      <td>Women's Team 1/8 Eliminations MEX V GEO</td>\n",
       "      <td>Results</td>\n",
       "      <td>Archery</td>\n",
       "    </tr>\n",
       "    <tr>\n",
       "      <th>1</th>\n",
       "      <td>13:25 - 13:50</td>\n",
       "      <td>Women's Team 1/8 Eliminations JPN V UKR</td>\n",
       "      <td>Results</td>\n",
       "      <td>Archery</td>\n",
       "    </tr>\n",
       "    <tr>\n",
       "      <th>2</th>\n",
       "      <td>13:50 - 14:15</td>\n",
       "      <td>Women's Team 1/8 Eliminations BRZ V ITA</td>\n",
       "      <td>Results</td>\n",
       "      <td>Archery</td>\n",
       "    </tr>\n",
       "    <tr>\n",
       "      <th>3</th>\n",
       "      <td>14:15 - 14:40</td>\n",
       "      <td>Women's Team 1/8 Eliminations IND V COL</td>\n",
       "      <td>Results</td>\n",
       "      <td>Archery</td>\n",
       "    </tr>\n",
       "    <tr>\n",
       "      <th>4</th>\n",
       "      <td>18:00 - 18:25</td>\n",
       "      <td>Women's Team Quarterfinal MEX V TPE</td>\n",
       "      <td>Results</td>\n",
       "      <td>Archery</td>\n",
       "    </tr>\n",
       "  </tbody>\n",
       "</table>\n",
       "</div>"
      ],
      "text/plain": [
       "               0                                        1        2    sport\n",
       "0  13:00 - 13:25  Women's Team 1/8 Eliminations MEX V GEO  Results  Archery\n",
       "1  13:25 - 13:50  Women's Team 1/8 Eliminations JPN V UKR  Results  Archery\n",
       "2  13:50 - 14:15  Women's Team 1/8 Eliminations BRZ V ITA  Results  Archery\n",
       "3  14:15 - 14:40  Women's Team 1/8 Eliminations IND V COL  Results  Archery\n",
       "4  18:00 - 18:25      Women's Team Quarterfinal MEX V TPE  Results  Archery"
      ]
     },
     "execution_count": 10,
     "metadata": {},
     "output_type": "execute_result"
    }
   ],
   "source": [
    "df = pd.concat([t.assign(sport = s.text.strip()) \n",
    "                for t, s in zip(tablas, sports)])\n",
    "df.head()"
   ]
  },
  {
   "cell_type": "code",
   "execution_count": 11,
   "metadata": {
    "collapsed": false
   },
   "outputs": [
    {
     "data": {
      "text/plain": [
       "(299, 4)"
      ]
     },
     "execution_count": 11,
     "metadata": {},
     "output_type": "execute_result"
    }
   ],
   "source": [
    "df.shape"
   ]
  },
  {
   "cell_type": "markdown",
   "metadata": {},
   "source": [
    "Ahora terminos de limpiar el dataset. Nos falta:\n",
    "* Eliminar la columna resultados\n",
    "* Cambiar el nombre de las columnas\n",
    "* Recuperar la hora de inicio y término de cada evento.\n",
    "* Asignar el día en que ocurre el evento"
   ]
  },
  {
   "cell_type": "code",
   "execution_count": 12,
   "metadata": {
    "collapsed": false
   },
   "outputs": [
    {
     "data": {
      "text/plain": [
       "Index([0, 1, 2, 'sport'], dtype='object')"
      ]
     },
     "execution_count": 12,
     "metadata": {},
     "output_type": "execute_result"
    }
   ],
   "source": [
    "df.columns"
   ]
  },
  {
   "cell_type": "code",
   "execution_count": 13,
   "metadata": {
    "collapsed": true
   },
   "outputs": [],
   "source": [
    "df = df.drop(2, axis='columns')"
   ]
  },
  {
   "cell_type": "code",
   "execution_count": 14,
   "metadata": {
    "collapsed": false
   },
   "outputs": [
    {
     "data": {
      "text/html": [
       "<div>\n",
       "<style>\n",
       "    .dataframe thead tr:only-child th {\n",
       "        text-align: right;\n",
       "    }\n",
       "\n",
       "    .dataframe thead th {\n",
       "        text-align: left;\n",
       "    }\n",
       "\n",
       "    .dataframe tbody tr th {\n",
       "        vertical-align: top;\n",
       "    }\n",
       "</style>\n",
       "<table border=\"1\" class=\"dataframe\">\n",
       "  <thead>\n",
       "    <tr style=\"text-align: right;\">\n",
       "      <th></th>\n",
       "      <th>time</th>\n",
       "      <th>desc</th>\n",
       "      <th>sport</th>\n",
       "    </tr>\n",
       "  </thead>\n",
       "  <tbody>\n",
       "    <tr>\n",
       "      <th>0</th>\n",
       "      <td>13:00 - 13:25</td>\n",
       "      <td>Women's Team 1/8 Eliminations MEX V GEO</td>\n",
       "      <td>Archery</td>\n",
       "    </tr>\n",
       "    <tr>\n",
       "      <th>1</th>\n",
       "      <td>13:25 - 13:50</td>\n",
       "      <td>Women's Team 1/8 Eliminations JPN V UKR</td>\n",
       "      <td>Archery</td>\n",
       "    </tr>\n",
       "    <tr>\n",
       "      <th>2</th>\n",
       "      <td>13:50 - 14:15</td>\n",
       "      <td>Women's Team 1/8 Eliminations BRZ V ITA</td>\n",
       "      <td>Archery</td>\n",
       "    </tr>\n",
       "    <tr>\n",
       "      <th>3</th>\n",
       "      <td>14:15 - 14:40</td>\n",
       "      <td>Women's Team 1/8 Eliminations IND V COL</td>\n",
       "      <td>Archery</td>\n",
       "    </tr>\n",
       "    <tr>\n",
       "      <th>4</th>\n",
       "      <td>18:00 - 18:25</td>\n",
       "      <td>Women's Team Quarterfinal MEX V TPE</td>\n",
       "      <td>Archery</td>\n",
       "    </tr>\n",
       "  </tbody>\n",
       "</table>\n",
       "</div>"
      ],
      "text/plain": [
       "            time                                     desc    sport\n",
       "0  13:00 - 13:25  Women's Team 1/8 Eliminations MEX V GEO  Archery\n",
       "1  13:25 - 13:50  Women's Team 1/8 Eliminations JPN V UKR  Archery\n",
       "2  13:50 - 14:15  Women's Team 1/8 Eliminations BRZ V ITA  Archery\n",
       "3  14:15 - 14:40  Women's Team 1/8 Eliminations IND V COL  Archery\n",
       "4  18:00 - 18:25      Women's Team Quarterfinal MEX V TPE  Archery"
      ]
     },
     "execution_count": 14,
     "metadata": {},
     "output_type": "execute_result"
    }
   ],
   "source": [
    "df = df.rename(columns={0:'time', 1:'desc'})\n",
    "df.head()"
   ]
  },
  {
   "cell_type": "markdown",
   "metadata": {},
   "source": [
    "Usando los métodos para procesar strings, podemos recuperar la hora de inicio y término de cada evento:"
   ]
  },
  {
   "cell_type": "code",
   "execution_count": 15,
   "metadata": {
    "collapsed": false
   },
   "outputs": [
    {
     "data": {
      "text/plain": [
       "0   2016-08-27 13:00:00\n",
       "1   2016-08-27 13:25:00\n",
       "2   2016-08-27 13:50:00\n",
       "3   2016-08-27 14:15:00\n",
       "4   2016-08-27 18:00:00\n",
       "Name: 0, dtype: datetime64[ns]"
      ]
     },
     "execution_count": 15,
     "metadata": {},
     "output_type": "execute_result"
    }
   ],
   "source": [
    "df.head().time.str.split('-', expand=True)[0].map(lambda x: pd.to_datetime('2016-08-27 {}:00'.format(x.strip())))"
   ]
  },
  {
   "cell_type": "markdown",
   "metadata": {},
   "source": [
    "Sin embargo, las horas de la página web de la BBC están en el horario de Londres, así que lo ajustaremos:"
   ]
  },
  {
   "cell_type": "code",
   "execution_count": 15,
   "metadata": {
    "collapsed": false
   },
   "outputs": [
    {
     "data": {
      "text/plain": [
       "0   2016-08-27 12:00:00+00:00\n",
       "1   2016-08-27 12:25:00+00:00\n",
       "2   2016-08-27 12:50:00+00:00\n",
       "3   2016-08-27 13:15:00+00:00\n",
       "4   2016-08-27 17:00:00+00:00\n",
       "Name: 0, dtype: datetime64[ns, UTC]"
      ]
     },
     "execution_count": 15,
     "metadata": {},
     "output_type": "execute_result"
    }
   ],
   "source": [
    "df.head().time.str.split('-', expand=True)[0].map(lambda x: pd.to_datetime('2016-08-27 {}:00 +0100'.format(x.strip()),utc=True))"
   ]
  },
  {
   "cell_type": "markdown",
   "metadata": {},
   "source": [
    "Y también podemos asignar el día asociado a cada evento:"
   ]
  },
  {
   "cell_type": "code",
   "execution_count": 16,
   "metadata": {
    "collapsed": false
   },
   "outputs": [
    {
     "data": {
      "text/html": [
       "<div>\n",
       "<style>\n",
       "    .dataframe thead tr:only-child th {\n",
       "        text-align: right;\n",
       "    }\n",
       "\n",
       "    .dataframe thead th {\n",
       "        text-align: left;\n",
       "    }\n",
       "\n",
       "    .dataframe tbody tr th {\n",
       "        vertical-align: top;\n",
       "    }\n",
       "</style>\n",
       "<table border=\"1\" class=\"dataframe\">\n",
       "  <thead>\n",
       "    <tr style=\"text-align: right;\">\n",
       "      <th></th>\n",
       "      <th>desc</th>\n",
       "      <th>sport</th>\n",
       "      <th>event_start</th>\n",
       "      <th>event_end</th>\n",
       "    </tr>\n",
       "  </thead>\n",
       "  <tbody>\n",
       "    <tr>\n",
       "      <th>0</th>\n",
       "      <td>Women's Team 1/8 Eliminations MEX V GEO</td>\n",
       "      <td>Archery</td>\n",
       "      <td>2016-08-27 12:00:00+00:00</td>\n",
       "      <td>2016-08-27 12:25:00+00:00</td>\n",
       "    </tr>\n",
       "    <tr>\n",
       "      <th>1</th>\n",
       "      <td>Women's Team 1/8 Eliminations JPN V UKR</td>\n",
       "      <td>Archery</td>\n",
       "      <td>2016-08-27 12:25:00+00:00</td>\n",
       "      <td>2016-08-27 12:50:00+00:00</td>\n",
       "    </tr>\n",
       "    <tr>\n",
       "      <th>2</th>\n",
       "      <td>Women's Team 1/8 Eliminations BRZ V ITA</td>\n",
       "      <td>Archery</td>\n",
       "      <td>2016-08-27 12:50:00+00:00</td>\n",
       "      <td>2016-08-27 13:15:00+00:00</td>\n",
       "    </tr>\n",
       "    <tr>\n",
       "      <th>3</th>\n",
       "      <td>Women's Team 1/8 Eliminations IND V COL</td>\n",
       "      <td>Archery</td>\n",
       "      <td>2016-08-27 13:15:00+00:00</td>\n",
       "      <td>2016-08-27 13:40:00+00:00</td>\n",
       "    </tr>\n",
       "    <tr>\n",
       "      <th>4</th>\n",
       "      <td>Women's Team Quarterfinal MEX V TPE</td>\n",
       "      <td>Archery</td>\n",
       "      <td>2016-08-27 17:00:00+00:00</td>\n",
       "      <td>2016-08-27 17:25:00+00:00</td>\n",
       "    </tr>\n",
       "  </tbody>\n",
       "</table>\n",
       "</div>"
      ],
      "text/plain": [
       "                                      desc    sport               event_start  \\\n",
       "0  Women's Team 1/8 Eliminations MEX V GEO  Archery 2016-08-27 12:00:00+00:00   \n",
       "1  Women's Team 1/8 Eliminations JPN V UKR  Archery 2016-08-27 12:25:00+00:00   \n",
       "2  Women's Team 1/8 Eliminations BRZ V ITA  Archery 2016-08-27 12:50:00+00:00   \n",
       "3  Women's Team 1/8 Eliminations IND V COL  Archery 2016-08-27 13:15:00+00:00   \n",
       "4      Women's Team Quarterfinal MEX V TPE  Archery 2016-08-27 17:00:00+00:00   \n",
       "\n",
       "                  event_end  \n",
       "0 2016-08-27 12:25:00+00:00  \n",
       "1 2016-08-27 12:50:00+00:00  \n",
       "2 2016-08-27 13:15:00+00:00  \n",
       "3 2016-08-27 13:40:00+00:00  \n",
       "4 2016-08-27 17:25:00+00:00  "
      ]
     },
     "execution_count": 16,
     "metadata": {},
     "output_type": "execute_result"
    }
   ],
   "source": [
    "df['event_start'] = df.time.str.split('-', expand=True)[0].map(lambda x: pd.to_datetime('2016-08-27 {}:00 +0100'.format(x.strip()),utc=True))\n",
    "df['event_end'] = df.time.str.split('-', expand=True)[1].map(lambda x: pd.to_datetime('2016-08-27 {}:00 +0100'.format(x.strip()),utc=True))\n",
    "df = df.drop('time', axis='columns')\n",
    "df.head()"
   ]
  },
  {
   "cell_type": "markdown",
   "metadata": {},
   "source": [
    "Hay algo extraño, los eventos comienzan a medio día... Transformemoslos en el horario de Chile:"
   ]
  },
  {
   "cell_type": "code",
   "execution_count": 17,
   "metadata": {
    "collapsed": false
   },
   "outputs": [
    {
     "data": {
      "text/html": [
       "<div>\n",
       "<style>\n",
       "    .dataframe thead tr:only-child th {\n",
       "        text-align: right;\n",
       "    }\n",
       "\n",
       "    .dataframe thead th {\n",
       "        text-align: left;\n",
       "    }\n",
       "\n",
       "    .dataframe tbody tr th {\n",
       "        vertical-align: top;\n",
       "    }\n",
       "</style>\n",
       "<table border=\"1\" class=\"dataframe\">\n",
       "  <thead>\n",
       "    <tr style=\"text-align: right;\">\n",
       "      <th></th>\n",
       "      <th>desc</th>\n",
       "      <th>sport</th>\n",
       "      <th>event_start</th>\n",
       "      <th>event_end</th>\n",
       "    </tr>\n",
       "  </thead>\n",
       "  <tbody>\n",
       "    <tr>\n",
       "      <th>0</th>\n",
       "      <td>Women's Team 1/8 Eliminations MEX V GEO</td>\n",
       "      <td>Archery</td>\n",
       "      <td>2016-08-27 09:00:00-03:00</td>\n",
       "      <td>2016-08-27 09:25:00-03:00</td>\n",
       "    </tr>\n",
       "    <tr>\n",
       "      <th>1</th>\n",
       "      <td>Women's Team 1/8 Eliminations JPN V UKR</td>\n",
       "      <td>Archery</td>\n",
       "      <td>2016-08-27 09:25:00-03:00</td>\n",
       "      <td>2016-08-27 09:50:00-03:00</td>\n",
       "    </tr>\n",
       "    <tr>\n",
       "      <th>2</th>\n",
       "      <td>Women's Team 1/8 Eliminations BRZ V ITA</td>\n",
       "      <td>Archery</td>\n",
       "      <td>2016-08-27 09:50:00-03:00</td>\n",
       "      <td>2016-08-27 10:15:00-03:00</td>\n",
       "    </tr>\n",
       "    <tr>\n",
       "      <th>3</th>\n",
       "      <td>Women's Team 1/8 Eliminations IND V COL</td>\n",
       "      <td>Archery</td>\n",
       "      <td>2016-08-27 10:15:00-03:00</td>\n",
       "      <td>2016-08-27 10:40:00-03:00</td>\n",
       "    </tr>\n",
       "    <tr>\n",
       "      <th>4</th>\n",
       "      <td>Women's Team Quarterfinal MEX V TPE</td>\n",
       "      <td>Archery</td>\n",
       "      <td>2016-08-27 14:00:00-03:00</td>\n",
       "      <td>2016-08-27 14:25:00-03:00</td>\n",
       "    </tr>\n",
       "  </tbody>\n",
       "</table>\n",
       "</div>"
      ],
      "text/plain": [
       "                                      desc    sport               event_start  \\\n",
       "0  Women's Team 1/8 Eliminations MEX V GEO  Archery 2016-08-27 09:00:00-03:00   \n",
       "1  Women's Team 1/8 Eliminations JPN V UKR  Archery 2016-08-27 09:25:00-03:00   \n",
       "2  Women's Team 1/8 Eliminations BRZ V ITA  Archery 2016-08-27 09:50:00-03:00   \n",
       "3  Women's Team 1/8 Eliminations IND V COL  Archery 2016-08-27 10:15:00-03:00   \n",
       "4      Women's Team Quarterfinal MEX V TPE  Archery 2016-08-27 14:00:00-03:00   \n",
       "\n",
       "                  event_end  \n",
       "0 2016-08-27 09:25:00-03:00  \n",
       "1 2016-08-27 09:50:00-03:00  \n",
       "2 2016-08-27 10:15:00-03:00  \n",
       "3 2016-08-27 10:40:00-03:00  \n",
       "4 2016-08-27 14:25:00-03:00  "
      ]
     },
     "execution_count": 17,
     "metadata": {},
     "output_type": "execute_result"
    }
   ],
   "source": [
    "df['event_start'] = df.event_start.dt.tz_convert('America/Santiago')\n",
    "df['event_end'] = df.event_end.dt.tz_convert('America/Santiago')\n",
    "df.head()"
   ]
  },
  {
   "cell_type": "markdown",
   "metadata": {},
   "source": [
    "## Wrapping up\n",
    "\n",
    "Para hacer este notebook reproducible debemos descargar la pagina web para cada día del evento, guardarlos en un archivo (como datos raw/originales) y hacer una función para procesar los datos.\n",
    "\n",
    "Primero partiremos por hacer una función que lea el html y automatice el proceso de parsing y recuperación de los datos."
   ]
  },
  {
   "cell_type": "code",
   "execution_count": 19,
   "metadata": {
    "collapsed": false
   },
   "outputs": [
    {
     "data": {
      "text/html": [
       "<div>\n",
       "<style>\n",
       "    .dataframe thead tr:only-child th {\n",
       "        text-align: right;\n",
       "    }\n",
       "\n",
       "    .dataframe thead th {\n",
       "        text-align: left;\n",
       "    }\n",
       "\n",
       "    .dataframe tbody tr th {\n",
       "        vertical-align: top;\n",
       "    }\n",
       "</style>\n",
       "<table border=\"1\" class=\"dataframe\">\n",
       "  <thead>\n",
       "    <tr style=\"text-align: right;\">\n",
       "      <th></th>\n",
       "      <th>desc</th>\n",
       "      <th>sport</th>\n",
       "      <th>event_start</th>\n",
       "      <th>event_end</th>\n",
       "    </tr>\n",
       "  </thead>\n",
       "  <tbody>\n",
       "    <tr>\n",
       "      <th>0</th>\n",
       "      <td>Women's Team 1/8 Eliminations MEX V GEO</td>\n",
       "      <td>Archery</td>\n",
       "      <td>2016-08-07 08:00:00-04:00</td>\n",
       "      <td>2016-08-07 08:25:00-04:00</td>\n",
       "    </tr>\n",
       "    <tr>\n",
       "      <th>1</th>\n",
       "      <td>Women's Team 1/8 Eliminations JPN V UKR</td>\n",
       "      <td>Archery</td>\n",
       "      <td>2016-08-07 08:25:00-04:00</td>\n",
       "      <td>2016-08-07 08:50:00-04:00</td>\n",
       "    </tr>\n",
       "    <tr>\n",
       "      <th>2</th>\n",
       "      <td>Women's Team 1/8 Eliminations BRZ V ITA</td>\n",
       "      <td>Archery</td>\n",
       "      <td>2016-08-07 08:50:00-04:00</td>\n",
       "      <td>2016-08-07 09:15:00-04:00</td>\n",
       "    </tr>\n",
       "    <tr>\n",
       "      <th>3</th>\n",
       "      <td>Women's Team 1/8 Eliminations IND V COL</td>\n",
       "      <td>Archery</td>\n",
       "      <td>2016-08-07 09:15:00-04:00</td>\n",
       "      <td>2016-08-07 09:40:00-04:00</td>\n",
       "    </tr>\n",
       "    <tr>\n",
       "      <th>4</th>\n",
       "      <td>Women's Team Quarterfinal MEX V TPE</td>\n",
       "      <td>Archery</td>\n",
       "      <td>2016-08-07 13:00:00-04:00</td>\n",
       "      <td>2016-08-07 13:25:00-04:00</td>\n",
       "    </tr>\n",
       "  </tbody>\n",
       "</table>\n",
       "</div>"
      ],
      "text/plain": [
       "                                      desc    sport               event_start  \\\n",
       "0  Women's Team 1/8 Eliminations MEX V GEO  Archery 2016-08-07 08:00:00-04:00   \n",
       "1  Women's Team 1/8 Eliminations JPN V UKR  Archery 2016-08-07 08:25:00-04:00   \n",
       "2  Women's Team 1/8 Eliminations BRZ V ITA  Archery 2016-08-07 08:50:00-04:00   \n",
       "3  Women's Team 1/8 Eliminations IND V COL  Archery 2016-08-07 09:15:00-04:00   \n",
       "4      Women's Team Quarterfinal MEX V TPE  Archery 2016-08-07 13:00:00-04:00   \n",
       "\n",
       "                  event_end  \n",
       "0 2016-08-07 08:25:00-04:00  \n",
       "1 2016-08-07 08:50:00-04:00  \n",
       "2 2016-08-07 09:15:00-04:00  \n",
       "3 2016-08-07 09:40:00-04:00  \n",
       "4 2016-08-07 13:25:00-04:00  "
      ]
     },
     "execution_count": 19,
     "metadata": {},
     "output_type": "execute_result"
    }
   ],
   "source": [
    "def get_sports(html):\n",
    "    # parsear html y recuperar el deporte de cada tabla\n",
    "    soup = BeautifulSoup(html, 'html5lib')\n",
    "    sports = soup.find_all(\"span\", class_=\"gel-pica-bold\") # retorna una lista\n",
    "    sports = [x.text.strip() for x in sports]\n",
    "    return sports\n",
    "\n",
    "def parse_day(html, day):\n",
    "    # recuperar tablas de eventos deportivos usando pandas\n",
    "    tablas = pd.read_html(html) \n",
    "    sports = get_sports(html)\n",
    "\n",
    "    # el numero de tablas debería ser el mismo que el numero de eventos\n",
    "    assert( len(tablas) == len(sports) )\n",
    "        \n",
    "    df = pd.concat([t.assign(sport = s) for t, s in zip(tablas, sports)])\n",
    "\n",
    "    # renombrar columnas\n",
    "    df = df.drop(2, axis='columns')\n",
    "    df = df.rename(columns={0:'time', 1:'desc'})\n",
    "\n",
    "    df = df[df['time'].str.contains('-')] #solo tabblas que contengan '-'\n",
    "    \n",
    "    parse_date = lambda x: pd.to_datetime('{} {}:00 +0100'.format(day.strip(), x.strip()),utc=True)\n",
    "    \n",
    "    df['event_start'] = df.time.str.split('-', expand=True)[0].map(parse_date)\n",
    "    df['event_end'] = df.time.str.split('-', expand=True)[1].map(parse_date)\n",
    "    df = df.drop('time', axis='columns')\n",
    "    \n",
    "    df['event_start'] = df.event_start.dt.tz_convert('America/Santiago')\n",
    "    df['event_end'] = df.event_end.dt.tz_convert('America/Santiago')\n",
    "    \n",
    "    return df\n",
    "\n",
    "parse_day(webpage.text, '2016-08-07').head()"
   ]
  },
  {
   "cell_type": "markdown",
   "metadata": {},
   "source": [
    "Funciona! 🎉🎉🎉"
   ]
  },
  {
   "cell_type": "markdown",
   "metadata": {},
   "source": [
    "Lo que haremos será descargar el HTML para cada día de las olimpiadas, desde el 2016-08-03 hasta el 2016-08-21. Este será el dataset **raw**."
   ]
  },
  {
   "cell_type": "code",
   "execution_count": 20,
   "metadata": {
    "collapsed": false
   },
   "outputs": [
    {
     "data": {
      "text/html": [
       "<div>\n",
       "<style>\n",
       "    .dataframe thead tr:only-child th {\n",
       "        text-align: right;\n",
       "    }\n",
       "\n",
       "    .dataframe thead th {\n",
       "        text-align: left;\n",
       "    }\n",
       "\n",
       "    .dataframe tbody tr th {\n",
       "        vertical-align: top;\n",
       "    }\n",
       "</style>\n",
       "<table border=\"1\" class=\"dataframe\">\n",
       "  <thead>\n",
       "    <tr style=\"text-align: right;\">\n",
       "      <th></th>\n",
       "      <th>day</th>\n",
       "      <th>url</th>\n",
       "      <th>filename</th>\n",
       "    </tr>\n",
       "  </thead>\n",
       "  <tbody>\n",
       "    <tr>\n",
       "      <th>0</th>\n",
       "      <td>2016-08-03</td>\n",
       "      <td>http://www.bbc.com/sport/olympics/rio-2016/sch...</td>\n",
       "      <td>data/bbcdata/2016-08-03.html</td>\n",
       "    </tr>\n",
       "    <tr>\n",
       "      <th>1</th>\n",
       "      <td>2016-08-04</td>\n",
       "      <td>http://www.bbc.com/sport/olympics/rio-2016/sch...</td>\n",
       "      <td>data/bbcdata/2016-08-04.html</td>\n",
       "    </tr>\n",
       "    <tr>\n",
       "      <th>2</th>\n",
       "      <td>2016-08-05</td>\n",
       "      <td>http://www.bbc.com/sport/olympics/rio-2016/sch...</td>\n",
       "      <td>data/bbcdata/2016-08-05.html</td>\n",
       "    </tr>\n",
       "    <tr>\n",
       "      <th>3</th>\n",
       "      <td>2016-08-06</td>\n",
       "      <td>http://www.bbc.com/sport/olympics/rio-2016/sch...</td>\n",
       "      <td>data/bbcdata/2016-08-06.html</td>\n",
       "    </tr>\n",
       "    <tr>\n",
       "      <th>4</th>\n",
       "      <td>2016-08-07</td>\n",
       "      <td>http://www.bbc.com/sport/olympics/rio-2016/sch...</td>\n",
       "      <td>data/bbcdata/2016-08-07.html</td>\n",
       "    </tr>\n",
       "  </tbody>\n",
       "</table>\n",
       "</div>"
      ],
      "text/plain": [
       "          day                                                url  \\\n",
       "0  2016-08-03  http://www.bbc.com/sport/olympics/rio-2016/sch...   \n",
       "1  2016-08-04  http://www.bbc.com/sport/olympics/rio-2016/sch...   \n",
       "2  2016-08-05  http://www.bbc.com/sport/olympics/rio-2016/sch...   \n",
       "3  2016-08-06  http://www.bbc.com/sport/olympics/rio-2016/sch...   \n",
       "4  2016-08-07  http://www.bbc.com/sport/olympics/rio-2016/sch...   \n",
       "\n",
       "                       filename  \n",
       "0  data/bbcdata/2016-08-03.html  \n",
       "1  data/bbcdata/2016-08-04.html  \n",
       "2  data/bbcdata/2016-08-05.html  \n",
       "3  data/bbcdata/2016-08-06.html  \n",
       "4  data/bbcdata/2016-08-07.html  "
      ]
     },
     "execution_count": 20,
     "metadata": {},
     "output_type": "execute_result"
    }
   ],
   "source": [
    "df = pd.DataFrame(pd.date_range('2016-08-03','2016-08-21').strftime('%Y-%m-%d'), columns=['day'])\n",
    "df['url'] = ('http://www.bbc.com/sport/olympics/rio-2016/schedule/' + df.day)\n",
    "df['filename'] = 'data/bbcdata/' + df.day + '.html'\n",
    "df.head()"
   ]
  },
  {
   "cell_type": "code",
   "execution_count": 21,
   "metadata": {
    "collapsed": false
   },
   "outputs": [],
   "source": [
    "def download(url, filename):\n",
    "    '''\n",
    "    Download a webpage, and save its content into a file.\n",
    "    '''\n",
    "    webpage = requests.get(url)\n",
    "    f = open(filename, 'wt')\n",
    "    f.write(webpage.text)\n",
    "    f.close()"
   ]
  },
  {
   "cell_type": "markdown",
   "metadata": {},
   "source": [
    "Ahora verificamos si el archivo con la página se guardó correctamente:"
   ]
  },
  {
   "cell_type": "code",
   "execution_count": 22,
   "metadata": {
    "collapsed": false
   },
   "outputs": [
    {
     "name": "stdout",
     "output_type": "stream",
     "text": [
      "    <!DOCTYPE html>  <html id=\"sport-html\" class=\"b-reith-sans-font no-js no-enhanced no-touch no-font-face no-av no-app no-csscolumns no-css-transitions no-css-2d-transforms no-flexbox no-svg\"  lang=\"en\"> <head> <title>Schedule - Rio 2016 - Olympic Games - BBC Sport</title> <meta http-equiv=\"X-UA-Compatible\" content=\"IE=edge\"/> <meta name=\"description\" content=\"Schedule for the Olympic Games 2016\" /> <meta name=\"keywords\" content=\"Rio 2016, Olympics 2016, Olympic Games, schedule, BBC, BBC Sport\" />  <meta property=\"og:site_name\" content=\"BBC Sport\"/>     <meta charset=\"UTF-8\"/>  <link rel=\"canonical\" href=\"http://www.bbc.com/sport/olympics/rio-2016/schedule/2016-08-03\" />   <link rel=\"alternate\" href=\"android-app://bbc.mobile.sport.ww/http/www.bbc.com/sport/olympics/rio-2016/schedule/2016-08-03\" />    <link rel=\"alternate\" hreflang=\"en\" href=\"http://www.bbc.com/sport/olympics/rio-2016/schedule/2016-08-03\" /> <link rel=\"alternate\" hreflang=\"en-gb\" href=\"http://www.bbc.co.uk/sport/olympics/rio-2016/schedule/2016-08-03\" />    <meta name=\"apple-mobile-web-app-title\" content=\"BBC Sport\" /> <script type=\"text/javascript\">var _sf_startpt=(new Date()).getTime()</script>  <meta name=\"apple-itunes-app\" content=\"app-id=594842980, app-argument=http://www.bbc.com/sport/olympics/rio-2016/schedule/2016-08-03\">  <link rel=\"apple-touch-icon\" href=\"http://static.bbci.co.uk/onesport/2.11.230/images/web-icons/bbc-sport-180.png\"/> <meta name=\"theme-color\" content=\"#ffd230\"> <meta name=\"application-name\" content=\"BBC Sport\"/> <meta name=\"msapplication-TileImage\" content=\"http://static.bbci.co.uk/onesport/2.11.230/images/web-icons/bbc-sport-144.png\"/> <meta name=\"msapplication-TileColor\" content=\"#ffd230\"/>     <meta property=\"og:type\" content=\"article\"/>  <meta property=\"og:site_name\" content=\"BBC Sport\"/>  <meta property=\"og:image\" content=\"http://newsimg.bbc.co.uk/media/images/67165000/jpg/_67165916_67165915.jpg\"/>  <meta property=\"og:url\" content=\"http://www.bbc.com/sport/olympics/rio-2016/schedule/2016-08-03\"/>  <meta property=\"fb:pages\" content=\"1392506827668140,137920769558355,193435954068976,118450564909230,100978706649892,15286229625,21263239760,122103087870579,120655094632228,102814153147070,124715648647,153132638110668,150467675018739,1033940569952576,857410004307950,624989267645024,1471706783148263,228735667216,317278538359186,958681370814419,260967092113,168895963122035,114010462015043,8251776107,273726292719943,232455204224,1436581493296609,8585725981,8244244903,470911516262605,413132078795966,7519460786,1470145583204829\"/>           <meta name=\"viewport\" content=\"width=device-width, initial-scale=1.0\" />  <meta property=\"fb:admins\" content=\"100004154058350\" />    \r\n"
     ]
    }
   ],
   "source": [
    "download(df.url[0], df.filename[0])\n",
    "!head -n1 data/bbcdata/2016-08-03.html"
   ]
  },
  {
   "cell_type": "markdown",
   "metadata": {},
   "source": [
    "Ahora que funciona, descargaremos la pagina de cada día:"
   ]
  },
  {
   "cell_type": "code",
   "execution_count": 23,
   "metadata": {
    "collapsed": false
   },
   "outputs": [
    {
     "name": "stdout",
     "output_type": "stream",
     "text": [
      "Downloading http://www.bbc.com/sport/olympics/rio-2016/schedule/2016-08-03\n",
      "Downloading http://www.bbc.com/sport/olympics/rio-2016/schedule/2016-08-04\n",
      "Downloading http://www.bbc.com/sport/olympics/rio-2016/schedule/2016-08-05\n",
      "Downloading http://www.bbc.com/sport/olympics/rio-2016/schedule/2016-08-06\n",
      "Downloading http://www.bbc.com/sport/olympics/rio-2016/schedule/2016-08-07\n",
      "Downloading http://www.bbc.com/sport/olympics/rio-2016/schedule/2016-08-08\n",
      "Downloading http://www.bbc.com/sport/olympics/rio-2016/schedule/2016-08-09\n",
      "Downloading http://www.bbc.com/sport/olympics/rio-2016/schedule/2016-08-10\n",
      "Downloading http://www.bbc.com/sport/olympics/rio-2016/schedule/2016-08-11\n",
      "Downloading http://www.bbc.com/sport/olympics/rio-2016/schedule/2016-08-12\n",
      "Downloading http://www.bbc.com/sport/olympics/rio-2016/schedule/2016-08-13\n",
      "Downloading http://www.bbc.com/sport/olympics/rio-2016/schedule/2016-08-14\n",
      "Downloading http://www.bbc.com/sport/olympics/rio-2016/schedule/2016-08-15\n",
      "Downloading http://www.bbc.com/sport/olympics/rio-2016/schedule/2016-08-16\n",
      "Downloading http://www.bbc.com/sport/olympics/rio-2016/schedule/2016-08-17\n",
      "Downloading http://www.bbc.com/sport/olympics/rio-2016/schedule/2016-08-18\n",
      "Downloading http://www.bbc.com/sport/olympics/rio-2016/schedule/2016-08-19\n",
      "Downloading http://www.bbc.com/sport/olympics/rio-2016/schedule/2016-08-20\n",
      "Downloading http://www.bbc.com/sport/olympics/rio-2016/schedule/2016-08-21\n"
     ]
    }
   ],
   "source": [
    "# descargar todos los sitios\n",
    "\n",
    "for row in df.itertuples():\n",
    "    print('Downloading', row.url)\n",
    "    download(row.url, row.filename)"
   ]
  },
  {
   "cell_type": "markdown",
   "metadata": {},
   "source": [
    "Y ahora procesaremos cada uno de los archivos descargados con la función de parsing:"
   ]
  },
  {
   "cell_type": "code",
   "execution_count": 25,
   "metadata": {
    "collapsed": true
   },
   "outputs": [],
   "source": [
    "def process_day(filename, day):\n",
    "    try:\n",
    "        return parse_day(open(filename).read(), day)\n",
    "    except:\n",
    "        raise Exception('Error en día {}'.format(day))"
   ]
  },
  {
   "cell_type": "code",
   "execution_count": 26,
   "metadata": {
    "collapsed": false
   },
   "outputs": [
    {
     "ename": "Exception",
     "evalue": "Error en día 2016-08-06",
     "output_type": "error",
     "traceback": [
      "\u001b[0;31m---------------------------------------------------------------------------\u001b[0m",
      "\u001b[0;31mAssertionError\u001b[0m                            Traceback (most recent call last)",
      "\u001b[0;32m<ipython-input-25-5fc2788a27b6>\u001b[0m in \u001b[0;36mprocess_day\u001b[0;34m(filename, day)\u001b[0m\n\u001b[1;32m      2\u001b[0m     \u001b[0;32mtry\u001b[0m\u001b[0;34m:\u001b[0m\u001b[0;34m\u001b[0m\u001b[0m\n\u001b[0;32m----> 3\u001b[0;31m         \u001b[0;32mreturn\u001b[0m \u001b[0mparse_day\u001b[0m\u001b[0;34m(\u001b[0m\u001b[0mopen\u001b[0m\u001b[0;34m(\u001b[0m\u001b[0mfilename\u001b[0m\u001b[0;34m)\u001b[0m\u001b[0;34m.\u001b[0m\u001b[0mread\u001b[0m\u001b[0;34m(\u001b[0m\u001b[0;34m)\u001b[0m\u001b[0;34m,\u001b[0m \u001b[0mday\u001b[0m\u001b[0;34m)\u001b[0m\u001b[0;34m\u001b[0m\u001b[0m\n\u001b[0m\u001b[1;32m      4\u001b[0m     \u001b[0;32mexcept\u001b[0m\u001b[0;34m:\u001b[0m\u001b[0;34m\u001b[0m\u001b[0m\n",
      "\u001b[0;32m<ipython-input-19-1b1c4d41d7e9>\u001b[0m in \u001b[0;36mparse_day\u001b[0;34m(html, day)\u001b[0m\n\u001b[1;32m     13\u001b[0m     \u001b[0;31m# el numero de tablas debería ser el mismo que el numero de eventos\u001b[0m\u001b[0;34m\u001b[0m\u001b[0;34m\u001b[0m\u001b[0m\n\u001b[0;32m---> 14\u001b[0;31m     \u001b[0;32massert\u001b[0m\u001b[0;34m(\u001b[0m \u001b[0mlen\u001b[0m\u001b[0;34m(\u001b[0m\u001b[0mtablas\u001b[0m\u001b[0;34m)\u001b[0m \u001b[0;34m==\u001b[0m \u001b[0mlen\u001b[0m\u001b[0;34m(\u001b[0m\u001b[0msports\u001b[0m\u001b[0;34m)\u001b[0m \u001b[0;34m)\u001b[0m\u001b[0;34m\u001b[0m\u001b[0m\n\u001b[0m\u001b[1;32m     15\u001b[0m \u001b[0;34m\u001b[0m\u001b[0m\n",
      "\u001b[0;31mAssertionError\u001b[0m: ",
      "\nDuring handling of the above exception, another exception occurred:\n",
      "\u001b[0;31mException\u001b[0m                                 Traceback (most recent call last)",
      "\u001b[0;32m<ipython-input-26-5dddea01dae9>\u001b[0m in \u001b[0;36m<module>\u001b[0;34m()\u001b[0m\n\u001b[0;32m----> 1\u001b[0;31m \u001b[0mtest_df\u001b[0m \u001b[0;34m=\u001b[0m \u001b[0;34m[\u001b[0m\u001b[0mprocess_day\u001b[0m\u001b[0;34m(\u001b[0m\u001b[0mrow\u001b[0m\u001b[0;34m.\u001b[0m\u001b[0mfilename\u001b[0m\u001b[0;34m,\u001b[0m \u001b[0mrow\u001b[0m\u001b[0;34m.\u001b[0m\u001b[0mday\u001b[0m\u001b[0;34m)\u001b[0m \u001b[0;32mfor\u001b[0m \u001b[0mrow\u001b[0m \u001b[0;32min\u001b[0m \u001b[0mdf\u001b[0m\u001b[0;34m.\u001b[0m\u001b[0mitertuples\u001b[0m\u001b[0;34m(\u001b[0m\u001b[0;34m)\u001b[0m\u001b[0;34m]\u001b[0m\u001b[0;34m\u001b[0m\u001b[0m\n\u001b[0m\u001b[1;32m      2\u001b[0m \u001b[0mtest_df\u001b[0m \u001b[0;34m=\u001b[0m \u001b[0mpd\u001b[0m\u001b[0;34m.\u001b[0m\u001b[0mconcat\u001b[0m\u001b[0;34m(\u001b[0m\u001b[0mtest_df\u001b[0m\u001b[0;34m)\u001b[0m\u001b[0;34m\u001b[0m\u001b[0m\n\u001b[1;32m      3\u001b[0m \u001b[0mtest_df\u001b[0m\u001b[0;34m.\u001b[0m\u001b[0mhead\u001b[0m\u001b[0;34m(\u001b[0m\u001b[0;34m)\u001b[0m\u001b[0;34m\u001b[0m\u001b[0m\n",
      "\u001b[0;32m<ipython-input-26-5dddea01dae9>\u001b[0m in \u001b[0;36m<listcomp>\u001b[0;34m(.0)\u001b[0m\n\u001b[0;32m----> 1\u001b[0;31m \u001b[0mtest_df\u001b[0m \u001b[0;34m=\u001b[0m \u001b[0;34m[\u001b[0m\u001b[0mprocess_day\u001b[0m\u001b[0;34m(\u001b[0m\u001b[0mrow\u001b[0m\u001b[0;34m.\u001b[0m\u001b[0mfilename\u001b[0m\u001b[0;34m,\u001b[0m \u001b[0mrow\u001b[0m\u001b[0;34m.\u001b[0m\u001b[0mday\u001b[0m\u001b[0;34m)\u001b[0m \u001b[0;32mfor\u001b[0m \u001b[0mrow\u001b[0m \u001b[0;32min\u001b[0m \u001b[0mdf\u001b[0m\u001b[0;34m.\u001b[0m\u001b[0mitertuples\u001b[0m\u001b[0;34m(\u001b[0m\u001b[0;34m)\u001b[0m\u001b[0;34m]\u001b[0m\u001b[0;34m\u001b[0m\u001b[0m\n\u001b[0m\u001b[1;32m      2\u001b[0m \u001b[0mtest_df\u001b[0m \u001b[0;34m=\u001b[0m \u001b[0mpd\u001b[0m\u001b[0;34m.\u001b[0m\u001b[0mconcat\u001b[0m\u001b[0;34m(\u001b[0m\u001b[0mtest_df\u001b[0m\u001b[0;34m)\u001b[0m\u001b[0;34m\u001b[0m\u001b[0m\n\u001b[1;32m      3\u001b[0m \u001b[0mtest_df\u001b[0m\u001b[0;34m.\u001b[0m\u001b[0mhead\u001b[0m\u001b[0;34m(\u001b[0m\u001b[0;34m)\u001b[0m\u001b[0;34m\u001b[0m\u001b[0m\n",
      "\u001b[0;32m<ipython-input-25-5fc2788a27b6>\u001b[0m in \u001b[0;36mprocess_day\u001b[0;34m(filename, day)\u001b[0m\n\u001b[1;32m      3\u001b[0m         \u001b[0;32mreturn\u001b[0m \u001b[0mparse_day\u001b[0m\u001b[0;34m(\u001b[0m\u001b[0mopen\u001b[0m\u001b[0;34m(\u001b[0m\u001b[0mfilename\u001b[0m\u001b[0;34m)\u001b[0m\u001b[0;34m.\u001b[0m\u001b[0mread\u001b[0m\u001b[0;34m(\u001b[0m\u001b[0;34m)\u001b[0m\u001b[0;34m,\u001b[0m \u001b[0mday\u001b[0m\u001b[0;34m)\u001b[0m\u001b[0;34m\u001b[0m\u001b[0m\n\u001b[1;32m      4\u001b[0m     \u001b[0;32mexcept\u001b[0m\u001b[0;34m:\u001b[0m\u001b[0;34m\u001b[0m\u001b[0m\n\u001b[0;32m----> 5\u001b[0;31m         \u001b[0;32mraise\u001b[0m \u001b[0mException\u001b[0m\u001b[0;34m(\u001b[0m\u001b[0;34m'Error en día {}'\u001b[0m\u001b[0;34m.\u001b[0m\u001b[0mformat\u001b[0m\u001b[0;34m(\u001b[0m\u001b[0mday\u001b[0m\u001b[0;34m)\u001b[0m\u001b[0;34m)\u001b[0m\u001b[0;34m\u001b[0m\u001b[0m\n\u001b[0m",
      "\u001b[0;31mException\u001b[0m: Error en día 2016-08-06"
     ]
    }
   ],
   "source": [
    "test_df = [process_day(row.filename, row.day) for row in df.itertuples()]\n",
    "test_df = pd.concat(test_df)\n",
    "test_df.head()"
   ]
  },
  {
   "cell_type": "markdown",
   "metadata": {},
   "source": [
    "Mmmm, uno de los días genera un error, veamos que puede ser."
   ]
  },
  {
   "cell_type": "code",
   "execution_count": 27,
   "metadata": {
    "collapsed": false
   },
   "outputs": [
    {
     "data": {
      "text/plain": [
       "(20, 21)"
      ]
     },
     "execution_count": 27,
     "metadata": {},
     "output_type": "execute_result"
    }
   ],
   "source": [
    "file_error = open('data/bbcdata/2016-08-06.html').read()\n",
    "len(pd.read_html(file_error)), len(get_sports(file_error))"
   ]
  },
  {
   "cell_type": "markdown",
   "metadata": {},
   "source": [
    "Ahá! El número de deportes para el 6 de agosto es mayor al número de tablas con datos! Veamos que sucede:"
   ]
  },
  {
   "cell_type": "code",
   "execution_count": 28,
   "metadata": {
    "collapsed": false
   },
   "outputs": [
    {
     "data": {
      "text/plain": [
       "['Opening Ceremony',\n",
       " 'Archery',\n",
       " 'Basketball',\n",
       " 'Boxing',\n",
       " 'Cycling',\n",
       " 'Equestrian',\n",
       " 'Fencing',\n",
       " 'Football',\n",
       " 'Gymnastics',\n",
       " 'Handball',\n",
       " 'Hockey',\n",
       " 'Judo',\n",
       " 'Rowing',\n",
       " 'Rugby Sevens',\n",
       " 'Shooting',\n",
       " 'Swimming',\n",
       " 'Table Tennis',\n",
       " 'Tennis',\n",
       " 'Volleyball',\n",
       " 'Water Polo',\n",
       " 'Weightlifting']"
      ]
     },
     "execution_count": 28,
     "metadata": {},
     "output_type": "execute_result"
    }
   ],
   "source": [
    "get_sports(file_error)"
   ]
  },
  {
   "cell_type": "markdown",
   "metadata": {},
   "source": [
    "Ahá!! Parece que el problema es una tabla que no existe... Modifiquemos la funcion ``get_sports`` para que no considere eventos con nombre \"Opening Ceremony\":"
   ]
  },
  {
   "cell_type": "code",
   "execution_count": 29,
   "metadata": {
    "collapsed": true
   },
   "outputs": [],
   "source": [
    "def get_sports(html):\n",
    "    # parsear html y recuperar el deporte de cada tabla\n",
    "    soup = BeautifulSoup(html, 'html5lib')\n",
    "    sports = soup.find_all(\"span\", class_=\"gel-pica-bold\") # retorna una lista\n",
    "    sports = [x.text.strip() for x in sports if ('Opening Ceremony' not in x.text)]\n",
    "    return sports"
   ]
  },
  {
   "cell_type": "code",
   "execution_count": 30,
   "metadata": {
    "collapsed": false
   },
   "outputs": [
    {
     "data": {
      "text/plain": [
       "['Archery',\n",
       " 'Basketball',\n",
       " 'Boxing',\n",
       " 'Cycling',\n",
       " 'Equestrian',\n",
       " 'Fencing',\n",
       " 'Football',\n",
       " 'Gymnastics',\n",
       " 'Handball',\n",
       " 'Hockey',\n",
       " 'Judo',\n",
       " 'Rowing',\n",
       " 'Rugby Sevens',\n",
       " 'Shooting',\n",
       " 'Swimming',\n",
       " 'Table Tennis',\n",
       " 'Tennis',\n",
       " 'Volleyball',\n",
       " 'Water Polo',\n",
       " 'Weightlifting']"
      ]
     },
     "execution_count": 30,
     "metadata": {},
     "output_type": "execute_result"
    }
   ],
   "source": [
    "get_sports(file_error)"
   ]
  },
  {
   "cell_type": "markdown",
   "metadata": {},
   "source": [
    "Ahora sí! Veamos que tal nos va con la nueva función para procesar los datos:"
   ]
  },
  {
   "cell_type": "code",
   "execution_count": 31,
   "metadata": {
    "collapsed": false
   },
   "outputs": [
    {
     "name": "stdout",
     "output_type": "stream",
     "text": [
      "CPU times: user 41 s, sys: 473 ms, total: 41.4 s\n",
      "Wall time: 41.9 s\n"
     ]
    }
   ],
   "source": [
    "%%time\n",
    "all_events_df = pd.concat([process_day(row.filename, row.day) for row in df.itertuples()])\n",
    "all_events_df.head()"
   ]
  },
  {
   "cell_type": "code",
   "execution_count": 33,
   "metadata": {
    "collapsed": false
   },
   "outputs": [
    {
     "data": {
      "text/plain": [
       "(3414, 4)"
      ]
     },
     "execution_count": 33,
     "metadata": {},
     "output_type": "execute_result"
    }
   ],
   "source": [
    "all_events_df.shape"
   ]
  },
  {
   "cell_type": "code",
   "execution_count": 34,
   "metadata": {
    "collapsed": false
   },
   "outputs": [
    {
     "data": {
      "text/html": [
       "<div>\n",
       "<style>\n",
       "    .dataframe thead tr:only-child th {\n",
       "        text-align: right;\n",
       "    }\n",
       "\n",
       "    .dataframe thead th {\n",
       "        text-align: left;\n",
       "    }\n",
       "\n",
       "    .dataframe tbody tr th {\n",
       "        vertical-align: top;\n",
       "    }\n",
       "</style>\n",
       "<table border=\"1\" class=\"dataframe\">\n",
       "  <thead>\n",
       "    <tr style=\"text-align: right;\">\n",
       "      <th></th>\n",
       "      <th>desc</th>\n",
       "      <th>sport</th>\n",
       "      <th>event_start</th>\n",
       "      <th>event_end</th>\n",
       "    </tr>\n",
       "  </thead>\n",
       "  <tbody>\n",
       "    <tr>\n",
       "      <th>0</th>\n",
       "      <td>Women's First Round - Group E SWE V SA</td>\n",
       "      <td>Football</td>\n",
       "      <td>2016-08-03 12:00:00-04:00</td>\n",
       "      <td>2016-08-03 13:53:00-04:00</td>\n",
       "    </tr>\n",
       "    <tr>\n",
       "      <th>1</th>\n",
       "      <td>Women's First Round - Group F CAN V AUS</td>\n",
       "      <td>Football</td>\n",
       "      <td>2016-08-03 14:00:00-04:00</td>\n",
       "      <td>2016-08-03 15:52:00-04:00</td>\n",
       "    </tr>\n",
       "    <tr>\n",
       "      <th>2</th>\n",
       "      <td>Women's First Round - Group E BRZ V CHN</td>\n",
       "      <td>Football</td>\n",
       "      <td>2016-08-03 15:00:00-04:00</td>\n",
       "      <td>2016-08-03 16:51:00-04:00</td>\n",
       "    </tr>\n",
       "    <tr>\n",
       "      <th>3</th>\n",
       "      <td>Women's First Round - Group F ZIM V GER</td>\n",
       "      <td>Football</td>\n",
       "      <td>2016-08-03 17:00:00-04:00</td>\n",
       "      <td>2016-08-03 18:53:00-04:00</td>\n",
       "    </tr>\n",
       "    <tr>\n",
       "      <th>4</th>\n",
       "      <td>Women's First Round - Group G US V NZ</td>\n",
       "      <td>Football</td>\n",
       "      <td>2016-08-03 18:00:00-04:00</td>\n",
       "      <td>2016-08-02 19:50:00-04:00</td>\n",
       "    </tr>\n",
       "  </tbody>\n",
       "</table>\n",
       "</div>"
      ],
      "text/plain": [
       "                                      desc     sport  \\\n",
       "0   Women's First Round - Group E SWE V SA  Football   \n",
       "1  Women's First Round - Group F CAN V AUS  Football   \n",
       "2  Women's First Round - Group E BRZ V CHN  Football   \n",
       "3  Women's First Round - Group F ZIM V GER  Football   \n",
       "4    Women's First Round - Group G US V NZ  Football   \n",
       "\n",
       "                event_start                 event_end  \n",
       "0 2016-08-03 12:00:00-04:00 2016-08-03 13:53:00-04:00  \n",
       "1 2016-08-03 14:00:00-04:00 2016-08-03 15:52:00-04:00  \n",
       "2 2016-08-03 15:00:00-04:00 2016-08-03 16:51:00-04:00  \n",
       "3 2016-08-03 17:00:00-04:00 2016-08-03 18:53:00-04:00  \n",
       "4 2016-08-03 18:00:00-04:00 2016-08-02 19:50:00-04:00  "
      ]
     },
     "execution_count": 34,
     "metadata": {},
     "output_type": "execute_result"
    }
   ],
   "source": [
    "all_events_df.head()"
   ]
  },
  {
   "cell_type": "markdown",
   "metadata": {},
   "source": [
    "Todo bien!!"
   ]
  },
  {
   "cell_type": "code",
   "execution_count": 35,
   "metadata": {
    "collapsed": false
   },
   "outputs": [
    {
     "data": {
      "text/plain": [
       "Wrestling                410\n",
       "Boxing                   273\n",
       "Fencing                  269\n",
       "Tennis                   217\n",
       "Badminton                207\n",
       "Judo                     204\n",
       "Volleyball               182\n",
       "Table Tennis             172\n",
       "Archery                  156\n",
       "Taekwondo                152\n",
       "Sailing                  120\n",
       "Athletics                118\n",
       "Gymnastics                92\n",
       "Swimming                  86\n",
       "Hockey                    76\n",
       "Handball                  76\n",
       "Basketball                76\n",
       "Rowing                    72\n",
       "Rugby Sevens              68\n",
       "Water Polo                66\n",
       "Football                  58\n",
       "Cycling                   58\n",
       "Canoeing                  52\n",
       "Shooting                  51\n",
       "Equestrian                33\n",
       "Weightlifting             29\n",
       "Diving                    16\n",
       "Modern Pentathlon         10\n",
       "Golf                       8\n",
       "Synchronised Swimming      5\n",
       "Triathlon                  2\n",
       "Name: sport, dtype: int64"
      ]
     },
     "execution_count": 35,
     "metadata": {},
     "output_type": "execute_result"
    }
   ],
   "source": [
    "all_events_df.sport.value_counts()"
   ]
  },
  {
   "cell_type": "markdown",
   "metadata": {},
   "source": [
    "# Extra: procesamiento en paralelo :)\n",
    "\n",
    "Extraer la información de las 19 páginas de las olimpiadas toma unos 40 segundos, más o menos 2 segundos por página. No es mucho tiempo, pero si quisieramos procesar todas los artículos de Wikipedia (son unos 5 millones) el proceso tomaría 117 días.\n",
    "\n",
    "Una forma de acelerar el proceso (sin adentrarse en las oscuras aguas de la optimización de las librerías que usamos) es procesar los datos en paralelo. A continuación usaremos el modulo [Joblib](https://pythonhosted.org/joblib/parallel.html) que permite realizar tareas en paralelo de una forma muy sencilla."
   ]
  },
  {
   "cell_type": "code",
   "execution_count": 37,
   "metadata": {
    "collapsed": true
   },
   "outputs": [],
   "source": [
    "from joblib import Parallel, delayed"
   ]
  },
  {
   "cell_type": "markdown",
   "metadata": {},
   "source": [
    "Joblib ejecuta funciones en paralelo. El nombre de la función a ejecutar se debe indicar como parámetro de la función ``delayed(...)``. La cantidad de procesadores a usar se indica con la variable ``n_jobs``, en este caso usaremos dos. La función ``process_day(...)`` que definimos anteriormente es la que se ejectutará en paralelo:"
   ]
  },
  {
   "cell_type": "code",
   "execution_count": 39,
   "metadata": {
    "collapsed": false
   },
   "outputs": [
    {
     "name": "stderr",
     "output_type": "stream",
     "text": [
      "[Parallel(n_jobs=2)]: Done  19 out of  19 | elapsed:   23.1s finished\n"
     ]
    },
    {
     "data": {
      "text/html": [
       "<div>\n",
       "<style>\n",
       "    .dataframe thead tr:only-child th {\n",
       "        text-align: right;\n",
       "    }\n",
       "\n",
       "    .dataframe thead th {\n",
       "        text-align: left;\n",
       "    }\n",
       "\n",
       "    .dataframe tbody tr th {\n",
       "        vertical-align: top;\n",
       "    }\n",
       "</style>\n",
       "<table border=\"1\" class=\"dataframe\">\n",
       "  <thead>\n",
       "    <tr style=\"text-align: right;\">\n",
       "      <th></th>\n",
       "      <th>desc</th>\n",
       "      <th>sport</th>\n",
       "      <th>event_start</th>\n",
       "      <th>event_end</th>\n",
       "    </tr>\n",
       "  </thead>\n",
       "  <tbody>\n",
       "    <tr>\n",
       "      <th>0</th>\n",
       "      <td>Women's First Round - Group E SWE V SA</td>\n",
       "      <td>Football</td>\n",
       "      <td>2016-08-03 12:00:00-04:00</td>\n",
       "      <td>2016-08-03 13:53:00-04:00</td>\n",
       "    </tr>\n",
       "    <tr>\n",
       "      <th>1</th>\n",
       "      <td>Women's First Round - Group F CAN V AUS</td>\n",
       "      <td>Football</td>\n",
       "      <td>2016-08-03 14:00:00-04:00</td>\n",
       "      <td>2016-08-03 15:52:00-04:00</td>\n",
       "    </tr>\n",
       "    <tr>\n",
       "      <th>2</th>\n",
       "      <td>Women's First Round - Group E BRZ V CHN</td>\n",
       "      <td>Football</td>\n",
       "      <td>2016-08-03 15:00:00-04:00</td>\n",
       "      <td>2016-08-03 16:51:00-04:00</td>\n",
       "    </tr>\n",
       "    <tr>\n",
       "      <th>3</th>\n",
       "      <td>Women's First Round - Group F ZIM V GER</td>\n",
       "      <td>Football</td>\n",
       "      <td>2016-08-03 17:00:00-04:00</td>\n",
       "      <td>2016-08-03 18:53:00-04:00</td>\n",
       "    </tr>\n",
       "    <tr>\n",
       "      <th>4</th>\n",
       "      <td>Women's First Round - Group G US V NZ</td>\n",
       "      <td>Football</td>\n",
       "      <td>2016-08-03 18:00:00-04:00</td>\n",
       "      <td>2016-08-02 19:50:00-04:00</td>\n",
       "    </tr>\n",
       "  </tbody>\n",
       "</table>\n",
       "</div>"
      ],
      "text/plain": [
       "                                      desc     sport  \\\n",
       "0   Women's First Round - Group E SWE V SA  Football   \n",
       "1  Women's First Round - Group F CAN V AUS  Football   \n",
       "2  Women's First Round - Group E BRZ V CHN  Football   \n",
       "3  Women's First Round - Group F ZIM V GER  Football   \n",
       "4    Women's First Round - Group G US V NZ  Football   \n",
       "\n",
       "                event_start                 event_end  \n",
       "0 2016-08-03 12:00:00-04:00 2016-08-03 13:53:00-04:00  \n",
       "1 2016-08-03 14:00:00-04:00 2016-08-03 15:52:00-04:00  \n",
       "2 2016-08-03 15:00:00-04:00 2016-08-03 16:51:00-04:00  \n",
       "3 2016-08-03 17:00:00-04:00 2016-08-03 18:53:00-04:00  \n",
       "4 2016-08-03 18:00:00-04:00 2016-08-02 19:50:00-04:00  "
      ]
     },
     "execution_count": 39,
     "metadata": {},
     "output_type": "execute_result"
    }
   ],
   "source": [
    "pardf = Parallel(n_jobs=2, verbose=1)(delayed(process_day)(row.filename, row.day) for row in df.itertuples())\n",
    "pardf = pd.concat(pardf)\n",
    "pardf.head()"
   ]
  },
  {
   "cell_type": "markdown",
   "metadata": {},
   "source": [
    "Usando dos procesadores logramos reducir el tiempo de ejecución a la mitad, casi 1 segundo por cada archivo html."
   ]
  },
  {
   "cell_type": "markdown",
   "metadata": {},
   "source": [
    "# Resumen\n",
    "\n",
    "En este tutorial revisamos cómo extraer información desde la web usando Python. Lo primero es definir que tipo de información necesitamos e identificar desde donde podemos recuperarla.\n",
    "Lo siguiente es descargar y procesar los datos. Sugiero seguir estos pasos para hacer el proceso reproducible:\n",
    "\n",
    "1. Revisar si Pandas puede extraer datos desde los documentos html.\n",
    "2. Si no se puede, utilizar BeautifoulSoup y diseñar a mano las reglas para extraer información que necesitas.\n",
    "3. Descargar y guardar los archivos html. Así no dependemos de acceso a la red si debemos re-diseñar las reglas.\n",
    "4. Crear un Notebook con todo el proceso. Un buen código es el que tu equipo entiende.\n",
    "5. (opcional) Si el tiempo de ejecución es excesivo, hazlo en paralelo.\n",
    "\n",
    "Si necesitas extraer información de un sitio web completo te sugiero que revises Scrapy https://doc.scrapy.org/en/latest/intro/tutorial.html"
   ]
  },
  {
   "cell_type": "markdown",
   "metadata": {},
   "source": [
    "# 🎉🎉🎉 "
   ]
  }
 ],
 "metadata": {
  "kernelspec": {
   "display_name": "Python 3",
   "language": "python",
   "name": "python3"
  },
  "language_info": {
   "codemirror_mode": {
    "name": "ipython",
    "version": 3
   },
   "file_extension": ".py",
   "mimetype": "text/x-python",
   "name": "python",
   "nbconvert_exporter": "python",
   "pygments_lexer": "ipython3",
   "version": "3.6.2"
  }
 },
 "nbformat": 4,
 "nbformat_minor": 1
}
