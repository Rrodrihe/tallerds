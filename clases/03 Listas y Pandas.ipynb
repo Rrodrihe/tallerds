{
 "cells": [
  {
   "cell_type": "markdown",
   "metadata": {
    "colab_type": "text",
    "id": "Hm5ybfX4CIvp"
   },
   "source": [
    "**Metadata**: Estos notebooks están (más que) inspirados en el excelente trabajo de [Jake Vanderplas](https://github.com/jakevdp/) y su [Whirlwind Tour Of Python](https://github.com/jakevdp/WhirlwindTourOfPython). Ver A Whirlwind Tour of Python by Jake VanderPlas (O’Reilly). Copyright 2016 O’Reilly Media, Inc., 978-1-491-96465-1.\". Estos notebooks están protegidos con la misma licencia de los originales, [Creative Commons 0](). Todas las notas están disponibles en [PrograUDD](https://github.com/leoferres/prograUDD).\n",
    "\n",
    "**Nota**: Estos notebooks están basados en la cátedra de programación dirigida por el Excmo. Sr. Dr. [Leo Ferres](https://github.com/leoferres). \n",
    "Bajo licencia [Creative Commons 0](). Todas las notas están disponibles en [TallerDataScience](https://github.com/diegocaro/tallerds).\n",
    "\n",
    "\n",
    "**Nota2**: Esta presentación basada en el trabajo de [Jake Vanderplas](https://github.com/jakevdp/) https://github.com/jakevdp/PythonDataScienceHandbook. Bajo licencia CC0.\n"
   ]
  },
  {
   "cell_type": "markdown",
   "metadata": {
    "colab_type": "text",
    "id": "pLdUgUKvCIvr"
   },
   "source": [
    "# Objetivos de la clase\n",
    "1. Elaborar código Python usando estructuras de datos ``list`` y ``str``.\n",
    "1. Analizar datos usando el módulo Pandas."
   ]
  },
  {
   "cell_type": "markdown",
   "metadata": {
    "colab_type": "text",
    "id": "GT_pZDsbCIvt"
   },
   "source": [
    "# Ciclos iterativos aka ``for``\n",
    "\n",
    "Los loops en Python son una manera de ejecutar código repetidamente. Supongamos que queremos imprimir todos los elementos de una lista:"
   ]
  },
  {
   "cell_type": "code",
   "execution_count": 2,
   "metadata": {
    "colab": {
     "autoexec": {
      "startup": false,
      "wait_interval": 0
     },
     "base_uri": "https://localhost:8080/",
     "height": 34,
     "output_extras": [
      {}
     ]
    },
    "colab_type": "code",
    "executionInfo": {
     "elapsed": 715,
     "status": "ok",
     "timestamp": 1522266014315,
     "user": {
      "displayName": "Diego Felipe Caro Alarcon",
      "photoUrl": "//lh5.googleusercontent.com/-K5lRoBE-ong/AAAAAAAAAAI/AAAAAAAAAA8/t6gy1bbvins/s50-c-k-no/photo.jpg",
      "userId": "108760031624692046565"
     },
     "user_tz": 180
    },
    "id": "EvpoB5RUCIvt",
    "outputId": "462eaa8b-173a-454c-b371-42e07360f75d"
   },
   "outputs": [
    {
     "name": "stdout",
     "output_type": "stream",
     "text": [
      "2 3 5 7 "
     ]
    }
   ],
   "source": [
    "for k in [2, 3, 5, 7]:\n",
    "    print(k, end=' ')"
   ]
  },
  {
   "cell_type": "markdown",
   "metadata": {
    "colab_type": "text",
    "id": "RPyqb7BYCIv0"
   },
   "source": [
    "Fíjense las partes del loop: el `for`, una variable `k` para mantener estado, el operador de membresía `in` y la lista misma. \n",
    "\n",
    "**Es casi lenguaje natural**\n",
    "\n",
    "La parte más a la derecha del ciclo for (donde está la lista) puede ser cualquier *iterador* (un objeto que podamos \"recorrer\"), para más información revisar [aqui](http://anandology.com/python-practice-book/iterators.html)."
   ]
  },
  {
   "cell_type": "markdown",
   "metadata": {
    "colab_type": "text",
    "id": "28ubktSpCIv0"
   },
   "source": [
    "Uno de los iteradores más comunes de Python es la función `range()`, que genera una secuencia de números."
   ]
  },
  {
   "cell_type": "code",
   "execution_count": 3,
   "metadata": {
    "colab": {
     "autoexec": {
      "startup": false,
      "wait_interval": 0
     },
     "base_uri": "https://localhost:8080/",
     "height": 34,
     "output_extras": [
      {}
     ]
    },
    "colab_type": "code",
    "executionInfo": {
     "elapsed": 25180,
     "status": "ok",
     "timestamp": 1522266045554,
     "user": {
      "displayName": "Diego Felipe Caro Alarcon",
      "photoUrl": "//lh5.googleusercontent.com/-K5lRoBE-ong/AAAAAAAAAAI/AAAAAAAAAA8/t6gy1bbvins/s50-c-k-no/photo.jpg",
      "userId": "108760031624692046565"
     },
     "user_tz": 180
    },
    "id": "NzR2YYgYCIv1",
    "outputId": "a341cf36-812d-4e88-ffa4-e85e7e0d7e28"
   },
   "outputs": [
    {
     "name": "stdout",
     "output_type": "stream",
     "text": [
      "0 1 2 3 4 5 6 7 8 9 "
     ]
    }
   ],
   "source": [
    "for i in range(10):\n",
    "    print(i, end=' ')"
   ]
  },
  {
   "cell_type": "markdown",
   "metadata": {
    "colab_type": "text",
    "id": "ExoxWu7PCIv4"
   },
   "source": [
    "Noten que siempre las iteraciones empiezan con 0 y que por convención el último elemento del objeto no se incluye (el número \"10\" en este caso). El objeto `range` puede tomar secuencias (rangos, por eso el nombre) más complicados, por ejemplo:"
   ]
  },
  {
   "cell_type": "code",
   "execution_count": 4,
   "metadata": {
    "colab": {
     "autoexec": {
      "startup": false,
      "wait_interval": 0
     },
     "output_extras": [
      {}
     ]
    },
    "colab_type": "code",
    "id": "505WADAmCIv5",
    "outputId": "0186cb56-789a-44e5-c4b0-be3bc340617e"
   },
   "outputs": [
    {
     "data": {
      "text/plain": [
       "[5, 6, 7, 8, 9]"
      ]
     },
     "execution_count": 4,
     "metadata": {},
     "output_type": "execute_result"
    }
   ],
   "source": [
    "# range de 5 a 10\n",
    "list(range(5, 10))"
   ]
  },
  {
   "cell_type": "code",
   "execution_count": 5,
   "metadata": {
    "colab": {
     "autoexec": {
      "startup": false,
      "wait_interval": 0
     },
     "output_extras": [
      {}
     ]
    },
    "colab_type": "code",
    "id": "y1JFyqyTCIv9",
    "outputId": "2949df9b-dc01-4b94-b214-b028246dba72"
   },
   "outputs": [
    {
     "data": {
      "text/plain": [
       "[0, 2, 4, 6, 8]"
      ]
     },
     "execution_count": 5,
     "metadata": {},
     "output_type": "execute_result"
    }
   ],
   "source": [
    "# range de 0 a 10 de a 2\n",
    "list(range(0, 10, 2))"
   ]
  },
  {
   "cell_type": "code",
   "execution_count": 6,
   "metadata": {
    "colab": {
     "autoexec": {
      "startup": false,
      "wait_interval": 0
     },
     "base_uri": "https://localhost:8080/",
     "height": 34,
     "output_extras": [
      {}
     ]
    },
    "colab_type": "code",
    "executionInfo": {
     "elapsed": 727,
     "status": "ok",
     "timestamp": 1522345866545,
     "user": {
      "displayName": "Diego Felipe Caro Alarcon",
      "photoUrl": "//lh5.googleusercontent.com/-K5lRoBE-ong/AAAAAAAAAAI/AAAAAAAAAA8/t6gy1bbvins/s50-c-k-no/photo.jpg",
      "userId": "108760031624692046565"
     },
     "user_tz": 180
    },
    "id": "tbcfLEtD4kyF",
    "outputId": "6f7a4a05-4447-48c4-ec58-6a6e18944c0d"
   },
   "outputs": [
    {
     "data": {
      "text/plain": [
       "range(5, 10)"
      ]
     },
     "execution_count": 6,
     "metadata": {},
     "output_type": "execute_result"
    }
   ],
   "source": [
    "range(5,10)"
   ]
  },
  {
   "cell_type": "markdown",
   "metadata": {
    "colab_type": "text",
    "id": "uW4Di14JCIwB"
   },
   "source": [
    "Vocabulario:\n",
    "- Usaremos la palabra **iterar** cuando se debe ejecutar un ciclo para computar algún valor."
   ]
  },
  {
   "cell_type": "markdown",
   "metadata": {
    "colab_type": "text",
    "id": "TKg8qar-CIwJ"
   },
   "source": [
    "## `break` y `continue`\n",
    "\n",
    "Algunas veces se necesita interrumpir el código\n",
    "\n",
    " - `break` detiene el loop\n",
    " - `continue` se salta a la siguiente iteración del código"
   ]
  },
  {
   "cell_type": "code",
   "execution_count": 7,
   "metadata": {
    "colab": {
     "autoexec": {
      "startup": false,
      "wait_interval": 0
     },
     "output_extras": [
      {}
     ]
    },
    "colab_type": "code",
    "id": "h1knzTivCIwJ",
    "outputId": "55383416-0881-4644-fa39-1fdc4c286dd0"
   },
   "outputs": [
    {
     "name": "stdout",
     "output_type": "stream",
     "text": [
      "1 3 5 7 9 11 13 15 17 19 "
     ]
    }
   ],
   "source": [
    "for n in range(20):\n",
    "    # si el resto es 0, salte lo que queda de la iteración\n",
    "    if n % 2 == 0:\n",
    "        continue\n",
    "    print(n, end=' ')"
   ]
  },
  {
   "cell_type": "code",
   "execution_count": 8,
   "metadata": {
    "colab": {
     "autoexec": {
      "startup": false,
      "wait_interval": 0
     },
     "base_uri": "https://localhost:8080/",
     "height": 34,
     "output_extras": [
      {}
     ]
    },
    "colab_type": "code",
    "executionInfo": {
     "elapsed": 563,
     "status": "ok",
     "timestamp": 1522346170716,
     "user": {
      "displayName": "Diego Felipe Caro Alarcon",
      "photoUrl": "//lh5.googleusercontent.com/-K5lRoBE-ong/AAAAAAAAAAI/AAAAAAAAAA8/t6gy1bbvins/s50-c-k-no/photo.jpg",
      "userId": "108760031624692046565"
     },
     "user_tz": 180
    },
    "id": "ecyCOT245pu2",
    "outputId": "e3ac217a-d6e9-4465-ac4d-4801c42512b3"
   },
   "outputs": [
    {
     "name": "stdout",
     "output_type": "stream",
     "text": [
      "0 1 2 3 4 "
     ]
    }
   ],
   "source": [
    "for n in range(20):\n",
    "    # si el resto es 0, salte lo que queda de la iteración\n",
    "    if n == 5:\n",
    "        break\n",
    "    print(n, end=' ')"
   ]
  },
  {
   "cell_type": "code",
   "execution_count": 9,
   "metadata": {
    "colab": {
     "autoexec": {
      "startup": false,
      "wait_interval": 0
     },
     "base_uri": "https://localhost:8080/",
     "height": 34,
     "output_extras": [
      {}
     ]
    },
    "colab_type": "code",
    "executionInfo": {
     "elapsed": 579,
     "status": "ok",
     "timestamp": 1522346136972,
     "user": {
      "displayName": "Diego Felipe Caro Alarcon",
      "photoUrl": "//lh5.googleusercontent.com/-K5lRoBE-ong/AAAAAAAAAAI/AAAAAAAAAA8/t6gy1bbvins/s50-c-k-no/photo.jpg",
      "userId": "108760031624692046565"
     },
     "user_tz": 180
    },
    "id": "y_IJy_To5Q7j",
    "outputId": "abc4c7a2-1358-4bf7-c48f-ef53206cd614"
   },
   "outputs": [
    {
     "name": "stdout",
     "output_type": "stream",
     "text": [
      "caso 1\n"
     ]
    }
   ],
   "source": [
    "nombre = \"pablo\"\n",
    "if nombre != \"jose\":\n",
    "  print('caso 1')"
   ]
  },
  {
   "cell_type": "markdown",
   "metadata": {
    "colab_type": "text",
    "id": "G1fsjZqLCIwQ"
   },
   "source": [
    "# Estructuras de datos!\n",
    "\n",
    "\n",
    "Hemos visto los tipos de datos simples de Python: `int`, `float`, `str`, etc. Python también tiene algunas tipos de datos complejos:\n",
    "\n",
    "| Tipo | Ejemplo                    |Descripción                            |\n",
    "    |-----------|---------------------------|---------------------------------------|\n",
    "    | ``list``  | ``[1, 2, 3]``             | colección                     |\n",
    "    | ``tuple`` | ``(1, 2, 3)``             |colección ordenada inmutable (no se puede actualizar)          |\n",
    "    | ``dict``  | ``{'a':1, 'b':2, 'c':3}``  | Diccionario (llave,valor) sin orden         |\n",
    "    | ``set``   | ``{1, 2, 3}``              |Conjunto, colección sin orden objectos únicos |\n",
    "    \n",
    "Como ven, lo que define el tipo de objetos son los parentesis, corchetes, y llaves con ciertas pequeñas diferencias."
   ]
  },
  {
   "cell_type": "markdown",
   "metadata": {
    "colab_type": "text",
    "id": "cepHnYcOCIwR"
   },
   "source": [
    "## Las listas\n",
    "\n",
    "Una lista es una colección de objetos ordenados de la misma manera en que fueron insertados.\n",
    "Se definen con los valores separados por comas:\n"
   ]
  },
  {
   "cell_type": "code",
   "execution_count": 10,
   "metadata": {
    "colab": {
     "autoexec": {
      "startup": false,
      "wait_interval": 0
     }
    },
    "colab_type": "code",
    "id": "K6x0CyP3CIwS"
   },
   "outputs": [],
   "source": [
    "L = [7, 3, 5, 2]"
   ]
  },
  {
   "cell_type": "code",
   "execution_count": 11,
   "metadata": {
    "colab": {
     "autoexec": {
      "startup": false,
      "wait_interval": 0
     },
     "base_uri": "https://localhost:8080/",
     "height": 34,
     "output_extras": [
      {}
     ]
    },
    "colab_type": "code",
    "executionInfo": {
     "elapsed": 602,
     "status": "ok",
     "timestamp": 1522346294465,
     "user": {
      "displayName": "Diego Felipe Caro Alarcon",
      "photoUrl": "//lh5.googleusercontent.com/-K5lRoBE-ong/AAAAAAAAAAI/AAAAAAAAAA8/t6gy1bbvins/s50-c-k-no/photo.jpg",
      "userId": "108760031624692046565"
     },
     "user_tz": 180
    },
    "id": "XHDn4_UKCIwV",
    "outputId": "b70be8c8-357e-489d-87b0-c56935419619"
   },
   "outputs": [
    {
     "data": {
      "text/plain": [
       "[7, 3, 5, 2]"
      ]
     },
     "execution_count": 11,
     "metadata": {},
     "output_type": "execute_result"
    }
   ],
   "source": [
    "L # ¿Qué pasó aquí? ¿Por qué se imprimió sin usar \"print\"?"
   ]
  },
  {
   "cell_type": "markdown",
   "metadata": {
    "colab_type": "text",
    "id": "O_bYXiRyCIwZ"
   },
   "source": [
    "Hay una serie de **métodos** disponibles para las listas, veamos algunos de los más comunes:\n",
    "\n",
    "(Recordar que un **método** es una mecanismo que permite acceder y modificar el contenido de una variable)"
   ]
  },
  {
   "cell_type": "code",
   "execution_count": 12,
   "metadata": {
    "colab": {
     "autoexec": {
      "startup": false,
      "wait_interval": 0
     },
     "output_extras": [
      {}
     ]
    },
    "colab_type": "code",
    "id": "SgFb8TVCCIwb",
    "outputId": "bf98dc00-f467-4eb1-fa35-ec5ce5d294a2"
   },
   "outputs": [
    {
     "data": {
      "text/plain": [
       "4"
      ]
     },
     "execution_count": 12,
     "metadata": {},
     "output_type": "execute_result"
    }
   ],
   "source": [
    "# largo de la lista\n",
    "len(L)"
   ]
  },
  {
   "cell_type": "code",
   "execution_count": 13,
   "metadata": {
    "colab": {
     "autoexec": {
      "startup": false,
      "wait_interval": 0
     },
     "output_extras": [
      {}
     ]
    },
    "colab_type": "code",
    "id": "F3A-VuwlCIwf",
    "outputId": "61ebf024-7d55-41c8-faca-6bb45e45915a"
   },
   "outputs": [
    {
     "data": {
      "text/plain": [
       "[7, 3, 5, 2, 11]"
      ]
     },
     "execution_count": 13,
     "metadata": {},
     "output_type": "execute_result"
    }
   ],
   "source": [
    "# agregar un elemento a la lista\n",
    "L.append(11)\n",
    "L"
   ]
  },
  {
   "cell_type": "code",
   "execution_count": 14,
   "metadata": {
    "colab": {
     "autoexec": {
      "startup": false,
      "wait_interval": 0
     },
     "output_extras": [
      {}
     ]
    },
    "colab_type": "code",
    "id": "G1UdP0pwCIwm",
    "outputId": "734f8d88-c207-4405-8c7d-c11d066b4d95"
   },
   "outputs": [
    {
     "data": {
      "text/plain": [
       "[7, 3, 5, 2, 11, 13, 17, 19]"
      ]
     },
     "execution_count": 14,
     "metadata": {},
     "output_type": "execute_result"
    }
   ],
   "source": [
    "# aquí, la operación de suma concatena (une) listas\n",
    "L + [13, 17, 19]"
   ]
  },
  {
   "cell_type": "code",
   "execution_count": 15,
   "metadata": {
    "colab": {
     "autoexec": {
      "startup": false,
      "wait_interval": 0
     },
     "base_uri": "https://localhost:8080/",
     "height": 34,
     "output_extras": [
      {}
     ]
    },
    "colab_type": "code",
    "executionInfo": {
     "elapsed": 570,
     "status": "ok",
     "timestamp": 1522346446314,
     "user": {
      "displayName": "Diego Felipe Caro Alarcon",
      "photoUrl": "//lh5.googleusercontent.com/-K5lRoBE-ong/AAAAAAAAAAI/AAAAAAAAAA8/t6gy1bbvins/s50-c-k-no/photo.jpg",
      "userId": "108760031624692046565"
     },
     "user_tz": 180
    },
    "id": "5uTX-wV36uF4",
    "outputId": "d3d6b129-2a77-41b7-e7ff-59e848124ed5"
   },
   "outputs": [
    {
     "data": {
      "text/plain": [
       "[7, 3, 5, 2, 11, 11, 33, 44]"
      ]
     },
     "execution_count": 15,
     "metadata": {},
     "output_type": "execute_result"
    }
   ],
   "source": [
    "nuevalista = L +[11, 33, 44]\n",
    "nuevalista"
   ]
  },
  {
   "cell_type": "code",
   "execution_count": 16,
   "metadata": {
    "colab": {
     "autoexec": {
      "startup": false,
      "wait_interval": 0
     },
     "base_uri": "https://localhost:8080/",
     "height": 34,
     "output_extras": [
      {}
     ]
    },
    "colab_type": "code",
    "executionInfo": {
     "elapsed": 598,
     "status": "ok",
     "timestamp": 1522346560517,
     "user": {
      "displayName": "Diego Felipe Caro Alarcon",
      "photoUrl": "//lh5.googleusercontent.com/-K5lRoBE-ong/AAAAAAAAAAI/AAAAAAAAAA8/t6gy1bbvins/s50-c-k-no/photo.jpg",
      "userId": "108760031624692046565"
     },
     "user_tz": 180
    },
    "id": "2VoDeZdg64YG",
    "outputId": "8a8bdd7d-2cd4-4a4c-c221-c1ec4c746a88"
   },
   "outputs": [
    {
     "data": {
      "text/plain": [
       "[7, 3, 5, 2, 11, 11, 33, 44]"
      ]
     },
     "execution_count": 16,
     "metadata": {},
     "output_type": "execute_result"
    }
   ],
   "source": [
    "L.extend([11, 33, 44])\n",
    "L"
   ]
  },
  {
   "cell_type": "code",
   "execution_count": 17,
   "metadata": {
    "colab": {
     "autoexec": {
      "startup": false,
      "wait_interval": 0
     },
     "base_uri": "https://localhost:8080/",
     "height": 34,
     "output_extras": [
      {}
     ]
    },
    "colab_type": "code",
    "executionInfo": {
     "elapsed": 722,
     "status": "ok",
     "timestamp": 1522346602729,
     "user": {
      "displayName": "Diego Felipe Caro Alarcon",
      "photoUrl": "//lh5.googleusercontent.com/-K5lRoBE-ong/AAAAAAAAAAI/AAAAAAAAAA8/t6gy1bbvins/s50-c-k-no/photo.jpg",
      "userId": "108760031624692046565"
     },
     "user_tz": 180
    },
    "id": "JVLmjM8jCIwx",
    "outputId": "ac0f63ca-6131-4b57-dc06-89a9851dc98f"
   },
   "outputs": [
    {
     "data": {
      "text/plain": [
       "[1, 2, 3, 4, 5, 6]"
      ]
     },
     "execution_count": 17,
     "metadata": {},
     "output_type": "execute_result"
    }
   ],
   "source": [
    "# sort() ordena la lista (modifica la posición de los elementos de acuerdo a alguna operación)\n",
    "L = [2, 5, 1, 6, 3, 4]\n",
    "L.sort()\n",
    "L"
   ]
  },
  {
   "cell_type": "markdown",
   "metadata": {
    "colab_type": "text",
    "id": "pMthLYfhCIw0"
   },
   "source": [
    "Hay muchos más métodos que se encuentran en la [documentación de Python](https://docs.python.org/3/tutorial/datastructures.html)."
   ]
  },
  {
   "cell_type": "markdown",
   "metadata": {
    "colab_type": "text",
    "id": "T87q-bRACIw1"
   },
   "source": [
    "Las listas pueden contener cualquier clase de objeto, pero guarda como la estructuran y acceden!"
   ]
  },
  {
   "cell_type": "code",
   "execution_count": 18,
   "metadata": {
    "colab": {
     "autoexec": {
      "startup": false,
      "wait_interval": 0
     }
    },
    "colab_type": "code",
    "id": "_w26xU3BCIw4"
   },
   "outputs": [],
   "source": [
    "L = [1, 'two', 3.14, [0, 3, 5]]"
   ]
  },
  {
   "cell_type": "code",
   "execution_count": 19,
   "metadata": {
    "colab": {
     "autoexec": {
      "startup": false,
      "wait_interval": 0
     },
     "base_uri": "https://localhost:8080/",
     "height": 34,
     "output_extras": [
      {}
     ]
    },
    "colab_type": "code",
    "executionInfo": {
     "elapsed": 696,
     "status": "ok",
     "timestamp": 1522346652090,
     "user": {
      "displayName": "Diego Felipe Caro Alarcon",
      "photoUrl": "//lh5.googleusercontent.com/-K5lRoBE-ong/AAAAAAAAAAI/AAAAAAAAAA8/t6gy1bbvins/s50-c-k-no/photo.jpg",
      "userId": "108760031624692046565"
     },
     "user_tz": 180
    },
    "id": "YW4IlnEZCIw5",
    "outputId": "b90b66ae-4067-443b-f325-864a5084769f"
   },
   "outputs": [
    {
     "data": {
      "text/plain": [
       "[0, 3, 5]"
      ]
     },
     "execution_count": 19,
     "metadata": {},
     "output_type": "execute_result"
    }
   ],
   "source": [
    "L[3]"
   ]
  },
  {
   "cell_type": "markdown",
   "metadata": {
    "colab_type": "text",
    "id": "4ZKKX2zKDeDM"
   },
   "source": [
    "Las listas también puedes recorrerlas con un ciclo for:"
   ]
  },
  {
   "cell_type": "code",
   "execution_count": 20,
   "metadata": {
    "colab": {
     "autoexec": {
      "startup": false,
      "wait_interval": 0
     },
     "base_uri": "https://localhost:8080/",
     "height": 86,
     "output_extras": [
      {}
     ]
    },
    "colab_type": "code",
    "executionInfo": {
     "elapsed": 579,
     "status": "ok",
     "timestamp": 1522347641595,
     "user": {
      "displayName": "Diego Felipe Caro Alarcon",
      "photoUrl": "//lh5.googleusercontent.com/-K5lRoBE-ong/AAAAAAAAAAI/AAAAAAAAAA8/t6gy1bbvins/s50-c-k-no/photo.jpg",
      "userId": "108760031624692046565"
     },
     "user_tz": 180
    },
    "id": "_E1VjKTVDiHQ",
    "outputId": "5dd7cb8d-a9bd-4b25-eb27-cce3fd31f5c2"
   },
   "outputs": [
    {
     "name": "stdout",
     "output_type": "stream",
     "text": [
      "44\n",
      "31\n",
      "0\n",
      "21\n"
     ]
    }
   ],
   "source": [
    "L = [44, 31, 0, 21]\n",
    "for elem in L:\n",
    "  print(elem)"
   ]
  },
  {
   "cell_type": "markdown",
   "metadata": {
    "colab_type": "text",
    "id": "qk8ro_ToDsL3"
   },
   "source": [
    "Y también podemos hacer código más entretenido cuando recorremos la lista con [iteradores](https://docs.python.org/3/glossary.html#term-iterator)."
   ]
  },
  {
   "cell_type": "code",
   "execution_count": 21,
   "metadata": {
    "colab": {
     "autoexec": {
      "startup": false,
      "wait_interval": 0
     },
     "base_uri": "https://localhost:8080/",
     "height": 86,
     "output_extras": [
      {}
     ]
    },
    "colab_type": "code",
    "executionInfo": {
     "elapsed": 753,
     "status": "ok",
     "timestamp": 1522346709634,
     "user": {
      "displayName": "Diego Felipe Caro Alarcon",
      "photoUrl": "//lh5.googleusercontent.com/-K5lRoBE-ong/AAAAAAAAAAI/AAAAAAAAAA8/t6gy1bbvins/s50-c-k-no/photo.jpg",
      "userId": "108760031624692046565"
     },
     "user_tz": 180
    },
    "id": "vl5AI9iQFjxS",
    "outputId": "e10e3e89-0567-46c3-c65b-2f3f5b68967d"
   },
   "outputs": [
    {
     "name": "stdout",
     "output_type": "stream",
     "text": [
      "21\n",
      "0\n",
      "31\n",
      "44\n"
     ]
    }
   ],
   "source": [
    "L = [44, 31, 0, 21]\n",
    "for elem in reversed(L):\n",
    "  print(elem)"
   ]
  },
  {
   "cell_type": "markdown",
   "metadata": {
    "colab_type": "text",
    "id": "sn52vo8hCIw9"
   },
   "source": [
    "## Accediendo a elementos de la listas y sublistas\n",
    "\n",
    "Python tiene un metodo conveniente para acceder a los diversos valores de las listas o a \"rangos\" de valores. Esto se hace a través de una notación tipo matricial (bueh, donde los subíndices se cambian por corchetes):"
   ]
  },
  {
   "cell_type": "code",
   "execution_count": 22,
   "metadata": {
    "colab": {
     "autoexec": {
      "startup": false,
      "wait_interval": 0
     }
    },
    "colab_type": "code",
    "id": "gqFEIja5CIw_"
   },
   "outputs": [],
   "source": [
    "L = [2, 3, 5, 7, 11]"
   ]
  },
  {
   "cell_type": "markdown",
   "metadata": {
    "colab_type": "text",
    "id": "afGK8AmHCIxB"
   },
   "source": [
    "De nuevo, Python usa 0-based indexing para acceder a los miembros, eso significa que el primer elemento de la lista está en la posición cero:"
   ]
  },
  {
   "cell_type": "code",
   "execution_count": 23,
   "metadata": {
    "colab": {
     "autoexec": {
      "startup": false,
      "wait_interval": 0
     },
     "base_uri": "https://localhost:8080/",
     "height": 34,
     "output_extras": [
      {}
     ]
    },
    "colab_type": "code",
    "executionInfo": {
     "elapsed": 719,
     "status": "ok",
     "timestamp": 1522267843750,
     "user": {
      "displayName": "Diego Felipe Caro Alarcon",
      "photoUrl": "//lh5.googleusercontent.com/-K5lRoBE-ong/AAAAAAAAAAI/AAAAAAAAAA8/t6gy1bbvins/s50-c-k-no/photo.jpg",
      "userId": "108760031624692046565"
     },
     "user_tz": 180
    },
    "id": "xNHYxhvTCIxC",
    "outputId": "bd7181dd-dd07-4c4a-a1b7-ce385a57dc42"
   },
   "outputs": [
    {
     "data": {
      "text/plain": [
       "2"
      ]
     },
     "execution_count": 23,
     "metadata": {},
     "output_type": "execute_result"
    }
   ],
   "source": [
    "L[0]"
   ]
  },
  {
   "cell_type": "code",
   "execution_count": 24,
   "metadata": {
    "colab": {
     "autoexec": {
      "startup": false,
      "wait_interval": 0
     },
     "base_uri": "https://localhost:8080/",
     "height": 34,
     "output_extras": [
      {}
     ]
    },
    "colab_type": "code",
    "executionInfo": {
     "elapsed": 559,
     "status": "ok",
     "timestamp": 1522267844965,
     "user": {
      "displayName": "Diego Felipe Caro Alarcon",
      "photoUrl": "//lh5.googleusercontent.com/-K5lRoBE-ong/AAAAAAAAAAI/AAAAAAAAAA8/t6gy1bbvins/s50-c-k-no/photo.jpg",
      "userId": "108760031624692046565"
     },
     "user_tz": 180
    },
    "id": "0Broaf08CIxK",
    "outputId": "1f616d57-cf20-4d12-f61b-8e65ed6cf328"
   },
   "outputs": [
    {
     "data": {
      "text/plain": [
       "3"
      ]
     },
     "execution_count": 24,
     "metadata": {},
     "output_type": "execute_result"
    }
   ],
   "source": [
    "L[1]"
   ]
  },
  {
   "cell_type": "markdown",
   "metadata": {
    "colab_type": "text",
    "id": "YG8j0Z3ECIxS"
   },
   "source": [
    "Los elementos al final de la lista pueden accederse con índices negativos:"
   ]
  },
  {
   "cell_type": "code",
   "execution_count": 25,
   "metadata": {
    "colab": {
     "autoexec": {
      "startup": false,
      "wait_interval": 0
     },
     "base_uri": "https://localhost:8080/",
     "height": 34,
     "output_extras": [
      {}
     ]
    },
    "colab_type": "code",
    "executionInfo": {
     "elapsed": 526,
     "status": "ok",
     "timestamp": 1522267846917,
     "user": {
      "displayName": "Diego Felipe Caro Alarcon",
      "photoUrl": "//lh5.googleusercontent.com/-K5lRoBE-ong/AAAAAAAAAAI/AAAAAAAAAA8/t6gy1bbvins/s50-c-k-no/photo.jpg",
      "userId": "108760031624692046565"
     },
     "user_tz": 180
    },
    "id": "sKt0frXKCIxT",
    "outputId": "8cfb0fc8-623b-4750-9cdf-f83af73589f9"
   },
   "outputs": [
    {
     "data": {
      "text/plain": [
       "11"
      ]
     },
     "execution_count": 25,
     "metadata": {},
     "output_type": "execute_result"
    }
   ],
   "source": [
    "L[-1]"
   ]
  },
  {
   "cell_type": "code",
   "execution_count": 26,
   "metadata": {
    "colab": {
     "autoexec": {
      "startup": false,
      "wait_interval": 0
     },
     "base_uri": "https://localhost:8080/",
     "height": 34,
     "output_extras": [
      {}
     ]
    },
    "colab_type": "code",
    "executionInfo": {
     "elapsed": 558,
     "status": "ok",
     "timestamp": 1522267848770,
     "user": {
      "displayName": "Diego Felipe Caro Alarcon",
      "photoUrl": "//lh5.googleusercontent.com/-K5lRoBE-ong/AAAAAAAAAAI/AAAAAAAAAA8/t6gy1bbvins/s50-c-k-no/photo.jpg",
      "userId": "108760031624692046565"
     },
     "user_tz": 180
    },
    "id": "QiV_R2_iCIxe",
    "outputId": "79494131-fc7c-40fb-9da3-927e89c46904"
   },
   "outputs": [
    {
     "data": {
      "text/plain": [
       "7"
      ]
     },
     "execution_count": 26,
     "metadata": {},
     "output_type": "execute_result"
    }
   ],
   "source": [
    "L[-2]"
   ]
  },
  {
   "cell_type": "markdown",
   "metadata": {
    "colab_type": "text",
    "id": "p16xq-AgOadi"
   },
   "source": [
    "También podemos obtener una subsecuencia de elementos. Los elementos dentro del corchete indican el inicio y el fin de los elementos que se desean recuperar:"
   ]
  },
  {
   "cell_type": "code",
   "execution_count": 27,
   "metadata": {
    "colab": {
     "autoexec": {
      "startup": false,
      "wait_interval": 0
     },
     "base_uri": "https://localhost:8080/",
     "height": 34,
     "output_extras": [
      {}
     ]
    },
    "colab_type": "code",
    "executionInfo": {
     "elapsed": 583,
     "status": "ok",
     "timestamp": 1522267851010,
     "user": {
      "displayName": "Diego Felipe Caro Alarcon",
      "photoUrl": "//lh5.googleusercontent.com/-K5lRoBE-ong/AAAAAAAAAAI/AAAAAAAAAA8/t6gy1bbvins/s50-c-k-no/photo.jpg",
      "userId": "108760031624692046565"
     },
     "user_tz": 180
    },
    "id": "tAM48fI8Oj6w",
    "outputId": "3e3eb7b1-e6c8-44b6-cb27-7e092dd143ff"
   },
   "outputs": [
    {
     "data": {
      "text/plain": [
       "[5, 7]"
      ]
     },
     "execution_count": 27,
     "metadata": {},
     "output_type": "execute_result"
    }
   ],
   "source": [
    "L[2:4]"
   ]
  },
  {
   "cell_type": "markdown",
   "metadata": {
    "colab_type": "text",
    "id": "XXQGRlgiCIxj"
   },
   "source": [
    "Recordar: \n",
    "\n",
    "![indexando listas](https://github.com/jakevdp/WhirlwindTourOfPython/raw/f40b435dea823ad5f094d48d158cc8b8f282e9d5/fig/list-indexing.png)"
   ]
  },
  {
   "cell_type": "markdown",
   "metadata": {
    "colab_type": "text",
    "id": "epqTe_FbCI0l"
   },
   "source": [
    "## Intermezzo: documentación y autocompletado en Jupyter Notebook\n",
    "\n",
    "Si no recordamos para que sirve una función o que argumentos recibe, podemos usar la función de documentación de Jupyter. Para acceder a la documentación de una función presiona **shift+tab** sobre el nombre de una función dentro de una celda de código. Por ejemplo, mueve el cursor sobre la palabra print y presiona shift+enter:"
   ]
  },
  {
   "cell_type": "code",
   "execution_count": 28,
   "metadata": {
    "colab": {
     "autoexec": {
      "startup": false,
      "wait_interval": 0
     },
     "base_uri": "https://localhost:8080/",
     "height": 34,
     "output_extras": [
      {}
     ]
    },
    "colab_type": "code",
    "executionInfo": {
     "elapsed": 608,
     "status": "ok",
     "timestamp": 1522347006636,
     "user": {
      "displayName": "Diego Felipe Caro Alarcon",
      "photoUrl": "//lh5.googleusercontent.com/-K5lRoBE-ong/AAAAAAAAAAI/AAAAAAAAAA8/t6gy1bbvins/s50-c-k-no/photo.jpg",
      "userId": "108760031624692046565"
     },
     "user_tz": 180
    },
    "id": "6uuAfFC4CI0m",
    "outputId": "fb74fb83-0877-4d37-ec98-42311dc55d83"
   },
   "outputs": [
    {
     "name": "stdout",
     "output_type": "stream",
     "text": [
      "\n"
     ]
    }
   ],
   "source": [
    "print()"
   ]
  },
  {
   "cell_type": "markdown",
   "metadata": {
    "colab_type": "text",
    "id": "jBfXalnVCI0n"
   },
   "source": [
    "Jupyter también permite autocompletar el nombre de variables y funciones usando la tecla **tab**. Escribe `pri` y presiona tab:"
   ]
  },
  {
   "cell_type": "code",
   "execution_count": 29,
   "metadata": {
    "colab": {
     "autoexec": {
      "startup": false,
      "wait_interval": 0
     }
    },
    "colab_type": "code",
    "id": "tAz212XKCI0o"
   },
   "outputs": [
    {
     "name": "stdout",
     "output_type": "stream",
     "text": [
      "\n"
     ]
    }
   ],
   "source": [
    "print()"
   ]
  },
  {
   "cell_type": "markdown",
   "metadata": {
    "colab_type": "text",
    "id": "T0Ry7cNmCI0s"
   },
   "source": [
    "La función de autocomletar también funciona para descubrir los argumentos de una función. Prueba presionando **tab** entre los paréntesis de la función print:"
   ]
  },
  {
   "cell_type": "code",
   "execution_count": 30,
   "metadata": {
    "colab": {
     "autoexec": {
      "startup": false,
      "wait_interval": 0
     }
    },
    "colab_type": "code",
    "id": "RawpXI8GCI0t"
   },
   "outputs": [
    {
     "name": "stdout",
     "output_type": "stream",
     "text": [
      "\n"
     ]
    }
   ],
   "source": [
    "print()"
   ]
  },
  {
   "cell_type": "markdown",
   "metadata": {
    "colab_type": "text",
    "id": "x3aZHuTRPQA9"
   },
   "source": [
    "Y también pueden chequear si la función/método tiene parámetros especiales!"
   ]
  },
  {
   "cell_type": "code",
   "execution_count": 31,
   "metadata": {
    "colab": {
     "autoexec": {
      "startup": false,
      "wait_interval": 0
     },
     "base_uri": "https://localhost:8080/",
     "height": 201,
     "output_extras": [
      {}
     ]
    },
    "colab_type": "code",
    "executionInfo": {
     "elapsed": 553,
     "status": "error",
     "timestamp": 1522347255210,
     "user": {
      "displayName": "Diego Felipe Caro Alarcon",
      "photoUrl": "//lh5.googleusercontent.com/-K5lRoBE-ong/AAAAAAAAAAI/AAAAAAAAAA8/t6gy1bbvins/s50-c-k-no/photo.jpg",
      "userId": "108760031624692046565"
     },
     "user_tz": 180
    },
    "id": "knXYDjjFPLm7",
    "outputId": "023188df-1f0b-479e-abd4-516129780fb9"
   },
   "outputs": [
    {
     "data": {
      "text/plain": [
       "[6, 5, 4, 3, 2, 1]"
      ]
     },
     "execution_count": 31,
     "metadata": {},
     "output_type": "execute_result"
    }
   ],
   "source": [
    "L = [2, 5, 1, 6, 3, 4]\n",
    "L.sort(reverse=True)\n",
    "L"
   ]
  },
  {
   "cell_type": "markdown",
   "metadata": {
    "colab_type": "text",
    "id": "v4O2CiT9CIyW"
   },
   "source": [
    "## Ejercicio\n",
    "\n",
    "* Asuma que el entregan una lista con números. Diseñe un código que calcule el cuadrado de cada número. El resultado se debe entregar en una lista.\n"
   ]
  },
  {
   "cell_type": "code",
   "execution_count": 32,
   "metadata": {
    "colab": {
     "autoexec": {
      "startup": false,
      "wait_interval": 0
     },
     "output_extras": [
      {}
     ]
    },
    "colab_type": "code",
    "id": "GeaC3gX7CIyY",
    "outputId": "71511636-c01e-4c56-d2bb-68132003824c"
   },
   "outputs": [
    {
     "data": {
      "text/plain": [
       "[]"
      ]
     },
     "execution_count": 32,
     "metadata": {},
     "output_type": "execute_result"
    }
   ],
   "source": [
    "numeros = [1, 2, 99, 101]\n",
    "cuadrado = []\n",
    "\n",
    "# su codigo acá\n",
    "\n",
    "cuadrado # esto debería devolver [1, 4, 9801, 10201]"
   ]
  },
  {
   "cell_type": "markdown",
   "metadata": {
    "colab_type": "text",
    "id": "9jUH6DaNCIyc"
   },
   "source": [
    "* Resolver el problema 1 del [diagnóstico](https://drive.google.com/file/d/1_lKKVBerBLTbZD0kb0WBLRhAu81tNel8/view?usp=sharing) usando ciclos."
   ]
  },
  {
   "cell_type": "code",
   "execution_count": 33,
   "metadata": {
    "colab": {
     "autoexec": {
      "startup": false,
      "wait_interval": 0
     },
     "output_extras": [
      {}
     ]
    },
    "colab_type": "code",
    "id": "5DN6TSofCIye",
    "outputId": "bca4e7f6-d670-4e0b-ea3b-cb4fa26610a5"
   },
   "outputs": [
    {
     "data": {
      "text/plain": [
       "0"
      ]
     },
     "execution_count": 33,
     "metadata": {},
     "output_type": "execute_result"
    }
   ],
   "source": [
    "notas = [4.0, 6.5, 7.0]\n",
    "promedio = 0\n",
    "\n",
    "# su código acá\n",
    "\n",
    "promedio # esto debería devolver 5.8333333333"
   ]
  },
  {
   "cell_type": "markdown",
   "metadata": {
    "colab_type": "text",
    "id": "nzK6pIusCIyi"
   },
   "source": [
    "* Modifique el programa del ejercicio anterior para que tome en cuenta la ponderación de cada nota"
   ]
  },
  {
   "cell_type": "code",
   "execution_count": 34,
   "metadata": {
    "colab": {
     "autoexec": {
      "startup": false,
      "wait_interval": 0
     },
     "output_extras": [
      {}
     ]
    },
    "colab_type": "code",
    "id": "tv03M9ofCIyj",
    "outputId": "16d124f9-0f2a-4244-e5b3-1f6b566c58f9"
   },
   "outputs": [
    {
     "data": {
      "text/plain": [
       "0"
      ]
     },
     "execution_count": 34,
     "metadata": {},
     "output_type": "execute_result"
    }
   ],
   "source": [
    "notas = [4.0, 6.5, 7.0]\n",
    "ponderacion = [0.1, 0.3, 0.6]\n",
    "promedio = 0\n",
    "\n",
    "# su código acá\n",
    "\n",
    "promedio # esto debería devolver 6.55"
   ]
  },
  {
   "cell_type": "markdown",
   "metadata": {
    "colab_type": "text",
    "id": "EeDQEV8eCIzp"
   },
   "source": [
    "# Más sobre strings (cadenas de texto)\n",
    "\n",
    "Un string es una cadena de texto. Simplemente usa comillas para crear un nuevo string, por ejemplo:"
   ]
  },
  {
   "cell_type": "code",
   "execution_count": 35,
   "metadata": {
    "colab": {
     "autoexec": {
      "startup": false,
      "wait_interval": 0
     },
     "output_extras": [
      {}
     ]
    },
    "colab_type": "code",
    "id": "s7Y-hZmGCIzq",
    "outputId": "48efce3c-52b1-4e06-ece0-f7cb38e86307"
   },
   "outputs": [
    {
     "name": "stdout",
     "output_type": "stream",
     "text": [
      "Hola mundo!\n"
     ]
    }
   ],
   "source": [
    "s = \"Hola mundo!\"\n",
    "print(s)"
   ]
  },
  {
   "cell_type": "markdown",
   "metadata": {
    "colab_type": "text",
    "id": "fiwh-4IgCIzt"
   },
   "source": [
    "Puedes unir dos strings con el operador +, y acceder a la i-ésima letra usando el operador corchete '[ ]'. También se puede devolver un substring utilizando la misma notación que en las listas."
   ]
  },
  {
   "cell_type": "code",
   "execution_count": 36,
   "metadata": {
    "colab": {
     "autoexec": {
      "startup": false,
      "wait_interval": 0
     },
     "output_extras": [
      {}
     ]
    },
    "colab_type": "code",
    "id": "ZO3pTEb8CIzt",
    "outputId": "25f513e1-0e4c-4623-e010-1e3580ca1cb0"
   },
   "outputs": [
    {
     "data": {
      "text/plain": [
       "'HolaChao'"
      ]
     },
     "execution_count": 36,
     "metadata": {},
     "output_type": "execute_result"
    }
   ],
   "source": [
    "s1 = 'Hola'\n",
    "s2 = 'Chao'\n",
    "\n",
    "s1 + s2"
   ]
  },
  {
   "cell_type": "code",
   "execution_count": 37,
   "metadata": {
    "colab": {
     "autoexec": {
      "startup": false,
      "wait_interval": 0
     },
     "output_extras": [
      {}
     ]
    },
    "colab_type": "code",
    "id": "ja33so3ACIzy",
    "outputId": "fc815370-5253-4e04-dc8f-06e7edf3289f"
   },
   "outputs": [
    {
     "data": {
      "text/plain": [
       "'a'"
      ]
     },
     "execution_count": 37,
     "metadata": {},
     "output_type": "execute_result"
    }
   ],
   "source": [
    "s1[3] # posiciones comienzan en cero!"
   ]
  },
  {
   "cell_type": "code",
   "execution_count": 38,
   "metadata": {
    "colab": {
     "autoexec": {
      "startup": false,
      "wait_interval": 0
     },
     "output_extras": [
      {}
     ]
    },
    "colab_type": "code",
    "id": "f7uUFdKCCIz2",
    "outputId": "c5766385-3256-4d2a-b076-5fe24eb73729"
   },
   "outputs": [
    {
     "data": {
      "text/plain": [
       "'Ho'"
      ]
     },
     "execution_count": 38,
     "metadata": {},
     "output_type": "execute_result"
    }
   ],
   "source": [
    "s1[:2]"
   ]
  },
  {
   "cell_type": "markdown",
   "metadata": {
    "colab_type": "text",
    "id": "1zWebSk-CIz5"
   },
   "source": [
    "En Python los strings son inmutables. Eso quiere decir que no se pueden modificar. Por ejemplo, no se puede actualizar una letra dentro de un string:"
   ]
  },
  {
   "cell_type": "code",
   "execution_count": 39,
   "metadata": {
    "colab": {
     "autoexec": {
      "startup": false,
      "wait_interval": 0
     },
     "output_extras": [
      {}
     ]
    },
    "colab_type": "code",
    "id": "FV4cwLUoCIz7",
    "outputId": "e91f83e2-a478-44a7-e7b1-4f1d86b65049"
   },
   "outputs": [
    {
     "ename": "TypeError",
     "evalue": "'str' object does not support item assignment",
     "output_type": "error",
     "traceback": [
      "\u001b[0;31m---------------------------------------------------------------------------\u001b[0m",
      "\u001b[0;31mTypeError\u001b[0m                                 Traceback (most recent call last)",
      "\u001b[0;32m<ipython-input-39-1fe3b83b6a6f>\u001b[0m in \u001b[0;36m<module>\u001b[0;34m()\u001b[0m\n\u001b[1;32m      1\u001b[0m \u001b[0ms\u001b[0m \u001b[0;34m=\u001b[0m \u001b[0;34m\"Mi super string\"\u001b[0m\u001b[0;34m\u001b[0m\u001b[0m\n\u001b[0;32m----> 2\u001b[0;31m \u001b[0ms\u001b[0m\u001b[0;34m[\u001b[0m\u001b[0;36m0\u001b[0m\u001b[0;34m]\u001b[0m \u001b[0;34m=\u001b[0m \u001b[0;34m\"m\"\u001b[0m\u001b[0;34m\u001b[0m\u001b[0m\n\u001b[0m",
      "\u001b[0;31mTypeError\u001b[0m: 'str' object does not support item assignment"
     ]
    }
   ],
   "source": [
    "s = \"Mi super string\"\n",
    "s[0] = \"m\""
   ]
  },
  {
   "cell_type": "markdown",
   "metadata": {
    "colab_type": "text",
    "id": "CcfWSCm5CIz_"
   },
   "source": [
    "Para actualizar el string debes crear uno nuevo. Puedes hacer concatenando (unir) strings:"
   ]
  },
  {
   "cell_type": "code",
   "execution_count": 40,
   "metadata": {
    "colab": {
     "autoexec": {
      "startup": false,
      "wait_interval": 0
     },
     "output_extras": [
      {}
     ]
    },
    "colab_type": "code",
    "id": "0ENG7-VTCIz_",
    "outputId": "95c2533d-a559-4940-d82f-101bede4b679"
   },
   "outputs": [
    {
     "data": {
      "text/plain": [
       "'nuestro super string'"
      ]
     },
     "execution_count": 40,
     "metadata": {},
     "output_type": "execute_result"
    }
   ],
   "source": [
    "nuevos = \"nuestro\" + s[2:]\n",
    "nuevos"
   ]
  },
  {
   "cell_type": "markdown",
   "metadata": {},
   "source": [
    "Esta es otra forma de hacer lo mismo. Los paréntesis `{}` se reemplazan por el parámetro del método `.format(...)`:"
   ]
  },
  {
   "cell_type": "code",
   "execution_count": 41,
   "metadata": {},
   "outputs": [
    {
     "data": {
      "text/plain": [
       "'nuestro  super string'"
      ]
     },
     "execution_count": 41,
     "metadata": {},
     "output_type": "execute_result"
    }
   ],
   "source": [
    "nuevos2 = 'nuestro {}'.format(s[2:])\n",
    "nuevos2"
   ]
  },
  {
   "cell_type": "markdown",
   "metadata": {
    "colab_type": "text",
    "id": "EslnoestCI0C"
   },
   "source": [
    "También es posible dividir el string en substrings de acuerdo a un separador. El siguiente código obtiene una lista con las palabras de una frase (separadas por espacio):"
   ]
  },
  {
   "cell_type": "code",
   "execution_count": 42,
   "metadata": {
    "colab": {
     "autoexec": {
      "startup": false,
      "wait_interval": 0
     },
     "output_extras": [
      {}
     ]
    },
    "colab_type": "code",
    "id": "ebu7B2a5CI0D",
    "outputId": "7cc2072c-3bf4-444a-eca6-e35cba4390ef"
   },
   "outputs": [
    {
     "name": "stdout",
     "output_type": "stream",
     "text": [
      "['Había', 'una', 'vez', 'una', 'gata', 'blanca']\n"
     ]
    }
   ],
   "source": [
    "s = \"Había una vez una gata blanca\"\n",
    "L = s.split()\n",
    "print(L)"
   ]
  },
  {
   "cell_type": "markdown",
   "metadata": {
    "colab_type": "text",
    "id": "KtmcZtrqCI0G"
   },
   "source": [
    "Y también se puede concatenar varios strings. En el siguiente código se unen las palabras que están en L con un punto."
   ]
  },
  {
   "cell_type": "code",
   "execution_count": 43,
   "metadata": {
    "colab": {
     "autoexec": {
      "startup": false,
      "wait_interval": 0
     },
     "output_extras": [
      {}
     ]
    },
    "colab_type": "code",
    "id": "YNqcLyG6CI0H",
    "outputId": "bc4b2308-06c5-4da0-afac-9a1f59f233b1"
   },
   "outputs": [
    {
     "data": {
      "text/plain": [
       "'Había.una.vez.una.gata.blanca'"
      ]
     },
     "execution_count": 43,
     "metadata": {},
     "output_type": "execute_result"
    }
   ],
   "source": [
    "\".\".join(L)"
   ]
  },
  {
   "cell_type": "markdown",
   "metadata": {
    "colab_type": "text",
    "id": "x11LUlsqCI0K"
   },
   "source": [
    "### Ejercicio\n",
    "* ¿Cómo imprimir un string al revés? (hint: usa un ciclo o la generación con sublistas 'con espacios'!)"
   ]
  },
  {
   "cell_type": "code",
   "execution_count": 44,
   "metadata": {
    "colab": {
     "autoexec": {
      "startup": false,
      "wait_interval": 0
     }
    },
    "colab_type": "code",
    "id": "VRv6k3ecCI0L"
   },
   "outputs": [
    {
     "data": {
      "text/plain": [
       "'Hola Mundo!'"
      ]
     },
     "execution_count": 44,
     "metadata": {},
     "output_type": "execute_result"
    }
   ],
   "source": [
    "mensaje = 'Hola Mundo!'\n",
    "\n",
    "# tu codigo aquí\n",
    "\n",
    "mensaje # debería devolver '!odnuM aloH'"
   ]
  },
  {
   "cell_type": "markdown",
   "metadata": {
    "colab_type": "text",
    "id": "EpVSh4mFCI0N"
   },
   "source": [
    "* Resolver el problema 2 del [diagnóstico](https://drive.google.com/file/d/1_lKKVBerBLTbZD0kb0WBLRhAu81tNel8/view?usp=sharing) recuperaendo el país con el **mejor y el peor coeficiente de Gini**. Para abrir un archivo puede usar la función `open(path)`, por ejemplo:"
   ]
  },
  {
   "cell_type": "code",
   "execution_count": 45,
   "metadata": {
    "colab": {
     "autoexec": {
      "startup": false,
      "wait_interval": 0
     },
     "base_uri": "https://localhost:8080/",
     "height": 245,
     "output_extras": [
      {}
     ]
    },
    "colab_type": "code",
    "executionInfo": {
     "elapsed": 3458,
     "status": "ok",
     "timestamp": 1522333149847,
     "user": {
      "displayName": "Diego Felipe Caro Alarcon",
      "photoUrl": "//lh5.googleusercontent.com/-K5lRoBE-ong/AAAAAAAAAAI/AAAAAAAAAA8/t6gy1bbvins/s50-c-k-no/photo.jpg",
      "userId": "108760031624692046565"
     },
     "user_tz": 180
    },
    "id": "J2mFHIWwHzJV",
    "outputId": "40cc6193-2815-4209-9752-04391f184f5b"
   },
   "outputs": [
    {
     "name": "stdout",
     "output_type": "stream",
     "text": [
      "mkdir: clase03: File exists\n",
      "--2018-04-05 11:14:28--  https://raw.githubusercontent.com/diegocaro/tallerds/master/clases/clase03/gini_by_country.csv\n",
      "Resolving raw.githubusercontent.com... 151.101.0.133, 151.101.64.133, 151.101.128.133, ...\n",
      "Connecting to raw.githubusercontent.com|151.101.0.133|:443... connected.\n",
      "HTTP request sent, awaiting response... 200 OK\n",
      "Length: 637 [text/plain]\n",
      "Saving to: 'clase03/gini_by_country.csv'\n",
      "\n",
      "clase03/gini_by_cou 100%[=====================>]     637  --.-KB/s   in 0s     \n",
      "\n",
      "2018-04-05 11:14:28 (16.4 MB/s) - 'clase03/gini_by_country.csv' saved [637/637]\n",
      "\n"
     ]
    }
   ],
   "source": [
    "!mkdir clase03;\n",
    "!wget -O clase03/gini_by_country.csv https://raw.githubusercontent.com/diegocaro/tallerds/master/clases/clase03/gini_by_country.csv"
   ]
  },
  {
   "cell_type": "code",
   "execution_count": 46,
   "metadata": {
    "colab": {
     "autoexec": {
      "startup": false,
      "wait_interval": 0
     },
     "base_uri": "https://localhost:8080/",
     "height": 185,
     "output_extras": [
      {}
     ]
    },
    "colab_type": "code",
    "executionInfo": {
     "elapsed": 1668,
     "status": "ok",
     "timestamp": 1522333198183,
     "user": {
      "displayName": "Diego Felipe Caro Alarcon",
      "photoUrl": "//lh5.googleusercontent.com/-K5lRoBE-ong/AAAAAAAAAAI/AAAAAAAAAA8/t6gy1bbvins/s50-c-k-no/photo.jpg",
      "userId": "108760031624692046565"
     },
     "user_tz": 180
    },
    "id": "VS3Q_Z4WINlE",
    "outputId": "48dc44f8-e1dd-4976-c5e3-151eb97bfda6"
   },
   "outputs": [
    {
     "name": "stdout",
     "output_type": "stream",
     "text": [
      "Slovenia,0.251\r\n",
      "Denmark,0.256\r\n",
      "Slovak Republic,0.247\r\n",
      "Czech Republic,0.257\r\n",
      "Iceland,0.246\r\n",
      "Norway,0.257\r\n",
      "Finland,0.257\r\n",
      "Belgium,0.266\r\n",
      "Austria,0.274\r\n",
      "Germany,0.289\r\n"
     ]
    }
   ],
   "source": [
    "!head clase03/gini_by_country.csv"
   ]
  },
  {
   "cell_type": "code",
   "execution_count": 47,
   "metadata": {
    "colab": {
     "autoexec": {
      "startup": false,
      "wait_interval": 0
     },
     "base_uri": "https://localhost:8080/",
     "height": 731,
     "output_extras": [
      {}
     ]
    },
    "colab_type": "code",
    "executionInfo": {
     "elapsed": 695,
     "status": "ok",
     "timestamp": 1522333224499,
     "user": {
      "displayName": "Diego Felipe Caro Alarcon",
      "photoUrl": "//lh5.googleusercontent.com/-K5lRoBE-ong/AAAAAAAAAAI/AAAAAAAAAA8/t6gy1bbvins/s50-c-k-no/photo.jpg",
      "userId": "108760031624692046565"
     },
     "user_tz": 180
    },
    "id": "3ER1R1gKCI0O",
    "outputId": "dff0e6f4-313a-435d-94f3-16beef502bfa"
   },
   "outputs": [
    {
     "name": "stdout",
     "output_type": "stream",
     "text": [
      "Slovenia,0.251\n",
      "Denmark,0.256\n",
      "Slovak Republic,0.247\n",
      "Czech Republic,0.257\n",
      "Iceland,0.246\n",
      "Norway,0.257\n",
      "Finland,0.257\n",
      "Belgium,0.266\n",
      "Austria,0.274\n",
      "Germany,0.289\n",
      "Hungary,0.288\n",
      "Poland,0.298\n",
      "Luxembourg,0.284\n",
      "Korea,0.302\n",
      "France,0.297\n",
      "Ireland,0.298\n",
      "Canada,0.313\n",
      "Australia,0.337\n",
      "Italy,0.326\n",
      "Japan,0.33\n",
      "New Zealand,0.349\n",
      "Spain,0.344\n",
      "Portugal,0.338\n",
      "Greece,0.339\n",
      "Latvia,0.35\n",
      "Lithuania,0.381\n",
      "United Kingdom,0.356\n",
      "Israel,0.365\n",
      "Turkey,0.398\n",
      "Mexico,0.459\n",
      "Costa Rica,0.491\n",
      "Chile,0.454\n",
      "Estonia,0.346\n",
      "Netherlands,0.305\n",
      "Sweden,0.274\n",
      "Switzerland,0.297\n",
      "United States,0.394\n",
      "Brazil,0.47\n",
      "China (People's Republic of),0.556\n",
      "India,0.495\n",
      "Russia,0.376\n",
      "South Africa,0.62"
     ]
    }
   ],
   "source": [
    "file = open('clase03/gini_by_country.csv')\n",
    "for line in file: # este ciclo recorre cada linea del archivo\n",
    "    print(line, end='')"
   ]
  },
  {
   "cell_type": "markdown",
   "metadata": {
    "colab_type": "text",
    "id": "B52QNhnoMSGL"
   },
   "source": [
    "# Introducción a Pandas\n",
    "\n",
    "![pandas](http://pandas.pydata.org/_static/pandas_logo.png)\n",
    "\n",
    "* Introducción a Pandas para análisis de datos.\n",
    "* Pandas es un módulo de Python para realizar análisis de datos http://pandas.pydata.org/\n"
   ]
  },
  {
   "cell_type": "code",
   "execution_count": 0,
   "metadata": {
    "colab": {
     "autoexec": {
      "startup": false,
      "wait_interval": 0
     }
    },
    "colab_type": "code",
    "id": "zT2gxeUmMMVJ"
   },
   "outputs": [],
   "source": [
    "import pandas as pd"
   ]
  },
  {
   "cell_type": "code",
   "execution_count": 0,
   "metadata": {
    "colab": {
     "autoexec": {
      "startup": false,
      "wait_interval": 0
     },
     "base_uri": "https://localhost:8080/",
     "height": 204,
     "output_extras": [
      {}
     ]
    },
    "colab_type": "code",
    "executionInfo": {
     "elapsed": 550,
     "status": "ok",
     "timestamp": 1522333258121,
     "user": {
      "displayName": "Diego Felipe Caro Alarcon",
      "photoUrl": "//lh5.googleusercontent.com/-K5lRoBE-ong/AAAAAAAAAAI/AAAAAAAAAA8/t6gy1bbvins/s50-c-k-no/photo.jpg",
      "userId": "108760031624692046565"
     },
     "user_tz": 180
    },
    "id": "M4QnYPHeKIY3",
    "outputId": "37236eb4-7ca2-467a-82c9-f7654ca0a3c6"
   },
   "outputs": [
    {
     "data": {
      "text/html": [
       "<div>\n",
       "<style scoped>\n",
       "    .dataframe tbody tr th:only-of-type {\n",
       "        vertical-align: middle;\n",
       "    }\n",
       "\n",
       "    .dataframe tbody tr th {\n",
       "        vertical-align: top;\n",
       "    }\n",
       "\n",
       "    .dataframe thead th {\n",
       "        text-align: right;\n",
       "    }\n",
       "</style>\n",
       "<table border=\"1\" class=\"dataframe\">\n",
       "  <thead>\n",
       "    <tr style=\"text-align: right;\">\n",
       "      <th></th>\n",
       "      <th>country</th>\n",
       "      <th>gini</th>\n",
       "    </tr>\n",
       "  </thead>\n",
       "  <tbody>\n",
       "    <tr>\n",
       "      <th>0</th>\n",
       "      <td>Slovenia</td>\n",
       "      <td>0.251</td>\n",
       "    </tr>\n",
       "    <tr>\n",
       "      <th>1</th>\n",
       "      <td>Denmark</td>\n",
       "      <td>0.256</td>\n",
       "    </tr>\n",
       "    <tr>\n",
       "      <th>2</th>\n",
       "      <td>Slovak Republic</td>\n",
       "      <td>0.247</td>\n",
       "    </tr>\n",
       "    <tr>\n",
       "      <th>3</th>\n",
       "      <td>Czech Republic</td>\n",
       "      <td>0.257</td>\n",
       "    </tr>\n",
       "    <tr>\n",
       "      <th>4</th>\n",
       "      <td>Iceland</td>\n",
       "      <td>0.246</td>\n",
       "    </tr>\n",
       "  </tbody>\n",
       "</table>\n",
       "</div>"
      ],
      "text/plain": [
       "           country   gini\n",
       "0         Slovenia  0.251\n",
       "1          Denmark  0.256\n",
       "2  Slovak Republic  0.247\n",
       "3   Czech Republic  0.257\n",
       "4          Iceland  0.246"
      ]
     },
     "execution_count": 19,
     "metadata": {
      "tags": []
     },
     "output_type": "execute_result"
    }
   ],
   "source": [
    "df = pd.read_csv('clase03/gini_by_country.csv', names=['country','gini'])\n",
    "df.head()"
   ]
  },
  {
   "cell_type": "code",
   "execution_count": 0,
   "metadata": {
    "colab": {
     "autoexec": {
      "startup": false,
      "wait_interval": 0
     },
     "base_uri": "https://localhost:8080/",
     "height": 359,
     "output_extras": [
      {}
     ]
    },
    "colab_type": "code",
    "executionInfo": {
     "elapsed": 577,
     "status": "ok",
     "timestamp": 1522333304471,
     "user": {
      "displayName": "Diego Felipe Caro Alarcon",
      "photoUrl": "//lh5.googleusercontent.com/-K5lRoBE-ong/AAAAAAAAAAI/AAAAAAAAAA8/t6gy1bbvins/s50-c-k-no/photo.jpg",
      "userId": "108760031624692046565"
     },
     "user_tz": 180
    },
    "id": "4dIm-W6rMOP9",
    "outputId": "c2a25bf0-495e-416a-a724-0c2d569316cf"
   },
   "outputs": [
    {
     "data": {
      "text/html": [
       "<div>\n",
       "<style scoped>\n",
       "    .dataframe tbody tr th:only-of-type {\n",
       "        vertical-align: middle;\n",
       "    }\n",
       "\n",
       "    .dataframe tbody tr th {\n",
       "        vertical-align: top;\n",
       "    }\n",
       "\n",
       "    .dataframe thead th {\n",
       "        text-align: right;\n",
       "    }\n",
       "</style>\n",
       "<table border=\"1\" class=\"dataframe\">\n",
       "  <thead>\n",
       "    <tr style=\"text-align: right;\">\n",
       "      <th></th>\n",
       "      <th>country</th>\n",
       "      <th>gini</th>\n",
       "    </tr>\n",
       "  </thead>\n",
       "  <tbody>\n",
       "    <tr>\n",
       "      <th>41</th>\n",
       "      <td>South Africa</td>\n",
       "      <td>0.620</td>\n",
       "    </tr>\n",
       "    <tr>\n",
       "      <th>38</th>\n",
       "      <td>China (People's Republic of)</td>\n",
       "      <td>0.556</td>\n",
       "    </tr>\n",
       "    <tr>\n",
       "      <th>39</th>\n",
       "      <td>India</td>\n",
       "      <td>0.495</td>\n",
       "    </tr>\n",
       "    <tr>\n",
       "      <th>30</th>\n",
       "      <td>Costa Rica</td>\n",
       "      <td>0.491</td>\n",
       "    </tr>\n",
       "    <tr>\n",
       "      <th>37</th>\n",
       "      <td>Brazil</td>\n",
       "      <td>0.470</td>\n",
       "    </tr>\n",
       "    <tr>\n",
       "      <th>29</th>\n",
       "      <td>Mexico</td>\n",
       "      <td>0.459</td>\n",
       "    </tr>\n",
       "    <tr>\n",
       "      <th>31</th>\n",
       "      <td>Chile</td>\n",
       "      <td>0.454</td>\n",
       "    </tr>\n",
       "    <tr>\n",
       "      <th>28</th>\n",
       "      <td>Turkey</td>\n",
       "      <td>0.398</td>\n",
       "    </tr>\n",
       "    <tr>\n",
       "      <th>36</th>\n",
       "      <td>United States</td>\n",
       "      <td>0.394</td>\n",
       "    </tr>\n",
       "    <tr>\n",
       "      <th>25</th>\n",
       "      <td>Lithuania</td>\n",
       "      <td>0.381</td>\n",
       "    </tr>\n",
       "  </tbody>\n",
       "</table>\n",
       "</div>"
      ],
      "text/plain": [
       "                         country   gini\n",
       "41                  South Africa  0.620\n",
       "38  China (People's Republic of)  0.556\n",
       "39                         India  0.495\n",
       "30                    Costa Rica  0.491\n",
       "37                        Brazil  0.470\n",
       "29                        Mexico  0.459\n",
       "31                         Chile  0.454\n",
       "28                        Turkey  0.398\n",
       "36                 United States  0.394\n",
       "25                     Lithuania  0.381"
      ]
     },
     "execution_count": 21,
     "metadata": {
      "tags": []
     },
     "output_type": "execute_result"
    }
   ],
   "source": [
    "df = df.sort_values('gini', ascending=False)\n",
    "df.head(10)"
   ]
  },
  {
   "cell_type": "markdown",
   "metadata": {
    "colab_type": "text",
    "id": "uQB2PU9UCI1P"
   },
   "source": [
    "# Resumen de la clase\n",
    "\n",
    "  * **for**: recorrer elementos de alguna colección o iterador (ejemplo: recorrer los elementos de una lista).\n",
    "  * **continue**: saltar a la siguiente iteración.\n",
    "  * **break**: detener el ciclo for o while.\n",
    "  * **list**: colección de objetos, están ordenados según como se insertaron. Se accede con la posición del elemento.\n",
    "  * **str**: una colección de caractéres. No se pueden modificar. Se accede con la posición del elemento.\n",
    "  * **reversed**: iterador para recorrer de manera reversa una lista o str.\n",
    "  * **int**: convertir str con un número a un objeto tipo entero.\n",
    "  * **float**: convertir str con un número real a un objeto tipo entero.\n",
    "  * **DataFrame**: nuestra guía espiritual\n",
    "\n"
   ]
  },
  {
   "cell_type": "markdown",
   "metadata": {
    "colab_type": "text",
    "id": "0BW-4IEoCIxk"
   },
   "source": [
    "# Extra\n",
    "## Sublistas"
   ]
  },
  {
   "cell_type": "markdown",
   "metadata": {
    "colab_type": "text",
    "id": "vFZUG0WsCIxn"
   },
   "source": [
    "La operación de corchetes devuelve solo un elemento. Si queremos obtener una sublista, se debe indicar el rango de elementos que se desea obtener."
   ]
  },
  {
   "cell_type": "code",
   "execution_count": 0,
   "metadata": {
    "colab": {
     "autoexec": {
      "startup": false,
      "wait_interval": 0
     },
     "output_extras": [
      {}
     ]
    },
    "colab_type": "code",
    "id": "msrcQ0AiCIxo",
    "outputId": "36681e85-fdcb-4142-8592-4b4ef4436090"
   },
   "outputs": [
    {
     "data": {
      "text/plain": [
       "[2, 3, 5]"
      ]
     },
     "execution_count": 20,
     "metadata": {
      "tags": []
     },
     "output_type": "execute_result"
    }
   ],
   "source": [
    "# Retorna una lista con los elementos 0, 1 y 2.\n",
    "L[0:3]"
   ]
  },
  {
   "cell_type": "markdown",
   "metadata": {
    "colab_type": "text",
    "id": "XBWo2vLOCIxs"
   },
   "source": [
    "Si sacamos el 0, se entiende igual \"desde el principio de la lista\""
   ]
  },
  {
   "cell_type": "code",
   "execution_count": 0,
   "metadata": {
    "colab": {
     "autoexec": {
      "startup": false,
      "wait_interval": 0
     },
     "output_extras": [
      {}
     ]
    },
    "colab_type": "code",
    "id": "7jDM2LLpCIxu",
    "outputId": "dc8264ca-0f21-4c6b-f2c0-af0c785ca5cd"
   },
   "outputs": [
    {
     "data": {
      "text/plain": [
       "[2, 3, 5]"
      ]
     },
     "execution_count": 21,
     "metadata": {
      "tags": []
     },
     "output_type": "execute_result"
    }
   ],
   "source": [
    "L[:3]"
   ]
  },
  {
   "cell_type": "markdown",
   "metadata": {
    "colab_type": "text",
    "id": "qUNJEyU1CIxz"
   },
   "source": [
    "Si dejamos afuera el último índice, se asume el largo de la lista."
   ]
  },
  {
   "cell_type": "code",
   "execution_count": 0,
   "metadata": {
    "colab": {
     "autoexec": {
      "startup": false,
      "wait_interval": 0
     },
     "output_extras": [
      {}
     ]
    },
    "colab_type": "code",
    "id": "0n5yzRSMCIx0",
    "outputId": "69d2b8ee-a197-4809-d088-a9160aab55c1"
   },
   "outputs": [
    {
     "data": {
      "text/plain": [
       "[5, 7, 11]"
      ]
     },
     "execution_count": 22,
     "metadata": {
      "tags": []
     },
     "output_type": "execute_result"
    }
   ],
   "source": [
    "L[-3:]"
   ]
  },
  {
   "cell_type": "markdown",
   "metadata": {
    "colab_type": "text",
    "id": "6TBCTj-ICIx5"
   },
   "source": [
    "También como en el \"range\" podemos especificar un entero más como \"salto\", tipo:"
   ]
  },
  {
   "cell_type": "code",
   "execution_count": 0,
   "metadata": {
    "colab": {
     "autoexec": {
      "startup": false,
      "wait_interval": 0
     },
     "output_extras": [
      {}
     ]
    },
    "colab_type": "code",
    "id": "gkYL6kEdCIx6",
    "outputId": "c429aeb1-3cac-4c66-d211-37595e8cd3c0"
   },
   "outputs": [
    {
     "data": {
      "text/plain": [
       "[2, 5, 11]"
      ]
     },
     "execution_count": 23,
     "metadata": {
      "tags": []
     },
     "output_type": "execute_result"
    }
   ],
   "source": [
    "L[::2]  # equivalent to L[0:len(L):2]"
   ]
  },
  {
   "cell_type": "markdown",
   "metadata": {
    "colab_type": "text",
    "id": "1p23fTtgCIx-"
   },
   "source": [
    "Si especificamos un \"salto\" negativo, revertimos la lista:"
   ]
  },
  {
   "cell_type": "code",
   "execution_count": 0,
   "metadata": {
    "colab": {
     "autoexec": {
      "startup": false,
      "wait_interval": 0
     },
     "output_extras": [
      {}
     ]
    },
    "colab_type": "code",
    "id": "txXjy39-CIyC",
    "outputId": "4d44cf75-1aad-40c7-8d3b-ebceeb111d68"
   },
   "outputs": [
    {
     "data": {
      "text/plain": [
       "[11, 7, 5, 3, 2]"
      ]
     },
     "execution_count": 24,
     "metadata": {
      "tags": []
     },
     "output_type": "execute_result"
    }
   ],
   "source": [
    "L[::-1]"
   ]
  },
  {
   "cell_type": "markdown",
   "metadata": {
    "colab_type": "text",
    "id": "PPEypRvECIyH"
   },
   "source": [
    "**Vocabulario**:\n",
    "- Indexing: acceder a un elemento de la lista. Devuelve un elemento.\n",
    "- Slicing: acceder a un rango de elementos de la lista. Devuelve una sublista."
   ]
  },
  {
   "cell_type": "markdown",
   "metadata": {
    "colab_type": "text",
    "id": "332Ty9pmCIyI"
   },
   "source": [
    "### Modificando elementos de la lista\n",
    "\n",
    "No solo podemos usar \"indexing\" y \"slicing\" para acceder a elementos, sino también para asignarlos, por ejemplo:"
   ]
  },
  {
   "cell_type": "code",
   "execution_count": 0,
   "metadata": {
    "colab": {
     "autoexec": {
      "startup": false,
      "wait_interval": 0
     },
     "output_extras": [
      {}
     ]
    },
    "colab_type": "code",
    "id": "978LIKUuCIyJ",
    "outputId": "2b6b1d4d-d491-4b35-84d3-012ec88eee91"
   },
   "outputs": [
    {
     "name": "stdout",
     "output_type": "stream",
     "text": [
      "[100, 3, 5, 7, 11]\n"
     ]
    }
   ],
   "source": [
    "L[0] = 100\n",
    "print(L)"
   ]
  },
  {
   "cell_type": "code",
   "execution_count": 0,
   "metadata": {
    "colab": {
     "autoexec": {
      "startup": false,
      "wait_interval": 0
     },
     "output_extras": [
      {}
     ]
    },
    "colab_type": "code",
    "id": "FUt6P1s9CIyS",
    "outputId": "76be7a68-55fe-457c-a16a-471241a8ae26"
   },
   "outputs": [
    {
     "name": "stdout",
     "output_type": "stream",
     "text": [
      "[100, 55, 56, 7, 11]\n"
     ]
    }
   ],
   "source": [
    "L[1:3] = [55, 56]\n",
    "print(L)"
   ]
  }
 ],
 "metadata": {
  "colab": {
   "default_view": {},
   "name": "03 Listas y Pandas.ipynb",
   "provenance": [],
   "version": "0.3.2",
   "views": {}
  },
  "kernelspec": {
   "display_name": "Python 3",
   "language": "python",
   "name": "python3"
  },
  "language_info": {
   "codemirror_mode": {
    "name": "ipython",
    "version": 3
   },
   "file_extension": ".py",
   "mimetype": "text/x-python",
   "name": "python",
   "nbconvert_exporter": "python",
   "pygments_lexer": "ipython3",
   "version": "3.6.4"
  }
 },
 "nbformat": 4,
 "nbformat_minor": 1
}
