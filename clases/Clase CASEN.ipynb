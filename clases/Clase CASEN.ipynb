{
 "cells": [
  {
   "cell_type": "markdown",
   "metadata": {},
   "source": [
    "# Paseando con la Encuesta CASEN\n",
    "\n",
    "En esta clase cargaremos un dataset _real_, que es utilizado tanto para la toma de decisiones y políticas públicas, como para investigación. La encuesta de caracterización socio-económica nacional, CASEN, en el año 2015. La encuesta CASEN se hace cada dos años en todo el país. Actualmente los datos de la versión 2017 se están procesando y debiesen estar disponibles en algunos meses.\n",
    "\n",
    "Al terminar esta clase debiésemos haber aprendido a:\n",
    "\n",
    "  * Cargar e inspeccionar un dataset utilizando `pandas`.\n",
    "  * Visualización exploratoria de variables, utilizando `pandas`, `seaborn` y `matplotlib`.\n",
    "  * Comprender que no siempre los datos se pueden analizar de manera directa, fila por fila (u observación por observación), sino que existen restricciones que impiden hacer cálculos representativos sin tener que utilizar operaciones auxiliares.\n",
    "  * Calcular distribuciones de variables a través de la agrupación de observaciones.\n",
    "  * Calcular distribuciones representativas para la población.\n",
    "  \n",
    "Necesitaremos también hacer uso de los siguientes archivos:\n",
    "\n",
    "  * [Libro de Códigos CASEN 2015](http://observatorio.ministeriodesarrollosocial.gob.cl/casen-multidimensional/casen/docs/Libro_de_Codigos_Casen_2015.pdf)\n",
    "\n",
    "## Preámbulo"
   ]
  },
  {
   "cell_type": "code",
   "execution_count": null,
   "metadata": {},
   "outputs": [],
   "source": [
    "import pandas as pd\n",
    "import matplotlib.pyplot as plt\n",
    "import seaborn as sns\n",
    "import numpy as np\n",
    "\n",
    "sns.set(context='poster', style='ticks', palette='Accent', font='Linux Biolinum O', font_scale=1.1)\n",
    "%matplotlib inline"
   ]
  },
  {
   "cell_type": "markdown",
   "metadata": {},
   "source": [
    "## Datasets"
   ]
  },
  {
   "cell_type": "code",
   "execution_count": null,
   "metadata": {},
   "outputs": [],
   "source": [
    "casen_path = '../udd/datasets/2015_casen_survey/casen2015.csv.gz'\n",
    "names_path = '../udd/datasets/2015_casen_survey/diccionario_dpa.xlsx.csv'"
   ]
  },
  {
   "cell_type": "code",
   "execution_count": null,
   "metadata": {},
   "outputs": [],
   "source": [
    "comunal_names = pd.read_csv(names_path, index_col='cut_comuna').rename(columns={'nombre_comuna_dl2339': 'nombre_comuna'})\n",
    "comunal_names.head()"
   ]
  },
  {
   "cell_type": "code",
   "execution_count": null,
   "metadata": {},
   "outputs": [],
   "source": [
    "casen = (pd.read_csv(casen_path, sep=',', encoding='iso-8859-1')\n",
    "         .join(comunal_names.nombre_comuna, on='comuna')\n",
    "        )\n",
    "\n",
    "casen.info()"
   ]
  },
  {
   "cell_type": "code",
   "execution_count": null,
   "metadata": {},
   "outputs": [],
   "source": [
    "casen.head()"
   ]
  },
  {
   "cell_type": "code",
   "execution_count": null,
   "metadata": {},
   "outputs": [],
   "source": [
    "list(casen.columns)"
   ]
  },
  {
   "cell_type": "markdown",
   "metadata": {},
   "source": [
    "### Exploración de Variables\n",
    "\n",
    "Una manera típica de explorar variables es a través de histogramas, que nos permiten ver la frecuencia con la que aparecen en el dataset valores distribuidos en cajas o _bins_."
   ]
  },
  {
   "cell_type": "code",
   "execution_count": null,
   "metadata": {},
   "outputs": [],
   "source": [
    "casen['edad'].plot(kind='hist', bins=10)\n",
    "sns.despine()"
   ]
  },
  {
   "cell_type": "code",
   "execution_count": null,
   "metadata": {},
   "outputs": [],
   "source": [
    "sns.countplot(casen['sexo'])"
   ]
  },
  {
   "cell_type": "code",
   "execution_count": null,
   "metadata": {},
   "outputs": [],
   "source": [
    "sns.countplot(casen['region'])\n",
    "sns.despine()"
   ]
  },
  {
   "cell_type": "markdown",
   "metadata": {},
   "source": [
    "**Ejercicio**: elegir una variable para cada tipo de gráfico y probarlo."
   ]
  },
  {
   "cell_type": "code",
   "execution_count": null,
   "metadata": {},
   "outputs": [],
   "source": []
  },
  {
   "cell_type": "markdown",
   "metadata": {},
   "source": [
    "----\n",
    "\n",
    "El módulo `seaborn` tiene funciones que permiten hacer diagramas más informativos. Por ejemplo, el \"distribution plot\" mezcla un histograma (al que se le calcula automáticamente un número óptimo de _bins_) junto a una _Kernel Density Estimation_, que permite ver la función que genera el histograma:"
   ]
  },
  {
   "cell_type": "code",
   "execution_count": null,
   "metadata": {},
   "outputs": [],
   "source": [
    "sns.distplot(casen['edad'])\n",
    "#sns.despine()"
   ]
  },
  {
   "cell_type": "markdown",
   "metadata": {},
   "source": [
    "Y, aunque no es el foco de la clase de hoy, es posible también usar `distplot` en una grilla de gráficos a través del objeto `sns.FacetGrid`:"
   ]
  },
  {
   "cell_type": "code",
   "execution_count": null,
   "metadata": {},
   "outputs": [],
   "source": [
    "sns.FacetGrid(data=casen, col='zona', hue='sexo', size=6, aspect=1.5).map(sns.distplot, 'edad').add_legend()"
   ]
  },
  {
   "cell_type": "markdown",
   "metadata": {},
   "source": [
    "¿Cómo interpretan estos resultados?\n",
    "\n",
    "**Ejercicio**: ¿Qué combinaciones de variables se les ocurren?"
   ]
  },
  {
   "cell_type": "code",
   "execution_count": null,
   "metadata": {},
   "outputs": [],
   "source": []
  },
  {
   "cell_type": "markdown",
   "metadata": {},
   "source": [
    "---\n",
    "\n",
    "Ahora veremos los \"factores de expansión\" de la encuesta. Cada observación (que corresponde a una persona) tiene un _ponderador_ que indica a cuántas otras personas representa. Entonces, cuando dije que no se podían realizar análisis de manera directa, es porque _no todas las personas tienen el mismo peso dentro de la encuesta_.\n",
    "\n",
    "Hay varios factores de expansión, pero nos enfocaremos en el factor regional: `expr`."
   ]
  },
  {
   "cell_type": "code",
   "execution_count": null,
   "metadata": {},
   "outputs": [],
   "source": [
    "casen['expr'].describe()"
   ]
  },
  {
   "cell_type": "code",
   "execution_count": null,
   "metadata": {},
   "outputs": [],
   "source": [
    "sns.distplot(casen['expr'])\n",
    "plt.xlim([0, 1000])"
   ]
  },
  {
   "cell_type": "markdown",
   "metadata": {},
   "source": [
    "Como pueden ver, una persona como mínimo se representa solamente a sí misma, mientras que hay otras que cuentan por más de cuatro mil.\n",
    "\n",
    "**Ejercicio**: Para facilitar el análisis, trabajaremos solamente con datos de la región metropolitana. ¿Cómo hacerlo?"
   ]
  },
  {
   "cell_type": "code",
   "execution_count": null,
   "metadata": {},
   "outputs": [],
   "source": [
    "casen_rm = ???\n",
    "casen_rm.shape"
   ]
  },
  {
   "cell_type": "markdown",
   "metadata": {},
   "source": [
    "Hay 267 mil personas en la encuesta, pero representan a..."
   ]
  },
  {
   "cell_type": "code",
   "execution_count": null,
   "metadata": {},
   "outputs": [],
   "source": [
    "casen_rm['expr'].sum()"
   ]
  },
  {
   "cell_type": "markdown",
   "metadata": {},
   "source": [
    "Veamos cuántas observaciones hay por comuna:"
   ]
  },
  {
   "cell_type": "code",
   "execution_count": null,
   "metadata": {},
   "outputs": [],
   "source": [
    "plt.figure(figsize=(8,14))\n",
    "sns.countplot(y='nombre_comuna', data=casen_rm)\n",
    "sns.despine()"
   ]
  },
  {
   "cell_type": "markdown",
   "metadata": {},
   "source": [
    "**Ejercicio**: ¿Cómo podemos calcular la población total por comuna representada por la encuesta?"
   ]
  },
  {
   "cell_type": "code",
   "execution_count": null,
   "metadata": {},
   "outputs": [],
   "source": [
    "population = ???\n",
    "\n",
    "plt.figure(figsize=(8,14))\n",
    "sns.barplot(y='nombre_comuna', x='expr', data=population)\n",
    "sns.despine()"
   ]
  },
  {
   "cell_type": "markdown",
   "metadata": {},
   "source": [
    "## Tipos de Preguntas\n",
    "\n",
    "En la encuesta hay por lo menos tres tipos de preguntas:\n",
    "\n",
    "  * Las que tienen una respuesta cuantitativa. Por ej., _¿Cuál es tu ingreso?¿Cuántos años tienes?_\n",
    "  * Las que tienen respuestas categóricas. Por ej., _¿Cuál es tu sexo?_\n",
    "  * Las que tienen text. Por ej., _¿En qué comuna vivías hace cinco años?_\n",
    "  \n",
    "Como vimos, estimar las distribuciones de los dos primeros tipos no es algo directo debido a los factores de expansión. ¡No considerar los factores de expansión introducirá errores en los resultados!"
   ]
  },
  {
   "cell_type": "markdown",
   "metadata": {},
   "source": [
    "## Preguntas con Respuestas Categóricas\n",
    "\n",
    "Probemos la pregunta `o25c` (miren el libro de códigos) que trata sobre el medio de transporte utilizado para ir al trabajo.\n",
    "\n",
    "Primero, vemos que no todas las personas responden esta pregunta:"
   ]
  },
  {
   "cell_type": "code",
   "execution_count": null,
   "metadata": {},
   "outputs": [],
   "source": [
    "casen_rm['o25c'].sample(5)"
   ]
  },
  {
   "cell_type": "markdown",
   "metadata": {},
   "source": [
    "**¿Por qué?**\n",
    "\n",
    "---\n",
    "\n",
    "Las respuestas son numéricas:"
   ]
  },
  {
   "cell_type": "code",
   "execution_count": null,
   "metadata": {},
   "outputs": [],
   "source": [
    "sns.countplot(y='o25c', data=casen_rm)\n",
    "sns.despine()"
   ]
  },
  {
   "cell_type": "markdown",
   "metadata": {},
   "source": [
    "Podemos manualmente asignar etiquetas, que transcribimos desde el libro de códigos:"
   ]
  },
  {
   "cell_type": "code",
   "execution_count": null,
   "metadata": {},
   "outputs": [],
   "source": [
    "labels = ['Transporte Público', 'Motorizado Particular', 'A Pie', 'Bicicleta u otro No Motorizado', 'Otro']\n",
    "sns.countplot(y='o25c', data=casen_rm)\n",
    "plt.gca().set_yticklabels(labels)\n",
    "sns.despine()"
   ]
  },
  {
   "cell_type": "markdown",
   "metadata": {},
   "source": [
    "Haremos una función para calcular el total expandido de un dataframe:"
   ]
  },
  {
   "cell_type": "code",
   "execution_count": null,
   "metadata": {},
   "outputs": [],
   "source": [
    "variable = 'o25c'\n",
    "\n",
    "def expanded_total(dataframe):\n",
    "    return (dataframe.groupby(variable)\n",
    "            .aggregate({'expr': 'sum'})\n",
    "            .reset_index()\n",
    "    )\n",
    "\n",
    "expanded_total(casen_rm)"
   ]
  },
  {
   "cell_type": "markdown",
   "metadata": {},
   "source": [
    "Pero el total no es necesariamente informativo. Ahora revisaremos cómo podemos calcular las estadísticas a nivel comunal.\n",
    "\n",
    "Necesitamos es poder calcular el total de una población por comuna."
   ]
  },
  {
   "cell_type": "code",
   "execution_count": null,
   "metadata": {},
   "outputs": [],
   "source": [
    "relevant_population = (casen_rm[~pd.isnull(casen_rm[variable])]\n",
    "                       .groupby('nombre_comuna')\n",
    "                       .aggregate({'expr': 'sum'})\n",
    ")\n",
    "\n",
    "relevant_population.sample(5)"
   ]
  },
  {
   "cell_type": "markdown",
   "metadata": {},
   "source": [
    "También necesitaremos una manera de calcular el total expandido para cada alternativa de la pregunta:"
   ]
  },
  {
   "cell_type": "code",
   "execution_count": null,
   "metadata": {
    "scrolled": true
   },
   "outputs": [],
   "source": [
    "expanded_values = (casen_rm[~pd.isnull(casen_rm[variable])]\n",
    "                   .groupby('nombre_comuna')\n",
    "                   .apply(expanded_total)\n",
    ")\n",
    "\n",
    "expanded_values"
   ]
  },
  {
   "cell_type": "code",
   "execution_count": null,
   "metadata": {},
   "outputs": [],
   "source": [
    "values_per_municipality = (expanded_values.reset_index()\n",
    "                           .pivot_table(index='nombre_comuna', columns='o25c', values='expr')\n",
    "                           .fillna(0.0))\n",
    "values_per_municipality"
   ]
  },
  {
   "cell_type": "code",
   "execution_count": null,
   "metadata": {},
   "outputs": [],
   "source": [
    "fractions_per_municipality = values_per_municipality.div(relevant_population['expr'], axis='index')\n",
    "fractions_per_municipality"
   ]
  },
  {
   "cell_type": "code",
   "execution_count": null,
   "metadata": {},
   "outputs": [],
   "source": [
    "fractions_per_municipality.columns = labels"
   ]
  },
  {
   "cell_type": "code",
   "execution_count": null,
   "metadata": {},
   "outputs": [],
   "source": [
    "fractions_per_municipality"
   ]
  },
  {
   "cell_type": "code",
   "execution_count": null,
   "metadata": {},
   "outputs": [],
   "source": [
    "plt.figure(figsize=(8,24))\n",
    "sns.heatmap(fractions_per_municipality, annot=True, linewidth=1)"
   ]
  },
  {
   "cell_type": "code",
   "execution_count": null,
   "metadata": {},
   "outputs": [],
   "source": [
    "sns.clustermap(fractions_per_municipality, annot=True, linewidth=1, figsize=(8,24))"
   ]
  },
  {
   "cell_type": "markdown",
   "metadata": {},
   "source": [
    "Ahora haremos una función que automatice el análisis que realizamos:"
   ]
  },
  {
   "cell_type": "code",
   "execution_count": null,
   "metadata": {},
   "outputs": [],
   "source": [
    "def matrix_sum(source, labels, group_col, test_var, test_exp):\n",
    "    source_population = source[~pd.isnull(source[test_var])].groupby(group_col).agg({test_exp: 'sum'})\n",
    "\n",
    "    test_agg = (source[~pd.isnull(source[test_var])].groupby(group_col)\n",
    "        .apply(lambda x: x.groupby(test_var).agg({test_exp: 'sum'}).reset_index())\n",
    "        .reset_index()\n",
    "        .pipe(lambda x: x.pivot_table(index=group_col, columns=test_var, values=test_exp))\n",
    "        .fillna(0.0)\n",
    "        .pipe(lambda x: x.div(source_population[test_exp], axis='index'))\n",
    "    )\n",
    "    \n",
    "    test_agg.columns = labels\n",
    "    \n",
    "    return test_agg\n",
    "\n",
    "fractions_per_municipality = matrix_sum(casen_rm, labels, 'nombre_comuna', 'o25c', 'expr')\n",
    "fractions_per_municipality.sample(5)"
   ]
  },
  {
   "cell_type": "code",
   "execution_count": null,
   "metadata": {
    "scrolled": false
   },
   "outputs": [],
   "source": [
    "plt.figure(figsize=(6,24))\n",
    "sns.heatmap(fractions_per_municipality, \n",
    "            fmt='.2f', xticklabels=labels, annot=True, cmap='PuBu', center=0.5, cbar=False, linewidth=1)"
   ]
  },
  {
   "cell_type": "markdown",
   "metadata": {},
   "source": [
    "Usemos nuestra función para explorar otra pregunta: `oficio1`."
   ]
  },
  {
   "cell_type": "code",
   "execution_count": null,
   "metadata": {},
   "outputs": [],
   "source": [
    "labels = [\n",
    "    'Fuerzas Armadas',\n",
    "    'Poder Ejecutivo/Legislativo',\n",
    "    'Profesionales, Científicos e Intelectuales',\n",
    "    'Técnicos Profesionales de nivel medio',\n",
    "    'Empleados de Oficina',\n",
    "    'Servicios y Vendedores',\n",
    "    'Calificados (agricultura, agropecuaria)',\n",
    "    'Oficiales y operarios de artes mecánicas',\n",
    "    'Operadores e instaladores de maquinaria',\n",
    "    'No calificados'\n",
    "]\n",
    "\n",
    "fractions_per_municipality = matrix_sum(casen_rm, labels, 'nombre_comuna', 'oficio1', 'expr')"
   ]
  },
  {
   "cell_type": "code",
   "execution_count": null,
   "metadata": {},
   "outputs": [],
   "source": [
    "sns.clustermap(fractions_per_municipality.T, row_cluster=False, metric='cosine', method='ward', annot=True,\n",
    "               fmt='.2f', figsize=(36,8), cmap='viridis', cbar=False)"
   ]
  },
  {
   "cell_type": "markdown",
   "metadata": {},
   "source": [
    "## Datos Cuantitativos"
   ]
  },
  {
   "cell_type": "code",
   "execution_count": null,
   "metadata": {},
   "outputs": [],
   "source": [
    "from statsmodels.stats.weightstats import DescrStatsW"
   ]
  },
  {
   "cell_type": "code",
   "execution_count": null,
   "metadata": {},
   "outputs": [],
   "source": [
    "def weighted_stats(g):\n",
    "    d = DescrStatsW(g.ytotcorh.values, weights=g['expr'].values)\n",
    "    quantiles = d.quantile([0.025, 0.5, 0.975], return_pandas=False)\n",
    "    return pd.DataFrame.from_records([{'mean_ytotcorh': d.mean, \n",
    "                                       'std_ytotcorh': d.std,\n",
    "                                       'std_var': d.var,\n",
    "                                       'percentile_025_ytotcorh': quantiles[0], \n",
    "                                       'percentile_50_ytotcorh': quantiles[1],\n",
    "                                       'percentile_975_ytotcorh': quantiles[2]}])"
   ]
  },
  {
   "cell_type": "code",
   "execution_count": null,
   "metadata": {},
   "outputs": [],
   "source": [
    "test = (casen_rm.drop_duplicates(subset='folio')\n",
    "            .groupby('nombre_comuna')\n",
    "            .apply(weighted_stats)\n",
    "            .pipe(lambda x: x.reset_index().drop('level_1', axis=1).set_index(group_col))\n",
    "           )\n",
    "test_agg"
   ]
  },
  {
   "cell_type": "code",
   "execution_count": null,
   "metadata": {},
   "outputs": [],
   "source": [
    "plt.figure(figsize=(12,6))\n",
    "plt.errorbar(np.arange(1, test_agg.shape[0] + 1), test_agg.mean_ytotcorh,  \n",
    "         yerr=[test_agg.mean_ytotcorh - test_agg['percentile_025_ytotcorh'], \n",
    "               test_agg['percentile_975_ytotcorh'] - test_agg.mean_ytotcorh],\n",
    "         linestyle='None', marker='o')\n",
    "plt.gca().ticklabel_format(style='plain')\n",
    "plt.xticks(np.arange(1, test_agg.shape[0] + 1), test_agg.index.values, rotation=90)\n",
    "plt.ylabel('Stuff')\n",
    "sns.despine()\n",
    "#plt.scatter(np.arange(1, test_agg.shape[0] + 1), test_agg.percentile_50_ytotcorh, marker='x')"
   ]
  },
  {
   "cell_type": "code",
   "execution_count": null,
   "metadata": {},
   "outputs": [],
   "source": []
  }
 ],
 "metadata": {
  "kernelspec": {
   "display_name": "Python 3.5 (Ubuntu 16.04)",
   "language": "python",
   "name": "python3-ubuntu"
  },
  "language_info": {
   "codemirror_mode": {
    "name": "ipython",
    "version": 3
   },
   "file_extension": ".py",
   "mimetype": "text/x-python",
   "name": "python",
   "nbconvert_exporter": "python",
   "pygments_lexer": "ipython3",
   "version": "3.5.2"
  }
 },
 "nbformat": 4,
 "nbformat_minor": 2
}
