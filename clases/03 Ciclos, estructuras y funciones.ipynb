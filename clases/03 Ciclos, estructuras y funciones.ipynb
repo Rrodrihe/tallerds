{
 "cells": [
  {
   "cell_type": "markdown",
   "metadata": {},
   "source": [
    "**Metadata**: Estos notebooks están (más que) inspirados en el excelente trabajo de [Jake van der Plass](https://github.com/jakevdp/) y su [Whirlwind Tour Of Python](https://github.com/jakevdp/WhirlwindTourOfPython). Ver A Whirlwind Tour of Python by Jake VanderPlas (O’Reilly). Copyright 2016 O’Reilly Media, Inc., 978-1-491-96465-1.\". Estos notebooks están protegidos con la misma licencia de los originales, [Creative Commons 0](). Todas las notas están disponibles en [PrograUDD](https://github.com/leoferres/prograUDD).\n",
    "\n",
    "**Nota**: Estos notebooks están basados en la cátedra de programación dirigida por el Excmo. Sr. Dr. [Leo Ferres](https://github.com/leoferres). \n",
    "Bajo licencia [Creative Commons 0](). Todas las notas están disponibles en [TallerDataScience](https://github.com/diegocaro/tallerds)."
   ]
  },
  {
   "cell_type": "markdown",
   "metadata": {},
   "source": [
    "# Objetivos de la clase\n",
    "1. Elaborar código Python con if/else y loops con numeros y strings.\n",
    "1. Elaborar código Python usando estructuras de datos list, dict y set.\n",
    "1. Utilizar funciones y módulos para encapsular procesamiento.\n",
    "1. Elaborar programas utilizando numpy**."
   ]
  },
  {
   "cell_type": "markdown",
   "metadata": {},
   "source": [
    "# Ciclos iterativos\n",
    "\n",
    "Los loops en Python son una manera de ejecutar código repetidamente. Supongamos que queremos imprimir todos los elementos de una lista:"
   ]
  },
  {
   "cell_type": "code",
   "execution_count": 1,
   "metadata": {
    "collapsed": false
   },
   "outputs": [
    {
     "name": "stdout",
     "output_type": "stream",
     "text": [
      "2 3 5 7 "
     ]
    }
   ],
   "source": [
    "for k in [2, 3, 5, 7]:\n",
    "    print(k, end=' ')"
   ]
  },
  {
   "cell_type": "markdown",
   "metadata": {},
   "source": [
    "Fíjense las partes del loop: el `for`, una variable `k` para mantener estado, el operador de membresía `in` y la lista misma. \n",
    "\n",
    "**Es casi lenguaje natural**\n",
    "\n",
    "La parte más a la derecha del ciclo for (donde está la lista) puede ser cualquier *iterador* (un objeto que podamos \"recorrer\"), para más información revisar [aqui](http://anandology.com/python-practice-book/iterators.html)."
   ]
  },
  {
   "cell_type": "markdown",
   "metadata": {},
   "source": [
    "Uno de los iteradores más comunes de Python es la función `range()`, que genera una secuencia de números."
   ]
  },
  {
   "cell_type": "code",
   "execution_count": 2,
   "metadata": {
    "collapsed": false
   },
   "outputs": [
    {
     "name": "stdout",
     "output_type": "stream",
     "text": [
      "0 1 2 3 4 5 6 7 8 9 "
     ]
    }
   ],
   "source": [
    "for i in range(10):\n",
    "    print(i, end=' ')"
   ]
  },
  {
   "cell_type": "markdown",
   "metadata": {},
   "source": [
    "Noten que siempre las iteraciones empiezan con 0 y que por convención el último elemento del objeto no se incluye (el número \"10\" en este caso). El objeto `range` puede tomar secuencias (rangos, por eso el nombre) más complicados, por ejemplo:"
   ]
  },
  {
   "cell_type": "code",
   "execution_count": 3,
   "metadata": {
    "collapsed": false
   },
   "outputs": [
    {
     "data": {
      "text/plain": [
       "[5, 6, 7, 8, 9]"
      ]
     },
     "execution_count": 3,
     "metadata": {},
     "output_type": "execute_result"
    }
   ],
   "source": [
    "# range de 5 a 10\n",
    "list(range(5, 10))"
   ]
  },
  {
   "cell_type": "code",
   "execution_count": 4,
   "metadata": {
    "collapsed": false
   },
   "outputs": [
    {
     "data": {
      "text/plain": [
       "[0, 2, 4, 6, 8]"
      ]
     },
     "execution_count": 4,
     "metadata": {},
     "output_type": "execute_result"
    }
   ],
   "source": [
    "# range de 0 a 10 de a 2\n",
    "list(range(0, 10, 2))"
   ]
  },
  {
   "cell_type": "markdown",
   "metadata": {},
   "source": [
    "Vocabulario:\n",
    "- Usaremos la palabra **iterar** cuando se debe ejecutar un ciclo para computar algún valor."
   ]
  },
  {
   "cell_type": "markdown",
   "metadata": {},
   "source": [
    "## Ciclos `while`\n",
    "\n",
    "El otro tipo de ciclo en Python es el `while`, que se ejecuta mientras una condición se cumple."
   ]
  },
  {
   "cell_type": "code",
   "execution_count": 5,
   "metadata": {
    "collapsed": false
   },
   "outputs": [
    {
     "name": "stdout",
     "output_type": "stream",
     "text": [
      "0 1 2 3 4 5 6 7 8 9 "
     ]
    }
   ],
   "source": [
    "i = 0\n",
    "while i < 10: #aquí va la condición\n",
    "    print(i, end=' ')\n",
    "    i += 1"
   ]
  },
  {
   "cell_type": "markdown",
   "metadata": {},
   "source": [
    "## `break` y `continue`\n",
    "\n",
    "Algunas veces se necesita interrumpir el código\n",
    "\n",
    " - `break` detiene el loop\n",
    " - `continue` se salta a la siguiente iteración del código"
   ]
  },
  {
   "cell_type": "code",
   "execution_count": 6,
   "metadata": {
    "collapsed": false
   },
   "outputs": [
    {
     "name": "stdout",
     "output_type": "stream",
     "text": [
      "1 3 5 7 9 11 13 15 17 19 "
     ]
    }
   ],
   "source": [
    "for n in range(20):\n",
    "    # si el resto es 0, salte lo que queda de la iteración\n",
    "    if n % 2 == 0:\n",
    "        continue\n",
    "    print(n, end=' ')"
   ]
  },
  {
   "cell_type": "markdown",
   "metadata": {
    "collapsed": true
   },
   "source": [
    "# Estructuras de datos nativas\n",
    "\n",
    "Hemos visto los tipos de datos simples de Python: `int`, `float`, `str`, etc. Python también tiene algunas tipos de datos complejos:\n",
    "\n",
    "| Tipo | Ejemplo                    |Descripción                            |\n",
    "    |-----------|---------------------------|---------------------------------------|\n",
    "    | ``list``  | ``[1, 2, 3]``             | colección                     |\n",
    "    | ``tuple`` | ``(1, 2, 3)``             |colección ordenada inmutable (no se puede actualizar)          |\n",
    "    | ``dict``  | ``{'a':1, 'b':2, 'c':3}``  | Diccionario (llave,valor) sin orden         |\n",
    "    | ``set``   | ``{1, 2, 3}``              |Conjunto, colección sin orden objectos únicos |\n",
    "    \n",
    "Como ven, lo que define el tipo de objetos son los parentesis, corchetes, y llaves con ciertas pequeñas diferencias."
   ]
  },
  {
   "cell_type": "markdown",
   "metadata": {},
   "source": [
    "## Las listas\n",
    "\n",
    "Una lista es una colección de objetos ordenados de la misma manera en que fueron insertados.\n",
    "Se definen con los valores separados por comas:\n"
   ]
  },
  {
   "cell_type": "code",
   "execution_count": 7,
   "metadata": {
    "collapsed": true
   },
   "outputs": [],
   "source": [
    "L = [7, 3, 5, 2]"
   ]
  },
  {
   "cell_type": "code",
   "execution_count": 8,
   "metadata": {
    "collapsed": false
   },
   "outputs": [
    {
     "data": {
      "text/plain": [
       "[7, 3, 5, 2]"
      ]
     },
     "execution_count": 8,
     "metadata": {},
     "output_type": "execute_result"
    }
   ],
   "source": [
    "L"
   ]
  },
  {
   "cell_type": "markdown",
   "metadata": {},
   "source": [
    "Hay una serie de **métodos** disponibles para las listas, veamos algunos de los más comunes:\n",
    "\n",
    "(Recordar que un **método** es una mecanismo que permite acceder y modificar el contenido de una variable)"
   ]
  },
  {
   "cell_type": "code",
   "execution_count": 9,
   "metadata": {
    "collapsed": false
   },
   "outputs": [
    {
     "data": {
      "text/plain": [
       "4"
      ]
     },
     "execution_count": 9,
     "metadata": {},
     "output_type": "execute_result"
    }
   ],
   "source": [
    "# largo de la lista\n",
    "len(L)"
   ]
  },
  {
   "cell_type": "code",
   "execution_count": 10,
   "metadata": {
    "collapsed": false
   },
   "outputs": [
    {
     "data": {
      "text/plain": [
       "[7, 3, 5, 2, 11]"
      ]
     },
     "execution_count": 10,
     "metadata": {},
     "output_type": "execute_result"
    }
   ],
   "source": [
    "# agregar un elemento a la lista\n",
    "L.append(11)\n",
    "L"
   ]
  },
  {
   "cell_type": "code",
   "execution_count": 11,
   "metadata": {
    "collapsed": false
   },
   "outputs": [
    {
     "data": {
      "text/plain": [
       "[7, 3, 5, 2, 11, 13, 17, 19]"
      ]
     },
     "execution_count": 11,
     "metadata": {},
     "output_type": "execute_result"
    }
   ],
   "source": [
    "# aquí, la operación de suma concatena (une) listas\n",
    "L + [13, 17, 19]"
   ]
  },
  {
   "cell_type": "code",
   "execution_count": 12,
   "metadata": {
    "collapsed": false
   },
   "outputs": [
    {
     "data": {
      "text/plain": [
       "[1, 2, 3, 4, 5, 6]"
      ]
     },
     "execution_count": 12,
     "metadata": {},
     "output_type": "execute_result"
    }
   ],
   "source": [
    "# sort() ordena la lista (modifica la posición de los elementos de acuerdo a alguna operación)\n",
    "L = [2, 5, 1, 6, 3, 4]\n",
    "L.sort()\n",
    "L"
   ]
  },
  {
   "cell_type": "markdown",
   "metadata": {},
   "source": [
    "Hay muchos más métodos que se encuentran en la [documentación de Python](https://docs.python.org/3/tutorial/datastructures.html)."
   ]
  },
  {
   "cell_type": "markdown",
   "metadata": {},
   "source": [
    "Las listas pueden contener cualquier clase de objeto, pero guarda como la estructuran y acceden!"
   ]
  },
  {
   "cell_type": "code",
   "execution_count": 13,
   "metadata": {
    "collapsed": true
   },
   "outputs": [],
   "source": [
    "L = [1, 'two', 3.14, [0, 3, 5]]"
   ]
  },
  {
   "cell_type": "code",
   "execution_count": 14,
   "metadata": {
    "collapsed": false
   },
   "outputs": [
    {
     "data": {
      "text/plain": [
       "[1, 'two', 3.14, [0, 3, 5]]"
      ]
     },
     "execution_count": 14,
     "metadata": {},
     "output_type": "execute_result"
    }
   ],
   "source": [
    "L"
   ]
  },
  {
   "cell_type": "markdown",
   "metadata": {},
   "source": [
    "## Accediendo a elementos de la listas y sublistas\n",
    "\n",
    "Python tiene un metodo conveniente para acceder a los diversos valores de las listas o a \"rangos\" de valores. Esto se hace a través de una notación tipo matricial (bueh, donde los subíndices se cambian por corchetes):"
   ]
  },
  {
   "cell_type": "code",
   "execution_count": 15,
   "metadata": {
    "collapsed": true
   },
   "outputs": [],
   "source": [
    "L = [2, 3, 5, 7, 11]"
   ]
  },
  {
   "cell_type": "markdown",
   "metadata": {},
   "source": [
    "De nuevo, Python usa 0-based indexing para acceder a los miembros, eso significa que el primer elemento de la lista está en la posición cero:"
   ]
  },
  {
   "cell_type": "code",
   "execution_count": 16,
   "metadata": {
    "collapsed": false
   },
   "outputs": [
    {
     "data": {
      "text/plain": [
       "2"
      ]
     },
     "execution_count": 16,
     "metadata": {},
     "output_type": "execute_result"
    }
   ],
   "source": [
    "L[0]"
   ]
  },
  {
   "cell_type": "code",
   "execution_count": 17,
   "metadata": {
    "collapsed": false
   },
   "outputs": [
    {
     "data": {
      "text/plain": [
       "3"
      ]
     },
     "execution_count": 17,
     "metadata": {},
     "output_type": "execute_result"
    }
   ],
   "source": [
    "L[1]"
   ]
  },
  {
   "cell_type": "markdown",
   "metadata": {},
   "source": [
    "Los elementos al final de la lista pueden accederse con índices negativos:"
   ]
  },
  {
   "cell_type": "code",
   "execution_count": 18,
   "metadata": {
    "collapsed": false
   },
   "outputs": [
    {
     "data": {
      "text/plain": [
       "11"
      ]
     },
     "execution_count": 18,
     "metadata": {},
     "output_type": "execute_result"
    }
   ],
   "source": [
    "L[-1]"
   ]
  },
  {
   "cell_type": "code",
   "execution_count": 19,
   "metadata": {
    "collapsed": false
   },
   "outputs": [
    {
     "data": {
      "text/plain": [
       "7"
      ]
     },
     "execution_count": 19,
     "metadata": {},
     "output_type": "execute_result"
    }
   ],
   "source": [
    "L[-2]"
   ]
  },
  {
   "cell_type": "markdown",
   "metadata": {},
   "source": [
    "Recordar: \n",
    "![indexando listas](https://github.com/jakevdp/WhirlwindTourOfPython/raw/f40b435dea823ad5f094d48d158cc8b8f282e9d5/fig/list-indexing.png)"
   ]
  },
  {
   "cell_type": "markdown",
   "metadata": {},
   "source": [
    "## Sublistas"
   ]
  },
  {
   "cell_type": "markdown",
   "metadata": {},
   "source": [
    "La operación de corchetes devuelve solo un elemento. Si queremos obtener una sublista, se debe indicar el rango de elementos que se desea obtener."
   ]
  },
  {
   "cell_type": "code",
   "execution_count": 20,
   "metadata": {
    "collapsed": false
   },
   "outputs": [
    {
     "data": {
      "text/plain": [
       "[2, 3, 5]"
      ]
     },
     "execution_count": 20,
     "metadata": {},
     "output_type": "execute_result"
    }
   ],
   "source": [
    "# Retorna una lista con los elementos 0, 1 y 2.\n",
    "L[0:3]"
   ]
  },
  {
   "cell_type": "markdown",
   "metadata": {},
   "source": [
    "Si sacamos el 0, se entiende igual \"desde el principio de la lista\""
   ]
  },
  {
   "cell_type": "code",
   "execution_count": 21,
   "metadata": {
    "collapsed": false
   },
   "outputs": [
    {
     "data": {
      "text/plain": [
       "[2, 3, 5]"
      ]
     },
     "execution_count": 21,
     "metadata": {},
     "output_type": "execute_result"
    }
   ],
   "source": [
    "L[:3]"
   ]
  },
  {
   "cell_type": "markdown",
   "metadata": {},
   "source": [
    "Si dejamos afuera el último índice, se asume el largo de la lista."
   ]
  },
  {
   "cell_type": "code",
   "execution_count": 22,
   "metadata": {
    "collapsed": false
   },
   "outputs": [
    {
     "data": {
      "text/plain": [
       "[5, 7, 11]"
      ]
     },
     "execution_count": 22,
     "metadata": {},
     "output_type": "execute_result"
    }
   ],
   "source": [
    "L[-3:]"
   ]
  },
  {
   "cell_type": "markdown",
   "metadata": {},
   "source": [
    "También como en el \"range\" podemos especificar un entero más como \"salto\", tipo:"
   ]
  },
  {
   "cell_type": "code",
   "execution_count": 23,
   "metadata": {
    "collapsed": false
   },
   "outputs": [
    {
     "data": {
      "text/plain": [
       "[2, 5, 11]"
      ]
     },
     "execution_count": 23,
     "metadata": {},
     "output_type": "execute_result"
    }
   ],
   "source": [
    "L[::2]  # equivalent to L[0:len(L):2]"
   ]
  },
  {
   "cell_type": "markdown",
   "metadata": {},
   "source": [
    "Si especificamos un \"salto\" negativo, revertimos la lista:"
   ]
  },
  {
   "cell_type": "code",
   "execution_count": 24,
   "metadata": {
    "collapsed": false
   },
   "outputs": [
    {
     "data": {
      "text/plain": [
       "[11, 7, 5, 3, 2]"
      ]
     },
     "execution_count": 24,
     "metadata": {},
     "output_type": "execute_result"
    }
   ],
   "source": [
    "L[::-1]"
   ]
  },
  {
   "cell_type": "markdown",
   "metadata": {},
   "source": [
    "**Vocabulario**:\n",
    "- Indexing: acceder a un elemento de la lista. Devuelve un elemento.\n",
    "- Slicing: acceder a un rango de elementos de la lista. Devuelve una sublista."
   ]
  },
  {
   "cell_type": "markdown",
   "metadata": {},
   "source": [
    "### Modificando elementos de la lista\n",
    "\n",
    "No solo podemos usar \"indexing\" y \"slicing\" para acceder a elementos, sino también para asignarlos, por ejemplo:"
   ]
  },
  {
   "cell_type": "code",
   "execution_count": 25,
   "metadata": {
    "collapsed": false
   },
   "outputs": [
    {
     "name": "stdout",
     "output_type": "stream",
     "text": [
      "[100, 3, 5, 7, 11]\n"
     ]
    }
   ],
   "source": [
    "L[0] = 100\n",
    "print(L)"
   ]
  },
  {
   "cell_type": "code",
   "execution_count": 26,
   "metadata": {
    "collapsed": false
   },
   "outputs": [
    {
     "name": "stdout",
     "output_type": "stream",
     "text": [
      "[100, 55, 56, 7, 11]\n"
     ]
    }
   ],
   "source": [
    "L[1:3] = [55, 56]\n",
    "print(L)"
   ]
  },
  {
   "cell_type": "markdown",
   "metadata": {},
   "source": [
    "## Ejercicio\n",
    "\n",
    "* Asuma que el entregan una lista con números. Diseñe un código que calcule el cuadrado de cada número. El resultado se debe entregar en una lista.\n"
   ]
  },
  {
   "cell_type": "code",
   "execution_count": 27,
   "metadata": {
    "collapsed": false
   },
   "outputs": [
    {
     "data": {
      "text/plain": [
       "[]"
      ]
     },
     "execution_count": 27,
     "metadata": {},
     "output_type": "execute_result"
    }
   ],
   "source": [
    "numeros = [1, 2, 99, 101]\n",
    "cuadrado = []\n",
    "\n",
    "# su codigo acá\n",
    "\n",
    "cuadrado # esto debería devolver [1, 4, 9801, 10201]"
   ]
  },
  {
   "cell_type": "markdown",
   "metadata": {},
   "source": [
    "* Resolver el problema 2 del diagnóstico usando ciclos"
   ]
  },
  {
   "cell_type": "code",
   "execution_count": 28,
   "metadata": {
    "collapsed": false
   },
   "outputs": [
    {
     "data": {
      "text/plain": [
       "0"
      ]
     },
     "execution_count": 28,
     "metadata": {},
     "output_type": "execute_result"
    }
   ],
   "source": [
    "notas = [4.0, 6.5, 7.0]\n",
    "promedio = 0\n",
    "\n",
    "# su código acá\n",
    "\n",
    "promedio # esto debería devolver 5.8333333333"
   ]
  },
  {
   "cell_type": "markdown",
   "metadata": {},
   "source": [
    "* Modifique el programa del ejercicio anterior para que tome en cuenta la ponderación de cada nota"
   ]
  },
  {
   "cell_type": "code",
   "execution_count": 29,
   "metadata": {
    "collapsed": false
   },
   "outputs": [
    {
     "data": {
      "text/plain": [
       "0"
      ]
     },
     "execution_count": 29,
     "metadata": {},
     "output_type": "execute_result"
    }
   ],
   "source": [
    "notas = [4.0, 6.5, 7.0]\n",
    "ponderacion = [0.1, 0.3, 0.6]\n",
    "promedio = 0\n",
    "\n",
    "# su código acá\n",
    "\n",
    "promedio # esto debería devolver 6.55"
   ]
  },
  {
   "cell_type": "markdown",
   "metadata": {},
   "source": [
    "## Dict (diccionarios)\n",
    "\n",
    "Los diccionarios son super flexibles (de hecho los objetos de Python son diccionarios). Sirven para asociar un elemento, con otro. \n",
    "Se pueden crear a traves de listas de pares `llave:valor` (`key:value`) entre llaves y separados por `:` (dos puntos) :"
   ]
  },
  {
   "cell_type": "code",
   "execution_count": 30,
   "metadata": {
    "collapsed": true
   },
   "outputs": [],
   "source": [
    "numbers = {'one':1, 'two':2, 'three':3}"
   ]
  },
  {
   "cell_type": "code",
   "execution_count": 31,
   "metadata": {
    "collapsed": false
   },
   "outputs": [
    {
     "data": {
      "text/plain": [
       "{'one': 1, 'three': 3, 'two': 2}"
      ]
     },
     "execution_count": 31,
     "metadata": {},
     "output_type": "execute_result"
    }
   ],
   "source": [
    "numbers"
   ]
  },
  {
   "cell_type": "markdown",
   "metadata": {},
   "source": [
    "Los elementos del diccionario se pueden acceder a través de corchetes:"
   ]
  },
  {
   "cell_type": "code",
   "execution_count": 32,
   "metadata": {
    "collapsed": false
   },
   "outputs": [
    {
     "data": {
      "text/plain": [
       "2"
      ]
     },
     "execution_count": 32,
     "metadata": {},
     "output_type": "execute_result"
    }
   ],
   "source": [
    "numbers['two']"
   ]
  },
  {
   "cell_type": "markdown",
   "metadata": {},
   "source": [
    "También se pueden agregar nuevos elementos al dict:"
   ]
  },
  {
   "cell_type": "code",
   "execution_count": 33,
   "metadata": {
    "collapsed": false
   },
   "outputs": [
    {
     "name": "stdout",
     "output_type": "stream",
     "text": [
      "{'one': 1, 'two': 2, 'three': 3, 'ninety': 90}\n"
     ]
    }
   ],
   "source": [
    "numbers['ninety'] = 90\n",
    "print(numbers)"
   ]
  },
  {
   "cell_type": "markdown",
   "metadata": {},
   "source": [
    "Los claves y valores de un diccionario también se pueden recorrer con un for:"
   ]
  },
  {
   "cell_type": "code",
   "execution_count": 34,
   "metadata": {
    "collapsed": false
   },
   "outputs": [
    {
     "name": "stdout",
     "output_type": "stream",
     "text": [
      "one -> 1\n",
      "two -> 2\n",
      "three -> 3\n",
      "ninety -> 90\n"
     ]
    }
   ],
   "source": [
    "for key, value in numbers.items():\n",
    "    print(key,'->', value)"
   ]
  },
  {
   "cell_type": "markdown",
   "metadata": {},
   "source": [
    "En los diccionarios no hay orden. Vean la [documentación](https://docs.python.org/3/library/stdtypes.html) de esta increible estructura de datos."
   ]
  },
  {
   "cell_type": "markdown",
   "metadata": {},
   "source": [
    "### ¿Para qué usar diccionarios?\n",
    "En la listas solo podemos acceder a elementos de acuerdo a su posición, lo que restringe su aplicación. \n",
    "Los diccionarios sirven para casos en los que es necesario relacionar un elemento con algo que no es su posición en una colección, por ejemplo:\n",
    "\n",
    "|                | Clave      |Valor           |\n",
    "|----------------|------------|----------------|\n",
    "| Guía de Teléfonos | Nombre | Teléfono |\n",
    "| Cuenta banacaria  | Nro. Cuenta | Balance |\n",
    "| Interneta DNS     | Nombre de dominio | Dirección IP |"
   ]
  },
  {
   "cell_type": "markdown",
   "metadata": {},
   "source": [
    "## Ejercicios\n",
    "\n",
    "* Le entregan una lista con números entre 0 y 6 representando días de la semana, donde el 0 representa el día lunes y el 6 el día domingo. Usando un diccionario y un ciclo, traduzca la representación numerica a un string indicando el día con palabras.\n",
    "  * ¿qué clave/valor usará para el diccionario?"
   ]
  },
  {
   "cell_type": "code",
   "execution_count": 35,
   "metadata": {
    "collapsed": false
   },
   "outputs": [
    {
     "data": {
      "text/plain": [
       "[]"
      ]
     },
     "execution_count": 35,
     "metadata": {},
     "output_type": "execute_result"
    }
   ],
   "source": [
    "dias = [0, 1, 1, 1, 4, 5, 2, 4, 3, 2, 0, 0]\n",
    "nombre = {} # diccionario con el nombre de los días\n",
    "salida = [] # agregue aqui los strings\n",
    "\n",
    "# su codigo aqui\n",
    "\n",
    "salida # debería devolver ['domingo', 'lunes', 'lunes', 'lunes' .......]"
   ]
  },
  {
   "cell_type": "markdown",
   "metadata": {},
   "source": [
    "* La moda es un estadístico descriptivo que entrega el valor que más se repite. Calcule la moda de la lista de días (hint: use un diccionario!)\n",
    "  * ¿Qué elementos usaría como clave y valor?"
   ]
  },
  {
   "cell_type": "code",
   "execution_count": 36,
   "metadata": {
    "collapsed": true
   },
   "outputs": [],
   "source": [
    "# su codigo aqui"
   ]
  },
  {
   "cell_type": "markdown",
   "metadata": {},
   "source": [
    "## Sets (conjuntos)\n",
    "\n",
    "Los sets son conjuntos (!) no ordenados de elementos únicos (como un set, duh). Se definen como listas (valores separados por comas), pero entre llaves:"
   ]
  },
  {
   "cell_type": "code",
   "execution_count": 37,
   "metadata": {
    "collapsed": true
   },
   "outputs": [],
   "source": [
    "primes = {2, 3, 5, 7}\n",
    "odds = {1, 3, 5, 7, 9}"
   ]
  },
  {
   "cell_type": "markdown",
   "metadata": {},
   "source": [
    "Igual que los sets matemáticos, a los sets de Python se pueden aplicar operadores como union, interseccion, diferencia, diferencia simétrica, entre otros. Por ejemplo:"
   ]
  },
  {
   "cell_type": "code",
   "execution_count": 38,
   "metadata": {
    "collapsed": false
   },
   "outputs": [
    {
     "data": {
      "text/plain": [
       "{1, 2, 3, 5, 7, 9}"
      ]
     },
     "execution_count": 38,
     "metadata": {},
     "output_type": "execute_result"
    }
   ],
   "source": [
    "# union\n",
    "primes | odds      # con un operador\n",
    "primes.union(odds) # con el método"
   ]
  },
  {
   "cell_type": "code",
   "execution_count": 39,
   "metadata": {
    "collapsed": false
   },
   "outputs": [
    {
     "data": {
      "text/plain": [
       "{3, 5, 7}"
      ]
     },
     "execution_count": 39,
     "metadata": {},
     "output_type": "execute_result"
    }
   ],
   "source": [
    "# intersección\n",
    "primes & odds             # con un op\n",
    "primes.intersection(odds) # con un metodo"
   ]
  },
  {
   "cell_type": "code",
   "execution_count": 40,
   "metadata": {
    "collapsed": false
   },
   "outputs": [
    {
     "data": {
      "text/plain": [
       "{2}"
      ]
     },
     "execution_count": 40,
     "metadata": {},
     "output_type": "execute_result"
    }
   ],
   "source": [
    "# diferencia\n",
    "primes - odds           # con un op\n",
    "primes.difference(odds) # con un metodo"
   ]
  },
  {
   "cell_type": "code",
   "execution_count": 41,
   "metadata": {
    "collapsed": false
   },
   "outputs": [
    {
     "data": {
      "text/plain": [
       "{1, 2, 9}"
      ]
     },
     "execution_count": 41,
     "metadata": {},
     "output_type": "execute_result"
    }
   ],
   "source": [
    "# diferencia simétrica: items que aparecen en un solo set\n",
    "primes ^ odds                     # con op\n",
    "primes.symmetric_difference(odds) # con metodo"
   ]
  },
  {
   "cell_type": "markdown",
   "metadata": {},
   "source": [
    "Y también se puede chequear si algún elemento pertenece a un conjunto:"
   ]
  },
  {
   "cell_type": "code",
   "execution_count": 42,
   "metadata": {
    "collapsed": false
   },
   "outputs": [
    {
     "data": {
      "text/plain": [
       "True"
      ]
     },
     "execution_count": 42,
     "metadata": {},
     "output_type": "execute_result"
    }
   ],
   "source": [
    "2 in primes"
   ]
  },
  {
   "cell_type": "markdown",
   "metadata": {},
   "source": [
    "### ¿Para qué usar sets?\n",
    "\n",
    "El tipo de dato **set** está específicamente diseñado para responder rápidamente a consultas de conjuntos ( pertenencia, intesección, unión, diferencia, etc...). Úsalo cuando sepas que los elementos no se pueden repetir.\n"
   ]
  },
  {
   "cell_type": "markdown",
   "metadata": {},
   "source": [
    "# Más sobre strings (cadenas de texto)\n",
    "\n",
    "Un string es una cadena de texto. Simplemente usa comillas para crear un nuevo string, por ejemplo:"
   ]
  },
  {
   "cell_type": "code",
   "execution_count": 43,
   "metadata": {
    "collapsed": false
   },
   "outputs": [
    {
     "name": "stdout",
     "output_type": "stream",
     "text": [
      "Hola mundo!\n"
     ]
    }
   ],
   "source": [
    "s = \"Hola mundo!\"\n",
    "print(s)"
   ]
  },
  {
   "cell_type": "markdown",
   "metadata": {},
   "source": [
    "Puedes unir dos strings con el operador +, y acceder a la i-ésima letra usando el operador corchete '[ ]'. También se puede devolver un substring utilizando la misma notación que en las listas."
   ]
  },
  {
   "cell_type": "code",
   "execution_count": 44,
   "metadata": {
    "collapsed": false
   },
   "outputs": [
    {
     "data": {
      "text/plain": [
       "'HolaChao'"
      ]
     },
     "execution_count": 44,
     "metadata": {},
     "output_type": "execute_result"
    }
   ],
   "source": [
    "s1 = 'Hola'\n",
    "s2 = 'Chao'\n",
    "\n",
    "s1 + s2"
   ]
  },
  {
   "cell_type": "code",
   "execution_count": 45,
   "metadata": {
    "collapsed": false
   },
   "outputs": [
    {
     "data": {
      "text/plain": [
       "'a'"
      ]
     },
     "execution_count": 45,
     "metadata": {},
     "output_type": "execute_result"
    }
   ],
   "source": [
    "s1[3] # posiciones comienzan en cero!"
   ]
  },
  {
   "cell_type": "code",
   "execution_count": 46,
   "metadata": {
    "collapsed": false
   },
   "outputs": [
    {
     "data": {
      "text/plain": [
       "'Ho'"
      ]
     },
     "execution_count": 46,
     "metadata": {},
     "output_type": "execute_result"
    }
   ],
   "source": [
    "s1[:2]"
   ]
  },
  {
   "cell_type": "markdown",
   "metadata": {},
   "source": [
    "En Python los strings son inmutables. Eso quiere decir que no se pueden modificar. Por ejemplo, no se puede actualizar una letra dentro de un string:"
   ]
  },
  {
   "cell_type": "code",
   "execution_count": 47,
   "metadata": {
    "collapsed": false
   },
   "outputs": [
    {
     "ename": "TypeError",
     "evalue": "'str' object does not support item assignment",
     "output_type": "error",
     "traceback": [
      "\u001b[0;31m---------------------------------------------------------------------------\u001b[0m",
      "\u001b[0;31mTypeError\u001b[0m                                 Traceback (most recent call last)",
      "\u001b[0;32m<ipython-input-47-0ef9d238e6a2>\u001b[0m in \u001b[0;36m<module>\u001b[0;34m()\u001b[0m\n\u001b[1;32m      1\u001b[0m \u001b[0ms\u001b[0m \u001b[0;34m=\u001b[0m \u001b[0;34m\"Mi super string\"\u001b[0m\u001b[0;34m\u001b[0m\u001b[0m\n\u001b[0;32m----> 2\u001b[0;31m \u001b[0ms\u001b[0m\u001b[0;34m[\u001b[0m\u001b[0;36m0\u001b[0m\u001b[0;34m]\u001b[0m \u001b[0;34m=\u001b[0m \u001b[0;34m\"m\"\u001b[0m\u001b[0;34m\u001b[0m\u001b[0m\n\u001b[0m",
      "\u001b[0;31mTypeError\u001b[0m: 'str' object does not support item assignment"
     ]
    }
   ],
   "source": [
    "s = \"Mi super string\"\n",
    "s[0] = \"m\""
   ]
  },
  {
   "cell_type": "markdown",
   "metadata": {},
   "source": [
    "Para actualizar el string debes crear uno nuevo. Puedes hacer concatenando (unir) strings:"
   ]
  },
  {
   "cell_type": "code",
   "execution_count": 49,
   "metadata": {
    "collapsed": false
   },
   "outputs": [
    {
     "data": {
      "text/plain": [
       "'nuestro super string'"
      ]
     },
     "execution_count": 49,
     "metadata": {},
     "output_type": "execute_result"
    }
   ],
   "source": [
    "nuevos = \"nuestro\" + s[2:]\n",
    "nuevos"
   ]
  },
  {
   "cell_type": "markdown",
   "metadata": {},
   "source": [
    "También es posible dividir el string en substrings de acuerdo a un separador. El siguiente código obtiene una lista con las palabras de una frase (separadas por espacio):"
   ]
  },
  {
   "cell_type": "code",
   "execution_count": 50,
   "metadata": {
    "collapsed": false
   },
   "outputs": [
    {
     "name": "stdout",
     "output_type": "stream",
     "text": [
      "['Había', 'una', 'vez', 'una', 'gata', 'blanca']\n"
     ]
    }
   ],
   "source": [
    "s = \"Había una vez una gata blanca\"\n",
    "L = s.split()\n",
    "print(L)"
   ]
  },
  {
   "cell_type": "markdown",
   "metadata": {},
   "source": [
    "Y también se puede concatenar varios strings. En el siguiente código se unen las palabras que están en L con un punto."
   ]
  },
  {
   "cell_type": "code",
   "execution_count": 51,
   "metadata": {
    "collapsed": false
   },
   "outputs": [
    {
     "data": {
      "text/plain": [
       "'Había.una.vez.una.gata.blanca'"
      ]
     },
     "execution_count": 51,
     "metadata": {},
     "output_type": "execute_result"
    }
   ],
   "source": [
    "\".\".join(L)"
   ]
  },
  {
   "cell_type": "markdown",
   "metadata": {},
   "source": [
    "### Ejercicio\n",
    "* ¿Cómo imprimir un string al revés? (hint: usa un ciclo o la generación con sublistas 'con espacios'!)"
   ]
  },
  {
   "cell_type": "code",
   "execution_count": null,
   "metadata": {
    "collapsed": false
   },
   "outputs": [],
   "source": [
    "mensaje = 'Hola Mundo!'\n",
    "\n",
    "# tu codigo aquí\n",
    "\n",
    "mensaje # debería devolver '!odnuM aloH'"
   ]
  },
  {
   "cell_type": "markdown",
   "metadata": {},
   "source": [
    "* Resolver el problema 3 del diagnóstico. Para abrir un archivo puede usar la función `open(path)`, por ejemplo:"
   ]
  },
  {
   "cell_type": "code",
   "execution_count": 55,
   "metadata": {
    "collapsed": false
   },
   "outputs": [
    {
     "name": "stdout",
     "output_type": "stream",
     "text": [
      "Slovenia,0.251\n",
      "\n",
      "Denmark,0.256\n",
      "\n",
      "Slovak Republic,0.247\n",
      "\n",
      "Czech Republic,0.257\n",
      "\n",
      "Iceland,0.246\n",
      "\n",
      "Norway,0.257\n",
      "\n",
      "Finland,0.257\n",
      "\n",
      "Belgium,0.266\n",
      "\n",
      "Austria,0.274\n",
      "\n",
      "Germany,0.289\n",
      "\n",
      "Hungary,0.288\n",
      "\n",
      "Poland,0.298\n",
      "\n",
      "Luxembourg,0.284\n",
      "\n",
      "Korea,0.302\n",
      "\n",
      "France,0.297\n",
      "\n",
      "Ireland,0.298\n",
      "\n",
      "Canada,0.313\n",
      "\n",
      "Australia,0.337\n",
      "\n",
      "Italy,0.326\n",
      "\n",
      "Japan,0.33\n",
      "\n",
      "New Zealand,0.349\n",
      "\n",
      "Spain,0.344\n",
      "\n",
      "Portugal,0.338\n",
      "\n",
      "Greece,0.339\n",
      "\n",
      "Latvia,0.35\n",
      "\n",
      "Lithuania,0.381\n",
      "\n",
      "United Kingdom,0.356\n",
      "\n",
      "Israel,0.365\n",
      "\n",
      "Turkey,0.398\n",
      "\n",
      "Mexico,0.459\n",
      "\n",
      "Costa Rica,0.491\n",
      "\n",
      "Chile,0.454\n",
      "\n",
      "Estonia,0.346\n",
      "\n",
      "Netherlands,0.305\n",
      "\n",
      "Sweden,0.274\n",
      "\n",
      "Switzerland,0.297\n",
      "\n",
      "United States,0.394\n",
      "\n",
      "Brazil,0.47\n",
      "\n",
      "China (People's Republic of),0.556\n",
      "\n",
      "India,0.495\n",
      "\n",
      "Russia,0.376\n",
      "\n",
      "South Africa,0.62\n"
     ]
    }
   ],
   "source": [
    "file = open('clase01/gini_by_country.csv')\n",
    "for line in file: # este ciclo recorre cada linea del archivo\n",
    "    print(line)"
   ]
  },
  {
   "cell_type": "markdown",
   "metadata": {},
   "source": [
    "# Funciones\n",
    "\n",
    "Hasta ahora hemos estado usando sólo simples \"pedazos\" de código para hacer nuestros programas.\n",
    "Una forma más inteligente de ordenar nuestro código de Python es hacerlo aún más leible y **reusable**, agrupando, si se quiere porciones de código en unidades a las que podemos llamar desde distintos puntos del código. Estas unidades se llaman **funciones**. Aqui vamos a ver dos formas de definir funciones: la instrucción `def`, que es útil para cualquier tipo de función, y la notación `lambda`, que es útil para definir pequeñas funciones anónimas dentro del código.\n",
    "\n",
    "## Usando funciones\n",
    "\n",
    "Las funciones son bloques de código que tienen un nombre, y a las que se puede llamar usando paréntesis. Ya hemos visto funciones antes. Por ejemplo, `print` es una función:"
   ]
  },
  {
   "cell_type": "code",
   "execution_count": null,
   "metadata": {
    "collapsed": false
   },
   "outputs": [],
   "source": [
    "print('abc')"
   ]
  },
  {
   "cell_type": "markdown",
   "metadata": {},
   "source": [
    "Aqui, `print()` es el nombre de la función, y `'abc'` es lo que se llama un **argumento** (de la función).\n",
    "\n",
    "Además de los argumentos, hay lo que se llama **keyword arguments** (argumentos clave) que se especifican por nombre. Uno de estos posibles argumentos con nombre para la función `print()` es `sep`, que le dice a `print()` qué caracter usar para separar los argumentos que va a imprimir cuando hay multiples elementos, por ejemplo:"
   ]
  },
  {
   "cell_type": "code",
   "execution_count": null,
   "metadata": {
    "collapsed": false
   },
   "outputs": [],
   "source": [
    "print(1, 2, 3)"
   ]
  },
  {
   "cell_type": "code",
   "execution_count": null,
   "metadata": {
    "collapsed": false
   },
   "outputs": [],
   "source": [
    "print(1, 2, 3, sep='--')"
   ]
  },
  {
   "cell_type": "markdown",
   "metadata": {},
   "source": [
    "Cuando se usan argumentos y argumentos con nombre, los argumentos con nombre siempre deben aparecer al final, pero en cualquier orden."
   ]
  },
  {
   "cell_type": "markdown",
   "metadata": {},
   "source": [
    "## Intermezzo: documentación y autocompletado en Jupyter Notebook\n",
    "\n",
    "Si no recordamos para que sirve una función o que argumentos recibe, podemos usar la función de documentación de Jupyter. Para acceder a la documentación de una función presiona **shift+tab** sobre el nombre de una función dentro de una celda de código. Por ejemplo, mueve el cursor sobre la palabra print y presiona shift+enter:"
   ]
  },
  {
   "cell_type": "code",
   "execution_count": null,
   "metadata": {
    "collapsed": true
   },
   "outputs": [],
   "source": [
    "print()"
   ]
  },
  {
   "cell_type": "markdown",
   "metadata": {},
   "source": [
    "Jupyter también permite autocompletar el nombre de variables y funciones usando la tecla **tab**. Escribe `pri` y presiona tab:"
   ]
  },
  {
   "cell_type": "code",
   "execution_count": null,
   "metadata": {
    "collapsed": true
   },
   "outputs": [],
   "source": [
    "pri"
   ]
  },
  {
   "cell_type": "markdown",
   "metadata": {},
   "source": [
    "La función de autocomletar también funciona para descubrir los argumentos de una función. Prueba presionando **tab** entre los paréntesis de la función print:"
   ]
  },
  {
   "cell_type": "code",
   "execution_count": null,
   "metadata": {
    "collapsed": true
   },
   "outputs": [],
   "source": [
    "print()"
   ]
  },
  {
   "cell_type": "markdown",
   "metadata": {},
   "source": [
    "## Definiendo funciones\n",
    "\n",
    "Las funciones se vuelven útiles cuando empezamos a definir las nuestras, organizando funcionalidad y reusandolas en múltiples lugares del código. En Python, las funciones se definen con la instrucción `def`. Por ejemplo, podemos encapsular una version de Fibonacci de la siguiente manera:"
   ]
  },
  {
   "cell_type": "code",
   "execution_count": null,
   "metadata": {
    "collapsed": true
   },
   "outputs": [],
   "source": [
    "def fibonacci(N):\n",
    "    # Retorna una lista con los primeros N elementos\n",
    "    # de la secuencia de Fibonacci\n",
    "    L = []\n",
    "    a, b = 0, 1\n",
    "    while len(L) < N:\n",
    "        a, b = b, a + b\n",
    "        L.append(a)\n",
    "    return L"
   ]
  },
  {
   "cell_type": "markdown",
   "metadata": {},
   "source": [
    "Ahora ya tenemos una función que se llama `fibonacci` y que toma un solo argumento llamado `N`, hace cosas incontables con este argumento, y retorna un valor. En este caso, la lista de los N primeros números de la serie de Fibonacci."
   ]
  },
  {
   "cell_type": "code",
   "execution_count": null,
   "metadata": {
    "collapsed": false
   },
   "outputs": [],
   "source": [
    "fibonacci(10)"
   ]
  },
  {
   "cell_type": "markdown",
   "metadata": {},
   "source": [
    "Para aquellos que sepan algo de lenguajes que son \"tipeados\" (a los que hay que asignar un tipo de datos a cada variable), verán que no hay información de los tipos asociados a los argumentos o valores de retorno de la función. Las funciones de Python pueden retornar cualquier tipo de objeto de Python, simple (un int, float) o complejo (una lista, dict, set, etc.)."
   ]
  },
  {
   "cell_type": "markdown",
   "metadata": {},
   "source": [
    "## Funciones anónimas: `lambda`\n",
    "\n",
    "Además del `def`, hay una manera de definir funciones cortas y específicas:"
   ]
  },
  {
   "cell_type": "code",
   "execution_count": null,
   "metadata": {
    "collapsed": false
   },
   "outputs": [],
   "source": [
    "add = lambda x, y: x + y\n",
    "add(1, 2)"
   ]
  },
  {
   "cell_type": "markdown",
   "metadata": {},
   "source": [
    "que es equivalente a"
   ]
  },
  {
   "cell_type": "code",
   "execution_count": null,
   "metadata": {
    "collapsed": true
   },
   "outputs": [],
   "source": [
    "def add(x, y):\n",
    "    return x + y"
   ]
  },
  {
   "cell_type": "markdown",
   "metadata": {},
   "source": [
    "Como todo es un objeto en Python, también podemos pasar **funciones como argumento** de otras funciones! Como ejemplo, tomemos algunos datos almacenados en una lista de diccionarios (**ahá!!**):"
   ]
  },
  {
   "cell_type": "code",
   "execution_count": null,
   "metadata": {
    "collapsed": true
   },
   "outputs": [],
   "source": [
    "data = [{'first':'Guido', 'last':'Van Rossum', 'YOB':1956},\n",
    "        {'first':'Grace', 'last':'Hopper',     'YOB':1906},\n",
    "        {'first':'Alan',  'last':'Turing',     'YOB':1912}]"
   ]
  },
  {
   "cell_type": "markdown",
   "metadata": {},
   "source": [
    "Supongamos que queremos ordenar la lista por año de nacimiento. Python tiene una función `sorted` que ordena listas:"
   ]
  },
  {
   "cell_type": "code",
   "execution_count": null,
   "metadata": {
    "collapsed": false
   },
   "outputs": [],
   "source": [
    "sorted([2,4,3,5,1,6]) # equivalente a usar el método sort()"
   ]
  },
  {
   "cell_type": "markdown",
   "metadata": {},
   "source": [
    "Pero los diccionarios no: tenemos que decirle a la función *cómo* ordenar nuestros datos. Podemos hacer esto especificando una \"llave\" (key) del diccionario al método `sort`:"
   ]
  },
  {
   "cell_type": "code",
   "execution_count": null,
   "metadata": {
    "collapsed": false
   },
   "outputs": [],
   "source": [
    "# sort alphabetically by first name\n",
    "sorted(data, key=lambda item: item['first'])"
   ]
  },
  {
   "cell_type": "markdown",
   "metadata": {},
   "source": [
    "Este sería el código equivalente usando una función tradicional:"
   ]
  },
  {
   "cell_type": "code",
   "execution_count": null,
   "metadata": {
    "collapsed": false
   },
   "outputs": [],
   "source": [
    "def order_by_first(item):\n",
    "    return item['first']\n",
    "\n",
    "sorted(data, key=order_by_first)"
   ]
  },
  {
   "cell_type": "code",
   "execution_count": null,
   "metadata": {
    "collapsed": false
   },
   "outputs": [],
   "source": [
    "# sort by year of birth\n",
    "sorted(data, key=lambda item: item['YOB'])"
   ]
  },
  {
   "cell_type": "markdown",
   "metadata": {},
   "source": [
    "Aunque podamos haber definido la función lambda con un `def`, hay veces que es más corto y conciso hacerlo de esta manera."
   ]
  },
  {
   "cell_type": "markdown",
   "metadata": {},
   "source": [
    "# Resumen de la clase\n",
    "\n",
    "## Ciclos\n",
    "  * **for**: recorrer elementos de alguna colección o iterador (ejemplo: recorrer los elementos de una lista).\n",
    "  * **while**: ejecutar un bloque de código mientras se cumpla alguna condición.\n",
    "  * **continue**: saltar a la siguiente iteración.\n",
    "  * **break**: detener el ciclo for o while.\n",
    "  \n",
    "## Tipos de datos\n",
    "  * **list**: colección de elementos, están ordenados según como se insertaron. Se accede con la posición del elemento.\n",
    "  * **dict**: diccionario, se asocia una clave con algún valor. Se accede a valores solo usando la clave.\n",
    "  * **set**: lo mismo que un conjunto, elementos no se pueden repetir. \n"
   ]
  },
  {
   "cell_type": "markdown",
   "metadata": {},
   "source": [
    "## ¿Cuándo usar list, dict o set?\n",
    "\n",
    "  * ¿Necesitas una colección de elementos? Usa una **list**.\n",
    "  * ¿Necesitas saber si un elemento está en una colección o no, y no es necesario saber en que posición está? (y no necesitas duplicados? Usa un **set**.\n",
    "  * ¿Necesitasa asociar valores con claves, y luego consultar los valores usando las claves? Usa un **dict**. \n",
    "\n",
    "TL/DR: https://stackoverflow.com/questions/3489071/in-python-when-to-use-a-dictionary-list-or-set\n"
   ]
  },
  {
   "cell_type": "markdown",
   "metadata": {},
   "source": [
    "## Funciones\n",
    "\n",
    "Se definen usando la palabra reservada **def**. Si la función es pequeña y concisa, puedes definir una función lambda.\n",
    "\n",
    "  * Si debes ejecutar el mismo código varias veces, agrúpalo en una función!"
   ]
  },
  {
   "cell_type": "markdown",
   "metadata": {
    "collapsed": true
   },
   "source": [
    "# Información opcional"
   ]
  },
  {
   "cell_type": "markdown",
   "metadata": {},
   "source": [
    "## (opcional) Tuplas\n",
    "\n",
    "Las tuplas son similares a las listas, se definen con paréntesis en vez de corchetes, pero son **inmutables**, es decir, no se pueden actualizar."
   ]
  },
  {
   "cell_type": "code",
   "execution_count": null,
   "metadata": {
    "collapsed": false
   },
   "outputs": [],
   "source": [
    "t = (1, 2, 3)\n",
    "print(t)"
   ]
  },
  {
   "cell_type": "markdown",
   "metadata": {},
   "source": [
    "Las tuplas tienen un largo y los elementos se pueden extraer igual que las listas con el índice:"
   ]
  },
  {
   "cell_type": "code",
   "execution_count": null,
   "metadata": {
    "collapsed": false
   },
   "outputs": [],
   "source": [
    "len(t)"
   ]
  },
  {
   "cell_type": "code",
   "execution_count": null,
   "metadata": {
    "collapsed": false
   },
   "outputs": [],
   "source": [
    "t[0]"
   ]
  },
  {
   "cell_type": "markdown",
   "metadata": {},
   "source": [
    "La principal diferencia es que los valores de las tuplas no se pueden cambiar, son inmutables!"
   ]
  },
  {
   "cell_type": "code",
   "execution_count": null,
   "metadata": {
    "collapsed": false
   },
   "outputs": [],
   "source": [
    "t[1] = 4 # esto lo podíamos hacer con la lista"
   ]
  },
  {
   "cell_type": "code",
   "execution_count": null,
   "metadata": {
    "collapsed": false
   },
   "outputs": [],
   "source": [
    "t.append(4)"
   ]
  },
  {
   "cell_type": "markdown",
   "metadata": {},
   "source": [
    "### ¿ Para qué usar tuplas?\n",
    "Las tuplas se usan en Python usualmente para devolver (y tomar) el resultado de funciones que devuelven varios valores:"
   ]
  },
  {
   "cell_type": "code",
   "execution_count": null,
   "metadata": {
    "collapsed": false
   },
   "outputs": [],
   "source": [
    "x = 0.125\n",
    "x.as_integer_ratio()"
   ]
  },
  {
   "cell_type": "markdown",
   "metadata": {},
   "source": [
    "Y se \"agarran\" de la siguiente manera:"
   ]
  },
  {
   "cell_type": "code",
   "execution_count": null,
   "metadata": {
    "collapsed": false
   },
   "outputs": [],
   "source": [
    "numerator, denominator = x.as_integer_ratio()\n",
    "print(numerator / denominator)"
   ]
  },
  {
   "cell_type": "markdown",
   "metadata": {},
   "source": [
    "También hay un montón de métodos para tuplas, vean la [documentación](https://docs.python.org/3/tutorial/datastructures.html)"
   ]
  },
  {
   "cell_type": "markdown",
   "metadata": {},
   "source": [
    "## (opcional) Funciones y argumentos por defecto\n",
    "A veces cuando definimos una función, hay un valore que usamos *la mayor parte del tiempo*, pero también queremos darle al usuario de la función (que puede que no seamos solo nosotros), algo de flexibilidad. En este caso, definimos valores por \"omisión\" de los argumentos. Consideremos la función `fibonacci` de más arriba. Cómo podríamos hacer que el usuaro eligiera el valor de comienzo? Por ejemplo, así:"
   ]
  },
  {
   "cell_type": "code",
   "execution_count": null,
   "metadata": {
    "collapsed": true
   },
   "outputs": [],
   "source": [
    "def fibonacci(N, a=0, b=1):\n",
    "    L = []\n",
    "    while len(L) < N:\n",
    "        a, b = b, a + b\n",
    "        L.append(a)\n",
    "    return L"
   ]
  },
  {
   "cell_type": "markdown",
   "metadata": {},
   "source": [
    "Con un solo argumento, el resultado de llamar a la función es idéntico al anterior:"
   ]
  },
  {
   "cell_type": "code",
   "execution_count": null,
   "metadata": {
    "collapsed": false
   },
   "outputs": [],
   "source": [
    "fibonacci(10)"
   ]
  },
  {
   "cell_type": "markdown",
   "metadata": {},
   "source": [
    "Pero ahora podemos usar la función para explorar otros valores:"
   ]
  },
  {
   "cell_type": "code",
   "execution_count": null,
   "metadata": {
    "collapsed": false
   },
   "outputs": [],
   "source": [
    "fibonacci(10, 0, 2)"
   ]
  },
  {
   "cell_type": "markdown",
   "metadata": {},
   "source": [
    "Si especificamos el nombre de los argumentos, no es necesario respetar el orden en que fueron definidos:"
   ]
  },
  {
   "cell_type": "code",
   "execution_count": null,
   "metadata": {
    "collapsed": false
   },
   "outputs": [],
   "source": [
    "fibonacci(10, b=2, a=0) # equivalente a fibonacci(10, 0, 2)"
   ]
  },
  {
   "cell_type": "code",
   "execution_count": null,
   "metadata": {
    "collapsed": true
   },
   "outputs": [],
   "source": []
  }
 ],
 "metadata": {
  "anaconda-cloud": {},
  "kernelspec": {
   "display_name": "Python 3",
   "language": "python",
   "name": "python3"
  },
  "language_info": {
   "codemirror_mode": {
    "name": "ipython",
    "version": 3
   },
   "file_extension": ".py",
   "mimetype": "text/x-python",
   "name": "python",
   "nbconvert_exporter": "python",
   "pygments_lexer": "ipython3",
   "version": "3.6.2"
  }
 },
 "nbformat": 4,
 "nbformat_minor": 1
}
