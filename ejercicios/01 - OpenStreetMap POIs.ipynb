{
 "cells": [
  {
   "cell_type": "markdown",
   "metadata": {},
   "source": [
    "# OpenStreetMap: Puntos de Interés\n",
    "\n",
    "En este ejercicio complementaremos lo que vimos en el ejercicio anterior. Esta vez nos enfocaremos en los **Puntos de Interés**, Points of Interest en inglés. \n",
    "\n",
    "La [definición que da Wikipedia](https://es.wikipedia.org/wiki/Punto_de_inter%C3%A9s) es la siguiente:\n",
    "\n",
    "> Un **punto de interés** o **\"PDI\"** (en inglés **_POI_**), es un punto de ubicación específica que alguien puede encontrar útil o interesante. Un ejemplo es un punto de la Tierra que representa la ubicación de edificios, un punto en Marte que representa la ubicación de la montaña el Monte Olimpo. La mayoría de los usuarios utilizan el término para referirse a hoteles, campings, estaciones de servicio, radares o cualquier otras categorías utilizadas en los modernos Sistema de navegación para automóviles.\n",
    "\n",
    "> El término se utiliza ampliamente en la cartografía, en particular en las variantes electrónicas incluyendo SIG, y software de navegación GPS. En este contexto, es sinónimo de waypoint.\n",
    "\n",
    "> Un punto de interés GPS precisa, como mínimo, latitud y longitud del PDI, asumiendo un cierto datos de mapas. Un nombre o una descripción para el PDI se suele incluir, además de otra información como la altitud o un número de teléfono también puede adjuntarse. Aplicaciones GPS suelen utilizar iconos para representar las diferentes categorías de PDI en el mapa de forma gráfica.\n",
    "\n",
    "El propósito de este notebook es poder visualizar los POIs que haya en alguna comuna del país, de acuerdo a los datos que tiene **OpenStreetMap**. Para lograrlo debemos:\n",
    "\n",
    "  1. Bajar los datos necesarios.\n",
    "  2. Procesar el contenido de los datasets para obtener los POIs.\n",
    "  3. Filtrar los POIs que pertenecen a la comuna.\n",
    "  4. Visualizarlos.\n",
    "  \n",
    "A medida que vayamos ejecutando código aparecerán conceptos de programación como _funciones_ y _callbacks_, _objetos_, _excepciones_, _estructuras de datos_, entre otros.\n",
    "\n",
    "## Datos Necesarios\n",
    "\n",
    "Usaremos dos fuentes de datos:\n",
    "\n",
    "  1. Los datos de OpenStreetMap (OSM) para Chile. Fueron bajados desde  [GeoFabrik](http://download.geofabrik.de/south-america/chile.html), en particular el fichero ```chile-latest.osm.pbf``` generado en ```2017-08-13T20:44:02Z```. \n",
    "  \n",
    "  Este archivo está en un formato llamado ProtoBuf que podemos leer con la biblioteca ```imposm.parser```. La biblioteca está en la misma carpeta que este notebook. Fue bajada de [este repositorio en github](https://github.com/mtskelton/imposm-parser).\n",
    "\n",
    "  2. Los bordes administrativos de las comunas de Chile en formato Shapefile (```shp```). Fueron bajados desde la página de la [Biblioteca del Congreso Nacional, sección Mapas Vectoriales](https://www.bcn.cl/siit/mapas_vectoriales/index_html). \n",
    "  \n",
    "Si utilizas Mac o Ubuntu, el siguiente comando mostrará lo que hay dentro de la carpeta ```input```:"
   ]
  },
  {
   "cell_type": "code",
   "execution_count": 1,
   "metadata": {
    "collapsed": false
   },
   "outputs": [
    {
     "name": "stdout",
     "output_type": "stream",
     "text": [
      "total 120M\r\n",
      "-rw-rw-r-- 1 egraells egraells 120M ago 12 17:48 chile-latest.osm.pbf\r\n",
      "drwxrwxrwx 2 egraells egraells 4,0K ago 14 19:49 shapefile_comunas\r\n"
     ]
    }
   ],
   "source": [
    "!ls -lh input"
   ]
  },
  {
   "cell_type": "code",
   "execution_count": 2,
   "metadata": {
    "collapsed": false
   },
   "outputs": [
    {
     "name": "stdout",
     "output_type": "stream",
     "text": [
      "total 45M\r\n",
      "-rw-rw-r-- 1 egraells egraells 1001 ene 24  2011 Disclaimer.txt\r\n",
      "-rw-rw-r-- 1 egraells egraells  58K mar 18  2014 division_comunal.dbf\r\n",
      "-rw-rw-r-- 1 egraells egraells  409 ene 24  2011 division_comunal.prj\r\n",
      "-rw-rw-r-- 1 egraells egraells 3,3K mar 18  2014 division_comunal.sbn\r\n",
      "-rw-rw-r-- 1 egraells egraells  220 mar 18  2014 division_comunal.sbx\r\n",
      "-rw-rw-r-- 1 egraells egraells  45M mar 18  2014 division_comunal.shp\r\n",
      "-rw-rw-r-- 1 egraells egraells  18K ene 24  2011 division_comunal.shp.xml\r\n",
      "-rw-rw-r-- 1 egraells egraells 2,9K mar 18  2014 division_comunal.shx\r\n"
     ]
    }
   ],
   "source": [
    "!ls -lh input/shapefile_comunas"
   ]
  },
  {
   "cell_type": "markdown",
   "metadata": {},
   "source": [
    "## Proceso de Datos para Obtener POIs\n",
    "\n",
    "Utilizaremos la biblioteca [imposm.parser](https://imposm.org/docs/imposm.parser/latest/concepts.html) para leer el archivo de datos de OpenStreetMap. Ahora bien, no utilizamos la versión oficial, porque solamente funciona en Python 2, y nosotros utilizamos Python 3. Hemos incorporado la versión que usamos en la carpeta de este notebook."
   ]
  },
  {
   "cell_type": "code",
   "execution_count": 2,
   "metadata": {
    "collapsed": true
   },
   "outputs": [],
   "source": [
    "from imposm.parser import OSMParser"
   ]
  },
  {
   "cell_type": "markdown",
   "metadata": {},
   "source": [
    "Del módulo imposm.parser estamos importando la clase OSMParser. A diferencia de una función, que se puede llamar directamente desde nuetro código, una clase debe ser **instanciada**. Para instanciar una clase uno llama a su **constructor**, que es una función de la clase, y que instancia la clase a través de un **objeto**, que es el que queda asignado por la variable que decidamos.\n",
    "\n",
    "Los objetos tienen funciones propias. Si la variable a es un objeto, y tiene una función o método f, entonces esa función se ejecuta en el código como a.f(). Por supuesto, f puede recibir parámetros (o no hacerlo), como cualquier función.\n",
    "\n",
    "En el caso de OSMParser, esta clase define una función parse_pbf_file, que recibe como parámetro el nombre del archivo a procesar.\n",
    "\n",
    "\n",
    "```python\n",
    "parser = OSMParser()\n",
    "parser.parse_pbf_file('./input/chile-latest.osm.pbf')\n",
    "```\n",
    "\n",
    "Pero las cosas no son tan fáciles.\n",
    "\n",
    "Háganse la siguiente pregunta: ¿Qué haré con los datos?\n",
    "\n",
    "La clase OSMParser no lo sabe. Por eso uno no \"carga\" el dataset con OSMParser, sino que **itera** sobre él. Y la manera de decirle qué es lo que queremos es a través de una **callback**. Como su nombre lo dice, es una llamada a función que se ejecuta en un instante definido.\n",
    "\n",
    "Estamos interesados en los POIs de OpenStreetMap. De acuerdo a su documentación, los POIs son datos de tipo [Nodo](https://wiki.openstreetmap.org/wiki/Node) en OSM, donde también hay Caminos y Relaciones. Esos tres tipos de elementos en OSM permiten que se pueda especificar cualquier tipo de elemento que se despliega cartográficamente.\n",
    "\n",
    "Como OSMParser lee todo el archivo que le entreguemos, es posible que se demore algunos minutos en trabajar. De momento no sabemos qué es lo que tiene este archivo, por lo que haremos lo siguiente: leeremos los primeros nodos que encontremos en el archivo, y luego abortaremos la ejecución. \n",
    "\n",
    "Para ello aprovecharemos las **excepciones**. Una excepción es una situación especial que sucede en un programa, que indica que ha sucedido un error, una situación excepcional.\n",
    "\n",
    "### Ejemplo de Excepciones\n",
    "\n",
    "Un ejemplo básico es tratar a una letra como un número:"
   ]
  },
  {
   "cell_type": "code",
   "execution_count": 4,
   "metadata": {
    "collapsed": false
   },
   "outputs": [
    {
     "ename": "ValueError",
     "evalue": "invalid literal for int() with base 10: 'a'",
     "output_type": "error",
     "traceback": [
      "\u001b[0;31m---------------------------------------------------------------------------\u001b[0m",
      "\u001b[0;31mValueError\u001b[0m                                Traceback (most recent call last)",
      "\u001b[0;32m<ipython-input-4-982da2a324e6>\u001b[0m in \u001b[0;36m<module>\u001b[0;34m()\u001b[0m\n\u001b[0;32m----> 1\u001b[0;31m \u001b[0mprueba\u001b[0m \u001b[0;34m=\u001b[0m \u001b[0mint\u001b[0m\u001b[0;34m(\u001b[0m\u001b[0;34m'a'\u001b[0m\u001b[0;34m)\u001b[0m\u001b[0;34m\u001b[0m\u001b[0m\n\u001b[0m",
      "\u001b[0;31mValueError\u001b[0m: invalid literal for int() with base 10: 'a'"
     ]
    }
   ],
   "source": [
    "prueba = int('a')"
   ]
  },
  {
   "cell_type": "markdown",
   "metadata": {},
   "source": [
    "Lo anterior ha resultado en una excepción que ha sido elevada desde la función int. \n",
    "\n",
    "Nosotros también podemos elevar excepciones:"
   ]
  },
  {
   "cell_type": "code",
   "execution_count": 7,
   "metadata": {
    "collapsed": false
   },
   "outputs": [
    {
     "name": "stdout",
     "output_type": "stream",
     "text": [
      "esta cancion...\n"
     ]
    },
    {
     "ename": "Exception",
     "evalue": "es mala, pero es mía",
     "output_type": "error",
     "traceback": [
      "\u001b[0;31m---------------------------------------------------------------------------\u001b[0m",
      "\u001b[0;31mException\u001b[0m                                 Traceback (most recent call last)",
      "\u001b[0;32m<ipython-input-7-e2b78eb599a5>\u001b[0m in \u001b[0;36m<module>\u001b[0;34m()\u001b[0m\n\u001b[1;32m      3\u001b[0m     \u001b[0;32mraise\u001b[0m \u001b[0mException\u001b[0m\u001b[0;34m(\u001b[0m\u001b[0;34m'es mala, pero es mía'\u001b[0m\u001b[0;34m)\u001b[0m\u001b[0;34m\u001b[0m\u001b[0m\n\u001b[1;32m      4\u001b[0m \u001b[0;34m\u001b[0m\u001b[0m\n\u001b[0;32m----> 5\u001b[0;31m \u001b[0mcancion_mala\u001b[0m\u001b[0;34m(\u001b[0m\u001b[0;34m)\u001b[0m\u001b[0;34m\u001b[0m\u001b[0m\n\u001b[0m",
      "\u001b[0;32m<ipython-input-7-e2b78eb599a5>\u001b[0m in \u001b[0;36mcancion_mala\u001b[0;34m()\u001b[0m\n\u001b[1;32m      1\u001b[0m \u001b[0;32mdef\u001b[0m \u001b[0mcancion_mala\u001b[0m\u001b[0;34m(\u001b[0m\u001b[0;34m)\u001b[0m\u001b[0;34m:\u001b[0m\u001b[0;34m\u001b[0m\u001b[0m\n\u001b[1;32m      2\u001b[0m     \u001b[0mprint\u001b[0m\u001b[0;34m(\u001b[0m\u001b[0;34m'esta cancion...'\u001b[0m\u001b[0;34m)\u001b[0m\u001b[0;34m\u001b[0m\u001b[0m\n\u001b[0;32m----> 3\u001b[0;31m     \u001b[0;32mraise\u001b[0m \u001b[0mException\u001b[0m\u001b[0;34m(\u001b[0m\u001b[0;34m'es mala, pero es mía'\u001b[0m\u001b[0;34m)\u001b[0m\u001b[0;34m\u001b[0m\u001b[0m\n\u001b[0m\u001b[1;32m      4\u001b[0m \u001b[0;34m\u001b[0m\u001b[0m\n\u001b[1;32m      5\u001b[0m \u001b[0mcancion_mala\u001b[0m\u001b[0;34m(\u001b[0m\u001b[0;34m)\u001b[0m\u001b[0;34m\u001b[0m\u001b[0m\n",
      "\u001b[0;31mException\u001b[0m: es mala, pero es mía"
     ]
    }
   ],
   "source": [
    "def cancion_mala():\n",
    "    print('esta cancion...')\n",
    "    raise Exception('es mala, pero es mía')\n",
    "    \n",
    "cancion_mala()"
   ]
  },
  {
   "cell_type": "markdown",
   "metadata": {},
   "source": [
    "Cuando se eleva una excepción, el programa se interrumpe. Ahora bien, usualmente los programas no se caen. ¿Es que no ocurren excepciones?\n",
    "\n",
    "No. Siempre suceden, sobretodo cuando estamos trabajando con datos. Suele pasar que las cosas no pasan como nosotros queremos que pasen. \n",
    "\n",
    "Que una situación sea excepcional no significa que no se pueda preveer. Y eso es lo que se hace en el código para poder continuar la ejecución después de una excepción.\n",
    "\n",
    "Eso se hace a través de la instrucción try:"
   ]
  },
  {
   "cell_type": "code",
   "execution_count": 8,
   "metadata": {
    "collapsed": false
   },
   "outputs": [
    {
     "name": "stdout",
     "output_type": "stream",
     "text": [
      "esta cancion...\n",
      "... cri cri ...\n"
     ]
    }
   ],
   "source": [
    "try:\n",
    "    cancion_mala()\n",
    "    print('... es mala, pero es mía')\n",
    "except:\n",
    "    print('... cri cri ...')"
   ]
  },
  {
   "cell_type": "markdown",
   "metadata": {},
   "source": [
    "Lo que ha sucedido es: se comenzó a ejecutar la función cancion\\_mala, pero se interrumpió la ejecución debido a la excepción. Por tanto, se continuó ejecutando lo que estaba en el bloque except.\n",
    "\n",
    "Usaremos excepciones para poder _intrusear_  lo que tiene el archivo de OSM.\n",
    "\n",
    "### Procesando el Fichero PBF\n",
    "\n",
    "La documentación de imposm.parser indica que el constructor de la clase recibe un parámetro relevante para nosotros: nodes\\_callback. Aquí también utilizamos el parámetro concurrency, pero de momento asumiremos que no es importante.\n",
    "\n",
    "Así, la siguiente celda instancia OSMParser con un callback que recibe una lista de nodos, imprimie la información del primero de ellos, y luego eleva una excepción:"
   ]
  },
  {
   "cell_type": "code",
   "execution_count": 10,
   "metadata": {
    "collapsed": false
   },
   "outputs": [
    {
     "name": "stdout",
     "output_type": "stream",
     "text": [
      "(386138, {'highway': 'traffic_signals'}, (-70.64623270000001, -33.4428967))\n"
     ]
    },
    {
     "ename": "Exception",
     "evalue": "Solamente estamos probando cómo funciona esto :)",
     "output_type": "error",
     "traceback": [
      "\u001b[0;31m---------------------------------------------------------------------------\u001b[0m",
      "\u001b[0;31mException\u001b[0m                                 Traceback (most recent call last)",
      "\u001b[0;32m<ipython-input-10-3a35ace08e0a>\u001b[0m in \u001b[0;36m<module>\u001b[0;34m()\u001b[0m\n\u001b[1;32m      8\u001b[0m \u001b[0;34m\u001b[0m\u001b[0m\n\u001b[1;32m      9\u001b[0m \u001b[0mparser\u001b[0m \u001b[0;34m=\u001b[0m \u001b[0mOSMParser\u001b[0m\u001b[0;34m(\u001b[0m\u001b[0mnodes_callback\u001b[0m\u001b[0;34m=\u001b[0m\u001b[0mpoi_callback\u001b[0m\u001b[0;34m,\u001b[0m \u001b[0mconcurrency\u001b[0m\u001b[0;34m=\u001b[0m\u001b[0;36m1\u001b[0m\u001b[0;34m)\u001b[0m\u001b[0;34m\u001b[0m\u001b[0m\n\u001b[0;32m---> 10\u001b[0;31m \u001b[0mparser\u001b[0m\u001b[0;34m.\u001b[0m\u001b[0mparse_pbf_file\u001b[0m\u001b[0;34m(\u001b[0m\u001b[0;34m'./input/chile-latest.osm.pbf'\u001b[0m\u001b[0;34m)\u001b[0m\u001b[0;34m\u001b[0m\u001b[0m\n\u001b[0m",
      "\u001b[0;32m~/.virtualenvs/jupyter/lib/python3.5/site-packages/imposm/parser/simple.py\u001b[0m in \u001b[0;36mparse_pbf_file\u001b[0;34m(self, filename)\u001b[0m\n\u001b[1;32m     71\u001b[0m         \"\"\"\n\u001b[1;32m     72\u001b[0m         \u001b[0;32mfrom\u001b[0m \u001b[0mimposm\u001b[0m\u001b[0;34m.\u001b[0m\u001b[0mparser\u001b[0m\u001b[0;34m.\u001b[0m\u001b[0mpbf\u001b[0m\u001b[0;34m.\u001b[0m\u001b[0mmultiproc\u001b[0m \u001b[0;32mimport\u001b[0m \u001b[0mPBFMultiProcParser\u001b[0m\u001b[0;34m\u001b[0m\u001b[0m\n\u001b[0;32m---> 73\u001b[0;31m         \u001b[0;32mreturn\u001b[0m \u001b[0mself\u001b[0m\u001b[0;34m.\u001b[0m\u001b[0m_parse\u001b[0m\u001b[0;34m(\u001b[0m\u001b[0mfilename\u001b[0m\u001b[0;34m,\u001b[0m \u001b[0mPBFMultiProcParser\u001b[0m\u001b[0;34m)\u001b[0m\u001b[0;34m\u001b[0m\u001b[0m\n\u001b[0m\u001b[1;32m     74\u001b[0m \u001b[0;34m\u001b[0m\u001b[0m\n\u001b[1;32m     75\u001b[0m     \u001b[0;32mdef\u001b[0m \u001b[0mparse_xml_file\u001b[0m\u001b[0;34m(\u001b[0m\u001b[0mself\u001b[0m\u001b[0;34m,\u001b[0m \u001b[0mfilename\u001b[0m\u001b[0;34m)\u001b[0m\u001b[0;34m:\u001b[0m\u001b[0;34m\u001b[0m\u001b[0m\n",
      "\u001b[0;32m~/.virtualenvs/jupyter/lib/python3.5/site-packages/imposm/parser/simple.py\u001b[0m in \u001b[0;36m_parse\u001b[0;34m(self, input, parser_class)\u001b[0m\n\u001b[1;32m    130\u001b[0m                             \u001b[0;32mbreak\u001b[0m\u001b[0;34m\u001b[0m\u001b[0m\n\u001b[1;32m    131\u001b[0m                         \u001b[0;32melse\u001b[0m\u001b[0;34m:\u001b[0m\u001b[0;34m\u001b[0m\u001b[0m\n\u001b[0;32m--> 132\u001b[0;31m                             \u001b[0mcallback\u001b[0m\u001b[0;34m(\u001b[0m\u001b[0mitems\u001b[0m\u001b[0;34m)\u001b[0m\u001b[0;34m\u001b[0m\u001b[0m\n\u001b[0m\u001b[1;32m    133\u001b[0m                     \u001b[0;32mif\u001b[0m \u001b[0mitems\u001b[0m\u001b[0;34m:\u001b[0m\u001b[0;34m\u001b[0m\u001b[0m\n\u001b[1;32m    134\u001b[0m                         \u001b[0mprocessed\u001b[0m \u001b[0;34m=\u001b[0m \u001b[0;32mTrue\u001b[0m\u001b[0;34m\u001b[0m\u001b[0m\n",
      "\u001b[0;32m<ipython-input-10-3a35ace08e0a>\u001b[0m in \u001b[0;36mpoi_callback\u001b[0;34m(list_of_nodes)\u001b[0m\n\u001b[1;32m      5\u001b[0m     \u001b[0;32mfor\u001b[0m \u001b[0mnode_info\u001b[0m \u001b[0;32min\u001b[0m \u001b[0mlist_of_nodes\u001b[0m\u001b[0;34m:\u001b[0m\u001b[0;34m\u001b[0m\u001b[0m\n\u001b[1;32m      6\u001b[0m         \u001b[0mprint\u001b[0m\u001b[0;34m(\u001b[0m\u001b[0mnode_info\u001b[0m\u001b[0;34m)\u001b[0m\u001b[0;34m\u001b[0m\u001b[0m\n\u001b[0;32m----> 7\u001b[0;31m         \u001b[0;32mraise\u001b[0m \u001b[0mException\u001b[0m\u001b[0;34m(\u001b[0m\u001b[0;34m'Solamente estamos probando cómo funciona esto :)'\u001b[0m\u001b[0;34m)\u001b[0m\u001b[0;34m\u001b[0m\u001b[0m\n\u001b[0m\u001b[1;32m      8\u001b[0m \u001b[0;34m\u001b[0m\u001b[0m\n\u001b[1;32m      9\u001b[0m \u001b[0mparser\u001b[0m \u001b[0;34m=\u001b[0m \u001b[0mOSMParser\u001b[0m\u001b[0;34m(\u001b[0m\u001b[0mnodes_callback\u001b[0m\u001b[0;34m=\u001b[0m\u001b[0mpoi_callback\u001b[0m\u001b[0;34m,\u001b[0m \u001b[0mconcurrency\u001b[0m\u001b[0;34m=\u001b[0m\u001b[0;36m1\u001b[0m\u001b[0;34m)\u001b[0m\u001b[0;34m\u001b[0m\u001b[0m\n",
      "\u001b[0;31mException\u001b[0m: Solamente estamos probando cómo funciona esto :)"
     ]
    },
    {
     "name": "stderr",
     "output_type": "stream",
     "text": [
      "Process Process-2:\n",
      "Traceback (most recent call last):\n",
      "  File \"/usr/lib/python3.5/multiprocessing/process.py\", line 249, in _bootstrap\n",
      "    self.run()\n",
      "  File \"/usr/lib/python3.5/multiprocessing/process.py\", line 93, in run\n",
      "    self._target(*self._args, **self._kwargs)\n",
      "  File \"/home/egraells/.virtualenvs/jupyter/lib/python3.5/site-packages/imposm/parser/simple.py\", line 113, in parse_it\n",
      "    parser.parse(input)\n",
      "  File \"/home/egraells/.virtualenvs/jupyter/lib/python3.5/site-packages/imposm/parser/pbf/multiproc.py\", line 70, in parse\n",
      "    pos_queue.put(pos)\n",
      "  File \"/usr/lib/python3.5/multiprocessing/queues.py\", line 294, in put\n",
      "    if not self._sem.acquire(block, timeout):\n",
      "KeyboardInterrupt\n"
     ]
    }
   ],
   "source": [
    "def poi_callback(list_of_nodes):\n",
    "    if not list_of_nodes:\n",
    "        return\n",
    "    \n",
    "    for node_info in list_of_nodes:\n",
    "        print(node_info)\n",
    "        raise Exception('Solamente estamos probando cómo funciona esto :)')\n",
    "\n",
    "parser = OSMParser(nodes_callback=poi_callback, concurrency=1)\n",
    "parser.parse_pbf_file('./input/chile-latest.osm.pbf')"
   ]
  },
  {
   "cell_type": "markdown",
   "metadata": {},
   "source": [
    "¿Qué pasó?\n",
    "\n",
    "  * Se definió la callback.\n",
    "  * Se instanció OSMParser.\n",
    "  * Se empezó a procesar el archivo.\n",
    "  * El parser llamó a la callback con una lista de nodos.\n",
    "  * La callback imprimió la información del primer nodo:\n",
    "    \n",
    "    ```\n",
    "    (89678636, {'created_by': 'JOSM'}, (-69.17035, -55.41813990000001))\n",
    "    ```\n",
    "    \n",
    "    Es una tupla de tres elementos:\n",
    "      * ID: 89552555\n",
    "      * Diccionario de atributos: {'created_by': 'JOSM'}\n",
    "      * Coordenadas: (-66.87836010000001, -55.337230000000005)\n",
    "    \n",
    "  * La callback elevó una excepción.\n",
    "  * El parser interrumpió su ejecución.\n",
    "  * Python explica dónde se elevó la excepción y cómo se llegó a ese punto. Esto se llama **[stack trace](https://en.wikipedia.org/wiki/Stack_trace)**.\n",
    "  \n",
    "Un nodo que solamente dice quién lo creo no nos sirve. Lo que queremos son los POIs en la ciudad. De acuerdo a la documentación, los nodos pueden tener tags (etiquetas). Estos tags debiesen aparecer en el diccionario de atributos.\n",
    "\n",
    "Haremos dos cosas. Primero, nos fijaremos en el primer nodo que tenga más de un atributo, para saber qué contienen. Segundo, haremos try y except para capturar la excepción y evitar la interrupción del programa."
   ]
  },
  {
   "cell_type": "code",
   "execution_count": 11,
   "metadata": {
    "collapsed": false
   },
   "outputs": [
    {
     "name": "stdout",
     "output_type": "stream",
     "text": [
      "(386157, {'highway': 'traffic_signals', 'traffic_signals': 'signal'}, (-70.65838920000002, -33.4369834))\n"
     ]
    },
    {
     "name": "stderr",
     "output_type": "stream",
     "text": [
      "Process Process-3:\n",
      "Traceback (most recent call last):\n",
      "  File \"/usr/lib/python3.5/multiprocessing/process.py\", line 249, in _bootstrap\n",
      "    self.run()\n",
      "  File \"/usr/lib/python3.5/multiprocessing/process.py\", line 93, in run\n",
      "    self._target(*self._args, **self._kwargs)\n",
      "  File \"/home/egraells/.virtualenvs/jupyter/lib/python3.5/site-packages/imposm/parser/simple.py\", line 113, in parse_it\n",
      "    parser.parse(input)\n",
      "  File \"/home/egraells/.virtualenvs/jupyter/lib/python3.5/site-packages/imposm/parser/pbf/multiproc.py\", line 70, in parse\n",
      "    pos_queue.put(pos)\n",
      "  File \"/usr/lib/python3.5/multiprocessing/queues.py\", line 294, in put\n",
      "    if not self._sem.acquire(block, timeout):\n",
      "KeyboardInterrupt\n"
     ]
    }
   ],
   "source": [
    "def poi_callback(list_of_nodes):\n",
    "    if not list_of_nodes:\n",
    "        return\n",
    "    \n",
    "    for node_info in list_of_nodes:\n",
    "        if len(node_info[1]) > 1:\n",
    "            print(node_info)\n",
    "            raise Exception('Veamos qué pasa si buscamos nodos con más de un atributo :)')\n",
    "\n",
    "try:\n",
    "    parser = OSMParser(nodes_callback=poi_callback)\n",
    "    parser.parse_pbf_file('./input/chile-latest.osm.pbf')\n",
    "except:\n",
    "    pass"
   ]
  },
  {
   "cell_type": "markdown",
   "metadata": {},
   "source": [
    "¡Eh! Encontramos un nodo que tiene dos atributos:\n",
    "\n",
    "```python\n",
    "{'traffic_signals': 'signal', 'highway': 'traffic_signals'}\n",
    "```\n",
    "\n",
    "Un diccionario tiene llaves y valores. Aquí las llaves son ```traffic_signals``` y ```highway```. En la documentación de OpenStreetMap existe una página [Map Features](https://wiki.openstreetmap.org/wiki/Map_Features) que explica el significado de cada par (llave, valor).  Si buscamos en la página, vemos que no aparece ```traffic_signals``` como llave, sino que solamente ```highway```. Esto significa que esta última es la llave primaria, la más importante. Y, para ese caso, la definición es:\n",
    "\n",
    "> Lights that control the traffic\n",
    "\n",
    "Es decir, semáforos. Pero hay muchos tipos de semáforo, y por eso existe la llave secundaria ```traffic_signals```: para especificar el tipo de semáforo. En este caso simplemente es un semáforo genérico, pero existen otros valores posibles, que podríamos encontrar más adelante. De momento lo que nos interesa es la clasificación primaria.\n",
    "\n",
    "### Contando Nodos\n",
    "\n",
    "Hagamos un experimento: leamos los primeros 1000 POIs y veamos qué son. Para esto simplemente contaremos las llaves que tienen, sin fijarnos en su posición o ID.\n",
    "\n",
    "Sin embargo, aquí ya no podemos utilizar una función que haga esto de manera directa. Como queremos contar y guardar elementos, necesitamos una estructura que nos ayude a hacerlo llevando la cuenta de cuántos nodos hemos leído y cuáles han sido sus atributos. Para ello utilizaremos **clases**."
   ]
  },
  {
   "cell_type": "code",
   "execution_count": 17,
   "metadata": {
    "collapsed": false
   },
   "outputs": [
    {
     "name": "stdout",
     "output_type": "stream",
     "text": [
      "¡Hola! Me llamo Ana Tijoux y tengo 40 años\n"
     ]
    }
   ],
   "source": [
    "class Persona(object):\n",
    "    # cada instancia de esta clase va a tener estas dos variables\n",
    "    nombre = 'N.N.'\n",
    "    edad = 0\n",
    "    \n",
    "    # cada función dentro de una clase recibe mínimo un parámetro. El primero, llamado self,\n",
    "    # es la instancia de la clase. Por eso dentro de la función la variable self.nombre\n",
    "    # se refiere al nombre de esta instancia de Persona.\n",
    "    # La función __init__ define al constructor. Cuando instanciamos una persona queremos que\n",
    "    # tenga nombre y edad. El constructor simplemente copia esos valores dentro de sus \n",
    "    # variables internas. Podría hacer otras cosas, por ejemplo, validar que sea una edad correcta.\n",
    "    def __init__(self, nombre, edad):\n",
    "        self.nombre = nombre\n",
    "        self.edad = edad\n",
    "        \n",
    "    # Este método hace que la persona se presente. Lo hace imprimiendo un string con su nombre y edad.\n",
    "    def presentacion(self):\n",
    "        print('¡Hola! Me llamo {0} y tengo {1} años'.format(self.nombre, self.edad))\n",
    "        \n",
    "alguien = Persona('Ana Tijoux', 40)\n",
    "alguien.presentacion()"
   ]
  },
  {
   "cell_type": "markdown",
   "metadata": {},
   "source": [
    "Considerando lo anterior, Definiremos una **clase** que llamaremos ```NodeCounter``` y que instanciaremos en la variable ```node_counter```. Si saben de programación orientada a objetos reconocerán lo que está sucediendo. Si no, les recomiendo leer [este tutorial en castellano](http://pitando.net/2016/04/14/python-y-programacion-orientada-a-objetos/).\n",
    "\n",
    "Para poder hacer lo que queremos, el contador de nodos debe hacer dos cosas:\n",
    "\n",
    "  1. Llevar la cuenta de cuántos nodos ha leído. Si queremos leer solamente 1000, tenemos que poder decir \"hemos leído 500.\"\n",
    "  2. Llevar un contador de llaves. Para esto utilizaremos la la clase ```Counter``` que está en el módulo ```collections``` de Python. Esta clase tiene un método llamado ```update``` que recibe una lista de elementos, los cuenta, y va guardando la cantidad de elementos que ha visto.\n",
    "\n",
    "Por ejemplo, el siguiente código crea una lista de números y luego cuenta cuántos hay:"
   ]
  },
  {
   "cell_type": "code",
   "execution_count": 18,
   "metadata": {
    "collapsed": false
   },
   "outputs": [
    {
     "data": {
      "text/plain": [
       "Counter({1: 1, 2: 1, 3: 2, 4: 1, 5: 1, 6: 3, 7: 1})"
      ]
     },
     "execution_count": 18,
     "metadata": {},
     "output_type": "execute_result"
    }
   ],
   "source": [
    "from collections import Counter\n",
    "\n",
    "numeros = [1,2,3,3,4,5,6,6,6,7]\n",
    "counter = Counter()\n",
    "counter.update(numeros)\n",
    "counter"
   ]
  },
  {
   "cell_type": "markdown",
   "metadata": {},
   "source": [
    "Noten que el contador es un diccionario. Y, por ejemplo, su llave ```6``` tiene valor ```3```: esto significa que el número 6 aparece 3 veces en la lista.\n",
    "\n",
    "Al fin estamos listos para definir y utilizar el NodeCounter. \n",
    "\n",
    "Lo único que falta saber es cómo vamos a contar los atributos de cada nodo, o mejor dicho, como le decimos al Counter que se fije en las llaves del diccionario de atributos. Lo que debemos hacer es entregar al contador la lista de llaves, que obtenemos con el método ```keys()``` del diccionario:"
   ]
  },
  {
   "cell_type": "code",
   "execution_count": 22,
   "metadata": {
    "collapsed": false
   },
   "outputs": [
    {
     "data": {
      "text/plain": [
       "[('name', 885),\n",
       " ('source', 796),\n",
       " ('place', 771),\n",
       " ('is_in', 619),\n",
       " ('is_in:country', 258),\n",
       " ('is_in:region', 205),\n",
       " ('is_in:province', 197),\n",
       " ('is_in:municipality', 196),\n",
       " ('is_in:continent', 166),\n",
       " ('highway', 109),\n",
       " ('traffic_signals', 87),\n",
       " ('is_in:state', 85),\n",
       " ('capital', 77),\n",
       " ('ele', 76),\n",
       " ('ref', 61),\n",
       " ('natural', 60),\n",
       " ('is_in:country_code', 53),\n",
       " ('historic', 37),\n",
       " ('source_ref', 35),\n",
       " ('wikidata', 31),\n",
       " ('wikipedia', 29),\n",
       " ('material', 26),\n",
       " ('name:ru', 21),\n",
       " ('alt_name', 19),\n",
       " ('created_by', 14),\n",
       " ('population', 12),\n",
       " ('amenity', 10),\n",
       " ('start_date', 9),\n",
       " ('name:uk', 8),\n",
       " ('type', 7),\n",
       " ('height', 7),\n",
       " ('name:en', 6),\n",
       " ('restriction:conditional', 6),\n",
       " ('is_in:region_code', 5),\n",
       " ('is_in:state_code', 5),\n",
       " ('old_name', 5),\n",
       " ('volcano:type', 4),\n",
       " ('volcano:status', 4),\n",
       " ('name:he', 3),\n",
       " ('addr:city', 2),\n",
       " ('image', 2),\n",
       " ('landuse', 2),\n",
       " ('addr:postcode', 2),\n",
       " ('exit_to', 2),\n",
       " ('short_name', 2),\n",
       " ('addr:street', 2),\n",
       " ('proposed:capital', 2),\n",
       " ('name:fr', 2),\n",
       " ('hour_off', 2),\n",
       " ('name:lt', 2)]"
      ]
     },
     "execution_count": 22,
     "metadata": {},
     "output_type": "execute_result"
    },
    {
     "name": "stderr",
     "output_type": "stream",
     "text": [
      "Process Process-7:\n",
      "  File \"/home/egraells/.virtualenvs/jupyter/lib/python3.5/site-packages/imposm/parser/simple.py\", line 113, in parse_it\n",
      "    parser.parse(input)\n",
      "Traceback (most recent call last):\n",
      "  File \"/usr/lib/python3.5/multiprocessing/process.py\", line 249, in _bootstrap\n",
      "    self.run()\n",
      "  File \"/usr/lib/python3.5/multiprocessing/process.py\", line 93, in run\n",
      "    self._target(*self._args, **self._kwargs)\n",
      "  File \"/home/egraells/.virtualenvs/jupyter/lib/python3.5/site-packages/imposm/parser/pbf/multiproc.py\", line 70, in parse\n",
      "    pos_queue.put(pos)\n",
      "  File \"/usr/lib/python3.5/multiprocessing/queues.py\", line 294, in put\n",
      "    if not self._sem.acquire(block, timeout):\n",
      "KeyboardInterrupt\n"
     ]
    }
   ],
   "source": [
    "class NodeCounter(object):\n",
    "    key_counts = Counter()\n",
    "    read_nodes = 0\n",
    "    \n",
    "    # NOTA: hemos omitido el constructor porque no lo necesitamos.\n",
    "\n",
    "    def poi_callback(self, list_of_nodes):\n",
    "        if not list_of_nodes:\n",
    "            return\n",
    "\n",
    "        for node_info in list_of_nodes:\n",
    "            if len(node_info[1]) > 1:\n",
    "                self.key_counts.update(node_info[1].keys())\n",
    "                self.read_nodes += 1\n",
    "\n",
    "                if self.read_nodes > 1000:\n",
    "                    raise Exception('Ya leímos 1000 nodos :)')\n",
    "\n",
    "                    \n",
    "node_counter = NodeCounter()\n",
    "\n",
    "try:\n",
    "    parser = OSMParser(nodes_callback=node_counter.poi_callback, concurrency=1)\n",
    "    parser.parse_pbf_file('./input/chile-latest.osm.pbf')\n",
    "except:\n",
    "    pass\n",
    "\n",
    "# aquí accedemos a la variable key_counts del node_counter y le pedimos que ejecute su método most_common\n",
    "node_counter.key_counts.most_common(50)"
   ]
  },
  {
   "cell_type": "markdown",
   "metadata": {},
   "source": [
    "De los 1000 nodos, 885 tienen un nombre, 796 tienen una fuente, y 109 son del tipo ```highway``` (que ya habíamos comentado). Hay atributos que agregan meta-datos, como ```is_in:municipality```, otros que indican si es un punto de interés histórico (```historic```), y otros que son estaciones de algún modo de transporte (```station```), entre otros.\n",
    "\n",
    "Ahora procedamos a almacenar esta información en un DataFrame. Un DataFrame es una tabla, como una base de datos o una hoja de cálculo. Así, haremos lo siguiente:\n",
    "\n",
    "  * Cargaremos los primeros 1000 nodos y los guardaremos en un DataFrame. Cada fila del dataframe será un punto de interés, y cada columna una de las llaves que se definen en el archivo.\n",
    "  * Cuando leamos un nodo vamos a unificar sus atributos en un único diccionario que tenga tanto los tags de OpenStreetMap como su ID."
   ]
  },
  {
   "cell_type": "code",
   "execution_count": 23,
   "metadata": {
    "collapsed": false
   },
   "outputs": [
    {
     "name": "stderr",
     "output_type": "stream",
     "text": [
      "Process Process-8:\n",
      "Traceback (most recent call last):\n",
      "  File \"/usr/lib/python3.5/multiprocessing/process.py\", line 249, in _bootstrap\n",
      "    self.run()\n",
      "  File \"/usr/lib/python3.5/multiprocessing/process.py\", line 93, in run\n",
      "    self._target(*self._args, **self._kwargs)\n",
      "  File \"/home/egraells/.virtualenvs/jupyter/lib/python3.5/site-packages/imposm/parser/simple.py\", line 113, in parse_it\n",
      "    parser.parse(input)\n",
      "  File \"/home/egraells/.virtualenvs/jupyter/lib/python3.5/site-packages/imposm/parser/pbf/multiproc.py\", line 70, in parse\n",
      "    pos_queue.put(pos)\n",
      "  File \"/usr/lib/python3.5/multiprocessing/queues.py\", line 294, in put\n",
      "    if not self._sem.acquire(block, timeout):\n",
      "KeyboardInterrupt\n"
     ]
    }
   ],
   "source": [
    "class NodeCounter(object):\n",
    "    pois = []\n",
    "    read_nodes = 0\n",
    "    \n",
    "\n",
    "    def poi_callback(self, list_of_nodes):\n",
    "        if not list_of_nodes:\n",
    "            return\n",
    "\n",
    "        for node_info in list_of_nodes:\n",
    "            if len(node_info[1]) > 1:\n",
    "                poi = dict(node_info[1])\n",
    "                poi['id'] = node_info[0]\n",
    "                \n",
    "                self.pois.append(poi)\n",
    "                self.read_nodes += 1\n",
    "\n",
    "                if self.read_nodes > 1000:\n",
    "                    raise Exception('Ya leímos 1000 nodos :)')\n",
    "\n",
    "node_counter = NodeCounter()\n",
    "\n",
    "try:\n",
    "    parser = OSMParser(nodes_callback=node_counter.poi_callback, concurrency=1)\n",
    "    parser.parse_pbf_file('./input/chile-latest.osm.pbf')\n",
    "except:\n",
    "    pass"
   ]
  },
  {
   "cell_type": "code",
   "execution_count": 24,
   "metadata": {
    "collapsed": false
   },
   "outputs": [
    {
     "data": {
      "text/html": [
       "<div>\n",
       "<style>\n",
       "    .dataframe thead tr:only-child th {\n",
       "        text-align: right;\n",
       "    }\n",
       "\n",
       "    .dataframe thead th {\n",
       "        text-align: left;\n",
       "    }\n",
       "\n",
       "    .dataframe tbody tr th {\n",
       "        vertical-align: top;\n",
       "    }\n",
       "</style>\n",
       "<table border=\"1\" class=\"dataframe\">\n",
       "  <thead>\n",
       "    <tr style=\"text-align: right;\">\n",
       "      <th></th>\n",
       "      <th>FIXME</th>\n",
       "      <th>addr:city</th>\n",
       "      <th>addr:country</th>\n",
       "      <th>addr:housenumber</th>\n",
       "      <th>addr:postcode</th>\n",
       "      <th>addr:street</th>\n",
       "      <th>admin_level</th>\n",
       "      <th>alt_name</th>\n",
       "      <th>alt_name_1</th>\n",
       "      <th>amenity</th>\n",
       "      <th>...</th>\n",
       "      <th>type</th>\n",
       "      <th>volcano:last_eruption</th>\n",
       "      <th>volcano:status</th>\n",
       "      <th>volcano:type</th>\n",
       "      <th>website</th>\n",
       "      <th>wheelchair</th>\n",
       "      <th>wikidata</th>\n",
       "      <th>wikipedia</th>\n",
       "      <th>wikipedia:de</th>\n",
       "      <th>wikipedia:en</th>\n",
       "    </tr>\n",
       "  </thead>\n",
       "  <tbody>\n",
       "    <tr>\n",
       "      <th>0</th>\n",
       "      <td>NaN</td>\n",
       "      <td>NaN</td>\n",
       "      <td>NaN</td>\n",
       "      <td>NaN</td>\n",
       "      <td>NaN</td>\n",
       "      <td>NaN</td>\n",
       "      <td>NaN</td>\n",
       "      <td>NaN</td>\n",
       "      <td>NaN</td>\n",
       "      <td>NaN</td>\n",
       "      <td>...</td>\n",
       "      <td>NaN</td>\n",
       "      <td>NaN</td>\n",
       "      <td>NaN</td>\n",
       "      <td>NaN</td>\n",
       "      <td>NaN</td>\n",
       "      <td>NaN</td>\n",
       "      <td>NaN</td>\n",
       "      <td>NaN</td>\n",
       "      <td>NaN</td>\n",
       "      <td>NaN</td>\n",
       "    </tr>\n",
       "    <tr>\n",
       "      <th>1</th>\n",
       "      <td>NaN</td>\n",
       "      <td>NaN</td>\n",
       "      <td>NaN</td>\n",
       "      <td>NaN</td>\n",
       "      <td>NaN</td>\n",
       "      <td>NaN</td>\n",
       "      <td>NaN</td>\n",
       "      <td>NaN</td>\n",
       "      <td>NaN</td>\n",
       "      <td>NaN</td>\n",
       "      <td>...</td>\n",
       "      <td>NaN</td>\n",
       "      <td>NaN</td>\n",
       "      <td>NaN</td>\n",
       "      <td>NaN</td>\n",
       "      <td>NaN</td>\n",
       "      <td>NaN</td>\n",
       "      <td>NaN</td>\n",
       "      <td>NaN</td>\n",
       "      <td>NaN</td>\n",
       "      <td>NaN</td>\n",
       "    </tr>\n",
       "    <tr>\n",
       "      <th>2</th>\n",
       "      <td>NaN</td>\n",
       "      <td>NaN</td>\n",
       "      <td>NaN</td>\n",
       "      <td>NaN</td>\n",
       "      <td>NaN</td>\n",
       "      <td>NaN</td>\n",
       "      <td>NaN</td>\n",
       "      <td>NaN</td>\n",
       "      <td>NaN</td>\n",
       "      <td>NaN</td>\n",
       "      <td>...</td>\n",
       "      <td>NaN</td>\n",
       "      <td>NaN</td>\n",
       "      <td>NaN</td>\n",
       "      <td>NaN</td>\n",
       "      <td>NaN</td>\n",
       "      <td>NaN</td>\n",
       "      <td>NaN</td>\n",
       "      <td>NaN</td>\n",
       "      <td>NaN</td>\n",
       "      <td>NaN</td>\n",
       "    </tr>\n",
       "    <tr>\n",
       "      <th>3</th>\n",
       "      <td>NaN</td>\n",
       "      <td>NaN</td>\n",
       "      <td>NaN</td>\n",
       "      <td>NaN</td>\n",
       "      <td>NaN</td>\n",
       "      <td>NaN</td>\n",
       "      <td>NaN</td>\n",
       "      <td>NaN</td>\n",
       "      <td>NaN</td>\n",
       "      <td>NaN</td>\n",
       "      <td>...</td>\n",
       "      <td>NaN</td>\n",
       "      <td>NaN</td>\n",
       "      <td>NaN</td>\n",
       "      <td>NaN</td>\n",
       "      <td>NaN</td>\n",
       "      <td>NaN</td>\n",
       "      <td>NaN</td>\n",
       "      <td>NaN</td>\n",
       "      <td>NaN</td>\n",
       "      <td>NaN</td>\n",
       "    </tr>\n",
       "    <tr>\n",
       "      <th>4</th>\n",
       "      <td>NaN</td>\n",
       "      <td>NaN</td>\n",
       "      <td>NaN</td>\n",
       "      <td>NaN</td>\n",
       "      <td>NaN</td>\n",
       "      <td>NaN</td>\n",
       "      <td>NaN</td>\n",
       "      <td>NaN</td>\n",
       "      <td>NaN</td>\n",
       "      <td>NaN</td>\n",
       "      <td>...</td>\n",
       "      <td>NaN</td>\n",
       "      <td>NaN</td>\n",
       "      <td>NaN</td>\n",
       "      <td>NaN</td>\n",
       "      <td>NaN</td>\n",
       "      <td>NaN</td>\n",
       "      <td>NaN</td>\n",
       "      <td>NaN</td>\n",
       "      <td>NaN</td>\n",
       "      <td>NaN</td>\n",
       "    </tr>\n",
       "  </tbody>\n",
       "</table>\n",
       "<p>5 rows × 149 columns</p>\n",
       "</div>"
      ],
      "text/plain": [
       "  FIXME addr:city addr:country addr:housenumber addr:postcode addr:street  \\\n",
       "0   NaN       NaN          NaN              NaN           NaN         NaN   \n",
       "1   NaN       NaN          NaN              NaN           NaN         NaN   \n",
       "2   NaN       NaN          NaN              NaN           NaN         NaN   \n",
       "3   NaN       NaN          NaN              NaN           NaN         NaN   \n",
       "4   NaN       NaN          NaN              NaN           NaN         NaN   \n",
       "\n",
       "  admin_level alt_name alt_name_1 amenity     ...      type  \\\n",
       "0         NaN      NaN        NaN     NaN     ...       NaN   \n",
       "1         NaN      NaN        NaN     NaN     ...       NaN   \n",
       "2         NaN      NaN        NaN     NaN     ...       NaN   \n",
       "3         NaN      NaN        NaN     NaN     ...       NaN   \n",
       "4         NaN      NaN        NaN     NaN     ...       NaN   \n",
       "\n",
       "  volcano:last_eruption volcano:status volcano:type website wheelchair  \\\n",
       "0                   NaN            NaN          NaN     NaN        NaN   \n",
       "1                   NaN            NaN          NaN     NaN        NaN   \n",
       "2                   NaN            NaN          NaN     NaN        NaN   \n",
       "3                   NaN            NaN          NaN     NaN        NaN   \n",
       "4                   NaN            NaN          NaN     NaN        NaN   \n",
       "\n",
       "  wikidata wikipedia wikipedia:de wikipedia:en  \n",
       "0      NaN       NaN          NaN          NaN  \n",
       "1      NaN       NaN          NaN          NaN  \n",
       "2      NaN       NaN          NaN          NaN  \n",
       "3      NaN       NaN          NaN          NaN  \n",
       "4      NaN       NaN          NaN          NaN  \n",
       "\n",
       "[5 rows x 149 columns]"
      ]
     },
     "execution_count": 24,
     "metadata": {},
     "output_type": "execute_result"
    }
   ],
   "source": [
    "import pandas as pd\n",
    "\n",
    "dataframe_pois = pd.DataFrame.from_records(node_counter.pois)\n",
    "dataframe_pois.head(5)"
   ]
  },
  {
   "cell_type": "markdown",
   "metadata": {},
   "source": [
    "Le hemos pedido al DataFrame que nos muestre las primeras cinco filas. Efectivamente, aparecen cinco filas, y cada columna parece ser uno de los tags que tenían los nodos de acuerdo a lo que vimos antes. Sin embargo, solamente vemos NaN como valor en cada celda del DataFrame. ¿Por qué?\n",
    "\n",
    "```NaN``` significa _Not a Number_, y es utilizado para indicar que no hay un número o bien hay un valor nulo o inexistente en esa celda. Esto se debe a que potencialmente hay cientos de columnas (las etiquetas de OSM), pero cada nodo solamente tiene unas cuantas etiquetas definidas. \n",
    "\n",
    "Para poder explorar el DataFrame podemos realizar consultas. Por ejemplo, si queremos ver las filas que son estaciones de transporte, entonces deberíamos encontrar aquellas cuya columna ```station``` no sea nula o ```NaN```. Para ello nos apoyaremos en la función ```isnull``` de ```pandas```.\n",
    "\n",
    "Para ver solamente una columna, tratamos al DataFrame como si fuera un diccionario. Por cierto, el método ```head(n)```, que entrega las primeras $n$ filas del DataFrame, también es un DataFrame. "
   ]
  },
  {
   "cell_type": "code",
   "execution_count": 32,
   "metadata": {
    "collapsed": false
   },
   "outputs": [
    {
     "data": {
      "text/plain": [
       "0    NaN\n",
       "1    NaN\n",
       "2    NaN\n",
       "3    NaN\n",
       "4    NaN\n",
       "Name: amenity, dtype: object"
      ]
     },
     "execution_count": 32,
     "metadata": {},
     "output_type": "execute_result"
    }
   ],
   "source": [
    "dataframe_pois.head(5)['amenity']"
   ]
  },
  {
   "cell_type": "markdown",
   "metadata": {},
   "source": [
    "Lo anterior muestra solamente la columna ```station``` del DataFrame ```dataframe_pois.head(5)```. Si no utilizamos ```head(5)```, entonces nos mostraría la columna completa, que es de un tamaño considerable.\n",
    "\n",
    "El método ```isnull``` de pandas recibe un DataFrame o una columna. Por tanto, podemos hacer lo siguiente:"
   ]
  },
  {
   "cell_type": "code",
   "execution_count": 33,
   "metadata": {
    "collapsed": false
   },
   "outputs": [
    {
     "data": {
      "text/plain": [
       "0    True\n",
       "1    True\n",
       "2    True\n",
       "3    True\n",
       "4    True\n",
       "Name: amenity, dtype: bool"
      ]
     },
     "execution_count": 33,
     "metadata": {},
     "output_type": "execute_result"
    }
   ],
   "source": [
    "pd.isnull(dataframe_pois.head(5)['amenity'])"
   ]
  },
  {
   "cell_type": "markdown",
   "metadata": {},
   "source": [
    "Nos dice que las primeras cinco filas tienen valor nulo en la columna ```station```.\n",
    "\n",
    "Ahora bien, **sabemos** que hay filas donde la columna ```station``` no es nula. Para eso utilizaremos el operador de consultas de pandas. Nos apoyaremos en el operador ```~```, que niega el resultado que recibe. "
   ]
  },
  {
   "cell_type": "code",
   "execution_count": 34,
   "metadata": {
    "collapsed": false
   },
   "outputs": [
    {
     "data": {
      "text/plain": [
       "0    False\n",
       "1    False\n",
       "2    False\n",
       "3    False\n",
       "4    False\n",
       "Name: amenity, dtype: bool"
      ]
     },
     "execution_count": 34,
     "metadata": {},
     "output_type": "execute_result"
    }
   ],
   "source": [
    "~pd.isnull(dataframe_pois.head(5)['amenity'])"
   ]
  },
  {
   "cell_type": "markdown",
   "metadata": {},
   "source": [
    "El operador ```[]``` de pandas permite obtener una columna si le entregamos un nombre (que ha sido ```station``` hasta ahora). Sin embargo, si le pasamos una serie de valores verdadero o falso, como el que acabamos de calcular, entonces recibiremos las filas del DataFrame en las cuales la serie es verdadera. Así:"
   ]
  },
  {
   "cell_type": "code",
   "execution_count": 35,
   "metadata": {
    "collapsed": false
   },
   "outputs": [
    {
     "data": {
      "text/html": [
       "<div>\n",
       "<style>\n",
       "    .dataframe thead tr:only-child th {\n",
       "        text-align: right;\n",
       "    }\n",
       "\n",
       "    .dataframe thead th {\n",
       "        text-align: left;\n",
       "    }\n",
       "\n",
       "    .dataframe tbody tr th {\n",
       "        vertical-align: top;\n",
       "    }\n",
       "</style>\n",
       "<table border=\"1\" class=\"dataframe\">\n",
       "  <thead>\n",
       "    <tr style=\"text-align: right;\">\n",
       "      <th></th>\n",
       "      <th>FIXME</th>\n",
       "      <th>addr:city</th>\n",
       "      <th>addr:country</th>\n",
       "      <th>addr:housenumber</th>\n",
       "      <th>addr:postcode</th>\n",
       "      <th>addr:street</th>\n",
       "      <th>admin_level</th>\n",
       "      <th>alt_name</th>\n",
       "      <th>alt_name_1</th>\n",
       "      <th>amenity</th>\n",
       "      <th>...</th>\n",
       "      <th>type</th>\n",
       "      <th>volcano:last_eruption</th>\n",
       "      <th>volcano:status</th>\n",
       "      <th>volcano:type</th>\n",
       "      <th>website</th>\n",
       "      <th>wheelchair</th>\n",
       "      <th>wikidata</th>\n",
       "      <th>wikipedia</th>\n",
       "      <th>wikipedia:de</th>\n",
       "      <th>wikipedia:en</th>\n",
       "    </tr>\n",
       "  </thead>\n",
       "  <tbody>\n",
       "    <tr>\n",
       "      <th>159</th>\n",
       "      <td>NaN</td>\n",
       "      <td>NaN</td>\n",
       "      <td>NaN</td>\n",
       "      <td>NaN</td>\n",
       "      <td>NaN</td>\n",
       "      <td>NaN</td>\n",
       "      <td>NaN</td>\n",
       "      <td>NaN</td>\n",
       "      <td>NaN</td>\n",
       "      <td>ferry_terminal</td>\n",
       "      <td>...</td>\n",
       "      <td>NaN</td>\n",
       "      <td>NaN</td>\n",
       "      <td>NaN</td>\n",
       "      <td>NaN</td>\n",
       "      <td>NaN</td>\n",
       "      <td>NaN</td>\n",
       "      <td>NaN</td>\n",
       "      <td>NaN</td>\n",
       "      <td>NaN</td>\n",
       "      <td>NaN</td>\n",
       "    </tr>\n",
       "    <tr>\n",
       "      <th>172</th>\n",
       "      <td>NaN</td>\n",
       "      <td>NaN</td>\n",
       "      <td>NaN</td>\n",
       "      <td>NaN</td>\n",
       "      <td>NaN</td>\n",
       "      <td>NaN</td>\n",
       "      <td>NaN</td>\n",
       "      <td>NaN</td>\n",
       "      <td>NaN</td>\n",
       "      <td>place_of_worship</td>\n",
       "      <td>...</td>\n",
       "      <td>NaN</td>\n",
       "      <td>NaN</td>\n",
       "      <td>NaN</td>\n",
       "      <td>NaN</td>\n",
       "      <td>NaN</td>\n",
       "      <td>NaN</td>\n",
       "      <td>NaN</td>\n",
       "      <td>NaN</td>\n",
       "      <td>NaN</td>\n",
       "      <td>NaN</td>\n",
       "    </tr>\n",
       "    <tr>\n",
       "      <th>173</th>\n",
       "      <td>NaN</td>\n",
       "      <td>NaN</td>\n",
       "      <td>NaN</td>\n",
       "      <td>NaN</td>\n",
       "      <td>NaN</td>\n",
       "      <td>NaN</td>\n",
       "      <td>NaN</td>\n",
       "      <td>NaN</td>\n",
       "      <td>NaN</td>\n",
       "      <td>hospital</td>\n",
       "      <td>...</td>\n",
       "      <td>NaN</td>\n",
       "      <td>NaN</td>\n",
       "      <td>NaN</td>\n",
       "      <td>NaN</td>\n",
       "      <td>NaN</td>\n",
       "      <td>NaN</td>\n",
       "      <td>NaN</td>\n",
       "      <td>NaN</td>\n",
       "      <td>NaN</td>\n",
       "      <td>NaN</td>\n",
       "    </tr>\n",
       "    <tr>\n",
       "      <th>174</th>\n",
       "      <td>NaN</td>\n",
       "      <td>NaN</td>\n",
       "      <td>NaN</td>\n",
       "      <td>NaN</td>\n",
       "      <td>NaN</td>\n",
       "      <td>NaN</td>\n",
       "      <td>NaN</td>\n",
       "      <td>Ciudadano Restaurant</td>\n",
       "      <td>NaN</td>\n",
       "      <td>pub</td>\n",
       "      <td>...</td>\n",
       "      <td>NaN</td>\n",
       "      <td>NaN</td>\n",
       "      <td>NaN</td>\n",
       "      <td>NaN</td>\n",
       "      <td>http://www.ciudadanorestaurant.cl</td>\n",
       "      <td>NaN</td>\n",
       "      <td>NaN</td>\n",
       "      <td>NaN</td>\n",
       "      <td>NaN</td>\n",
       "      <td>NaN</td>\n",
       "    </tr>\n",
       "    <tr>\n",
       "      <th>175</th>\n",
       "      <td>NaN</td>\n",
       "      <td>Providencia</td>\n",
       "      <td>CL</td>\n",
       "      <td>1240</td>\n",
       "      <td>NaN</td>\n",
       "      <td>Santa Isabel</td>\n",
       "      <td>NaN</td>\n",
       "      <td>NaN</td>\n",
       "      <td>NaN</td>\n",
       "      <td>library</td>\n",
       "      <td>...</td>\n",
       "      <td>NaN</td>\n",
       "      <td>NaN</td>\n",
       "      <td>NaN</td>\n",
       "      <td>NaN</td>\n",
       "      <td>http://www.providencia-biblioteca.cl</td>\n",
       "      <td>NaN</td>\n",
       "      <td>NaN</td>\n",
       "      <td>NaN</td>\n",
       "      <td>NaN</td>\n",
       "      <td>NaN</td>\n",
       "    </tr>\n",
       "    <tr>\n",
       "      <th>178</th>\n",
       "      <td>NaN</td>\n",
       "      <td>NaN</td>\n",
       "      <td>NaN</td>\n",
       "      <td>NaN</td>\n",
       "      <td>NaN</td>\n",
       "      <td>NaN</td>\n",
       "      <td>NaN</td>\n",
       "      <td>NaN</td>\n",
       "      <td>NaN</td>\n",
       "      <td>college</td>\n",
       "      <td>...</td>\n",
       "      <td>NaN</td>\n",
       "      <td>NaN</td>\n",
       "      <td>NaN</td>\n",
       "      <td>NaN</td>\n",
       "      <td>NaN</td>\n",
       "      <td>yes</td>\n",
       "      <td>NaN</td>\n",
       "      <td>NaN</td>\n",
       "      <td>NaN</td>\n",
       "      <td>NaN</td>\n",
       "    </tr>\n",
       "    <tr>\n",
       "      <th>228</th>\n",
       "      <td>NaN</td>\n",
       "      <td>NaN</td>\n",
       "      <td>NaN</td>\n",
       "      <td>NaN</td>\n",
       "      <td>NaN</td>\n",
       "      <td>NaN</td>\n",
       "      <td>NaN</td>\n",
       "      <td>NaN</td>\n",
       "      <td>NaN</td>\n",
       "      <td>bus_station</td>\n",
       "      <td>...</td>\n",
       "      <td>NaN</td>\n",
       "      <td>NaN</td>\n",
       "      <td>NaN</td>\n",
       "      <td>NaN</td>\n",
       "      <td>NaN</td>\n",
       "      <td>NaN</td>\n",
       "      <td>NaN</td>\n",
       "      <td>NaN</td>\n",
       "      <td>NaN</td>\n",
       "      <td>NaN</td>\n",
       "    </tr>\n",
       "    <tr>\n",
       "      <th>232</th>\n",
       "      <td>NaN</td>\n",
       "      <td>NaN</td>\n",
       "      <td>NaN</td>\n",
       "      <td>NaN</td>\n",
       "      <td>NaN</td>\n",
       "      <td>NaN</td>\n",
       "      <td>NaN</td>\n",
       "      <td>NaN</td>\n",
       "      <td>NaN</td>\n",
       "      <td>ferry_terminal</td>\n",
       "      <td>...</td>\n",
       "      <td>NaN</td>\n",
       "      <td>NaN</td>\n",
       "      <td>NaN</td>\n",
       "      <td>NaN</td>\n",
       "      <td>NaN</td>\n",
       "      <td>NaN</td>\n",
       "      <td>NaN</td>\n",
       "      <td>NaN</td>\n",
       "      <td>NaN</td>\n",
       "      <td>NaN</td>\n",
       "    </tr>\n",
       "    <tr>\n",
       "      <th>233</th>\n",
       "      <td>NaN</td>\n",
       "      <td>NaN</td>\n",
       "      <td>NaN</td>\n",
       "      <td>NaN</td>\n",
       "      <td>NaN</td>\n",
       "      <td>NaN</td>\n",
       "      <td>NaN</td>\n",
       "      <td>NaN</td>\n",
       "      <td>NaN</td>\n",
       "      <td>ferry_terminal</td>\n",
       "      <td>...</td>\n",
       "      <td>NaN</td>\n",
       "      <td>NaN</td>\n",
       "      <td>NaN</td>\n",
       "      <td>NaN</td>\n",
       "      <td>NaN</td>\n",
       "      <td>NaN</td>\n",
       "      <td>NaN</td>\n",
       "      <td>NaN</td>\n",
       "      <td>NaN</td>\n",
       "      <td>NaN</td>\n",
       "    </tr>\n",
       "    <tr>\n",
       "      <th>237</th>\n",
       "      <td>NaN</td>\n",
       "      <td>Puerto Varas</td>\n",
       "      <td>NaN</td>\n",
       "      <td>NaN</td>\n",
       "      <td>NaN</td>\n",
       "      <td>Del Salvador</td>\n",
       "      <td>NaN</td>\n",
       "      <td>NaN</td>\n",
       "      <td>NaN</td>\n",
       "      <td>fuel</td>\n",
       "      <td>...</td>\n",
       "      <td>NaN</td>\n",
       "      <td>NaN</td>\n",
       "      <td>NaN</td>\n",
       "      <td>NaN</td>\n",
       "      <td>NaN</td>\n",
       "      <td>NaN</td>\n",
       "      <td>NaN</td>\n",
       "      <td>NaN</td>\n",
       "      <td>NaN</td>\n",
       "      <td>NaN</td>\n",
       "    </tr>\n",
       "  </tbody>\n",
       "</table>\n",
       "<p>10 rows × 149 columns</p>\n",
       "</div>"
      ],
      "text/plain": [
       "    FIXME     addr:city addr:country addr:housenumber addr:postcode  \\\n",
       "159   NaN           NaN          NaN              NaN           NaN   \n",
       "172   NaN           NaN          NaN              NaN           NaN   \n",
       "173   NaN           NaN          NaN              NaN           NaN   \n",
       "174   NaN           NaN          NaN              NaN           NaN   \n",
       "175   NaN   Providencia           CL             1240           NaN   \n",
       "178   NaN           NaN          NaN              NaN           NaN   \n",
       "228   NaN           NaN          NaN              NaN           NaN   \n",
       "232   NaN           NaN          NaN              NaN           NaN   \n",
       "233   NaN           NaN          NaN              NaN           NaN   \n",
       "237   NaN  Puerto Varas          NaN              NaN           NaN   \n",
       "\n",
       "      addr:street admin_level              alt_name alt_name_1  \\\n",
       "159           NaN         NaN                   NaN        NaN   \n",
       "172           NaN         NaN                   NaN        NaN   \n",
       "173           NaN         NaN                   NaN        NaN   \n",
       "174           NaN         NaN  Ciudadano Restaurant        NaN   \n",
       "175  Santa Isabel         NaN                   NaN        NaN   \n",
       "178           NaN         NaN                   NaN        NaN   \n",
       "228           NaN         NaN                   NaN        NaN   \n",
       "232           NaN         NaN                   NaN        NaN   \n",
       "233           NaN         NaN                   NaN        NaN   \n",
       "237  Del Salvador         NaN                   NaN        NaN   \n",
       "\n",
       "              amenity     ...      type volcano:last_eruption volcano:status  \\\n",
       "159    ferry_terminal     ...       NaN                   NaN            NaN   \n",
       "172  place_of_worship     ...       NaN                   NaN            NaN   \n",
       "173          hospital     ...       NaN                   NaN            NaN   \n",
       "174               pub     ...       NaN                   NaN            NaN   \n",
       "175           library     ...       NaN                   NaN            NaN   \n",
       "178           college     ...       NaN                   NaN            NaN   \n",
       "228       bus_station     ...       NaN                   NaN            NaN   \n",
       "232    ferry_terminal     ...       NaN                   NaN            NaN   \n",
       "233    ferry_terminal     ...       NaN                   NaN            NaN   \n",
       "237              fuel     ...       NaN                   NaN            NaN   \n",
       "\n",
       "    volcano:type                               website wheelchair wikidata  \\\n",
       "159          NaN                                   NaN        NaN      NaN   \n",
       "172          NaN                                   NaN        NaN      NaN   \n",
       "173          NaN                                   NaN        NaN      NaN   \n",
       "174          NaN     http://www.ciudadanorestaurant.cl        NaN      NaN   \n",
       "175          NaN  http://www.providencia-biblioteca.cl        NaN      NaN   \n",
       "178          NaN                                   NaN        yes      NaN   \n",
       "228          NaN                                   NaN        NaN      NaN   \n",
       "232          NaN                                   NaN        NaN      NaN   \n",
       "233          NaN                                   NaN        NaN      NaN   \n",
       "237          NaN                                   NaN        NaN      NaN   \n",
       "\n",
       "    wikipedia wikipedia:de wikipedia:en  \n",
       "159       NaN          NaN          NaN  \n",
       "172       NaN          NaN          NaN  \n",
       "173       NaN          NaN          NaN  \n",
       "174       NaN          NaN          NaN  \n",
       "175       NaN          NaN          NaN  \n",
       "178       NaN          NaN          NaN  \n",
       "228       NaN          NaN          NaN  \n",
       "232       NaN          NaN          NaN  \n",
       "233       NaN          NaN          NaN  \n",
       "237       NaN          NaN          NaN  \n",
       "\n",
       "[10 rows x 149 columns]"
      ]
     },
     "execution_count": 35,
     "metadata": {},
     "output_type": "execute_result"
    }
   ],
   "source": [
    "dataframe_pois[~pd.isnull(dataframe_pois.amenity)]"
   ]
  },
  {
   "cell_type": "markdown",
   "metadata": {},
   "source": [
    "Obtuvimos 33 columnas. Por supuesto que nuevamente vemos muchos NaN. Sin embargo, estas filas tienen la columna ```station``` como no nula. Veamos lo que tienen. Para ello usaremos el operador ```[]``` dos veces. La primera vez para obtener el DataFrame de estaciones, y la segunda para ver el valor de la columna de interés."
   ]
  },
  {
   "cell_type": "code",
   "execution_count": 36,
   "metadata": {
    "collapsed": false
   },
   "outputs": [
    {
     "data": {
      "text/plain": [
       "159      ferry_terminal\n",
       "172    place_of_worship\n",
       "173            hospital\n",
       "174                 pub\n",
       "175             library\n",
       "178             college\n",
       "228         bus_station\n",
       "232      ferry_terminal\n",
       "233      ferry_terminal\n",
       "237                fuel\n",
       "Name: amenity, dtype: object"
      ]
     },
     "execution_count": 36,
     "metadata": {},
     "output_type": "execute_result"
    }
   ],
   "source": [
    "stations = dataframe_pois[~pd.isnull(dataframe_pois.amenity)]\n",
    "stations['amenity']"
   ]
  },
  {
   "cell_type": "markdown",
   "metadata": {},
   "source": [
    "Son todas estaciones de metro. Si vemos la documentación, notaremos que existe una columna ```name``` para muchos POIs. Veámosla:"
   ]
  },
  {
   "cell_type": "code",
   "execution_count": 37,
   "metadata": {
    "collapsed": false
   },
   "outputs": [
    {
     "data": {
      "text/plain": [
       "159        Terminal Ferry Dalcahue\n",
       "172         Madre Bernardita Morín\n",
       "173                      Avansalud\n",
       "174                  Bar Ciudadano\n",
       "175    Café Literario Santa Isabel\n",
       "178                        Duoc UC\n",
       "228            Parada San Bernardo\n",
       "232                Caleta La Arena\n",
       "233                 Caleta Puelche\n",
       "237                      Petrobras\n",
       "Name: name, dtype: object"
      ]
     },
     "execution_count": 37,
     "metadata": {},
     "output_type": "execute_result"
    }
   ],
   "source": [
    "stations['name']"
   ]
  },
  {
   "cell_type": "markdown",
   "metadata": {},
   "source": [
    "Tuvimos suerte, dentro de los primeros 1000 POIs que leímos había varias estaciones de metro :) \n",
    "\n",
    "¿Creen que este modo de proceder es el mejor? La respuesta depende de lo que queremos hacer. Por ejemplo, si lo que queremos es buscar tipos específicos de POIs, entonces quizás es mejor estrategia definir esa lista a priori y luego asegurarnos de leer solamente esos nodos.\n",
    "\n",
    "En el ejercicio anterior utilizamos la biblioteca ```osmnx``` para descargar la red de transporte utilizando OpenStreetMap. Utilizando estas técnicas podríamos reconstruir esas redes, sin embargo, sería muy laborioso hacerlo.\n",
    "\n",
    "Lo que no entrega ```osmnx``` es la lista de POIs. Eso lo recuperaremos ahora. Nos enfocaremos en las categorías que pueden ser relevantes para poner sobre el mapa, sin considerar la red de transporte. De acuerdo a la documentación, la siguiente es una lista blanca propuesta de llaves primarias:"
   ]
  },
  {
   "cell_type": "code",
   "execution_count": 84,
   "metadata": {
    "collapsed": true,
    "scrolled": false
   },
   "outputs": [],
   "source": [
    "whitelist = {'amenity', 'building', 'craft', 'emergency', 'historic', 'leisure', 'man_made', \n",
    "    'office', 'power', 'shop', 'sport', 'tourism', 'public_transport', 'railway',\n",
    "    'military', 'natural', 'landmark'}"
   ]
  },
  {
   "cell_type": "markdown",
   "metadata": {},
   "source": [
    "La variable ```whitelist``` es un **set**. Es como una lista, pero a diferencia de ésta, no tiene orden. Si la imprimimos ahora veremos que quizás no se ve igual como la definimos:"
   ]
  },
  {
   "cell_type": "code",
   "execution_count": 85,
   "metadata": {
    "collapsed": false
   },
   "outputs": [
    {
     "data": {
      "text/plain": [
       "{'amenity',\n",
       " 'building',\n",
       " 'craft',\n",
       " 'emergency',\n",
       " 'historic',\n",
       " 'landmark',\n",
       " 'leisure',\n",
       " 'man_made',\n",
       " 'military',\n",
       " 'natural',\n",
       " 'office',\n",
       " 'power',\n",
       " 'public_transport',\n",
       " 'railway',\n",
       " 'shop',\n",
       " 'sport',\n",
       " 'tourism'}"
      ]
     },
     "execution_count": 85,
     "metadata": {},
     "output_type": "execute_result"
    }
   ],
   "source": [
    "whitelist"
   ]
  },
  {
   "cell_type": "markdown",
   "metadata": {},
   "source": [
    "En efecto. ¿De qué sirve un set? Es un conjunto en el cual es muy rápido preguntar si un elemento se encuentra dentro, o bien para calcular intersecciones entre sets. Lo utilizaremos para definir cuáles nodos leer. Aprovecharemos también de quedarnos únicamente con el atributo ```name``` de los POIs."
   ]
  },
  {
   "cell_type": "code",
   "execution_count": 86,
   "metadata": {
    "collapsed": true
   },
   "outputs": [],
   "source": [
    "class NodeCounter(object):\n",
    "    pois = []\n",
    "    read_nodes = 0\n",
    "    whitelist = {}\n",
    "    \n",
    "    def __init__(self, whitelist):\n",
    "        self.whitelist = whitelist\n",
    "\n",
    "    def poi_callback(self, list_of_nodes):\n",
    "        if not list_of_nodes:\n",
    "            return\n",
    "\n",
    "        for node_info in list_of_nodes:\n",
    "            if len(node_info[1]) > 1:\n",
    "                common_keys = list(self.whitelist.intersection(node_info[1].keys()))\n",
    "                \n",
    "                if common_keys:\n",
    "                    poi = {\n",
    "                        'id': node_info[0],\n",
    "                        'key': common_keys[0],\n",
    "                        'value': node_info[1][common_keys[0]],\n",
    "                        'name': node_info[1]['name'] if 'name' in node_info[1] else None                        \n",
    "                    }\n",
    "                    \n",
    "                    self.pois.append(poi)\n",
    "                    \n",
    "                self.read_nodes += 1\n",
    "\n",
    "                if self.read_nodes > 1000:\n",
    "                    raise Exception('Ya leímos 1000 nodos :)')\n",
    "\n",
    "node_counter = NodeCounter(whitelist)\n",
    "\n",
    "try:\n",
    "    parser = OSMParser(nodes_callback=node_counter.poi_callback, concurrency=1)\n",
    "    parser.parse_pbf_file('./input/chile-latest.osm.pbf')\n",
    "except:\n",
    "    pass"
   ]
  },
  {
   "cell_type": "code",
   "execution_count": 87,
   "metadata": {
    "collapsed": false
   },
   "outputs": [
    {
     "data": {
      "text/plain": [
       "(104, 4)"
      ]
     },
     "execution_count": 87,
     "metadata": {},
     "output_type": "execute_result"
    }
   ],
   "source": [
    "dataframe_pois = pd.DataFrame.from_records(node_counter.pois)\n",
    "dataframe_pois.shape"
   ]
  },
  {
   "cell_type": "markdown",
   "metadata": {},
   "source": [
    "De todos los nodos, solamente 262 eran de los tipos que incluimos en la lista blanca."
   ]
  },
  {
   "cell_type": "code",
   "execution_count": 88,
   "metadata": {
    "collapsed": false
   },
   "outputs": [
    {
     "data": {
      "text/html": [
       "<div>\n",
       "<style>\n",
       "    .dataframe thead tr:only-child th {\n",
       "        text-align: right;\n",
       "    }\n",
       "\n",
       "    .dataframe thead th {\n",
       "        text-align: left;\n",
       "    }\n",
       "\n",
       "    .dataframe tbody tr th {\n",
       "        vertical-align: top;\n",
       "    }\n",
       "</style>\n",
       "<table border=\"1\" class=\"dataframe\">\n",
       "  <thead>\n",
       "    <tr style=\"text-align: right;\">\n",
       "      <th></th>\n",
       "      <th>id</th>\n",
       "      <th>key</th>\n",
       "      <th>name</th>\n",
       "      <th>value</th>\n",
       "    </tr>\n",
       "  </thead>\n",
       "  <tbody>\n",
       "    <tr>\n",
       "      <th>75</th>\n",
       "      <td>96305579</td>\n",
       "      <td>natural</td>\n",
       "      <td>Cerro Irpa</td>\n",
       "      <td>peak</td>\n",
       "    </tr>\n",
       "    <tr>\n",
       "      <th>64</th>\n",
       "      <td>96304735</td>\n",
       "      <td>natural</td>\n",
       "      <td>Cerro Chipapa</td>\n",
       "      <td>peak</td>\n",
       "    </tr>\n",
       "    <tr>\n",
       "      <th>35</th>\n",
       "      <td>96186827</td>\n",
       "      <td>natural</td>\n",
       "      <td>Cerro Vidal Gormaz</td>\n",
       "      <td>peak</td>\n",
       "    </tr>\n",
       "    <tr>\n",
       "      <th>52</th>\n",
       "      <td>96196534</td>\n",
       "      <td>historic</td>\n",
       "      <td>Hito II-IV Monte Dinero</td>\n",
       "      <td>boundary_stone</td>\n",
       "    </tr>\n",
       "    <tr>\n",
       "      <th>97</th>\n",
       "      <td>141096340</td>\n",
       "      <td>railway</td>\n",
       "      <td>Toesca</td>\n",
       "      <td>station</td>\n",
       "    </tr>\n",
       "    <tr>\n",
       "      <th>11</th>\n",
       "      <td>96182736</td>\n",
       "      <td>historic</td>\n",
       "      <td>Hito 26</td>\n",
       "      <td>boundary_stone</td>\n",
       "    </tr>\n",
       "    <tr>\n",
       "      <th>93</th>\n",
       "      <td>133350445</td>\n",
       "      <td>amenity</td>\n",
       "      <td>Avansalud</td>\n",
       "      <td>hospital</td>\n",
       "    </tr>\n",
       "    <tr>\n",
       "      <th>77</th>\n",
       "      <td>96305932</td>\n",
       "      <td>natural</td>\n",
       "      <td>None</td>\n",
       "      <td>peak</td>\n",
       "    </tr>\n",
       "    <tr>\n",
       "      <th>9</th>\n",
       "      <td>96182486</td>\n",
       "      <td>historic</td>\n",
       "      <td>Hito 42</td>\n",
       "      <td>boundary_stone</td>\n",
       "    </tr>\n",
       "    <tr>\n",
       "      <th>73</th>\n",
       "      <td>96305428</td>\n",
       "      <td>historic</td>\n",
       "      <td>Hito s/n-LXXVI</td>\n",
       "      <td>boundary_stone</td>\n",
       "    </tr>\n",
       "  </tbody>\n",
       "</table>\n",
       "</div>"
      ],
      "text/plain": [
       "           id       key                     name           value\n",
       "75   96305579   natural               Cerro Irpa            peak\n",
       "64   96304735   natural            Cerro Chipapa            peak\n",
       "35   96186827   natural       Cerro Vidal Gormaz            peak\n",
       "52   96196534  historic  Hito II-IV Monte Dinero  boundary_stone\n",
       "97  141096340   railway                   Toesca         station\n",
       "11   96182736  historic                  Hito 26  boundary_stone\n",
       "93  133350445   amenity                Avansalud        hospital\n",
       "77   96305932   natural                     None            peak\n",
       "9    96182486  historic                  Hito 42  boundary_stone\n",
       "73   96305428  historic           Hito s/n-LXXVI  boundary_stone"
      ]
     },
     "execution_count": 88,
     "metadata": {},
     "output_type": "execute_result"
    }
   ],
   "source": [
    "dataframe_pois.sample(10)"
   ]
  },
  {
   "cell_type": "markdown",
   "metadata": {},
   "source": [
    "Esto ya parece más útil. Ahora bien, lo que _realmente_ queremos son las coordenadas de cada POI, ¿no? Para eso necesitaremos usar un GeoDataFrame y el módulo ```shapely```"
   ]
  },
  {
   "cell_type": "code",
   "execution_count": 89,
   "metadata": {
    "collapsed": true
   },
   "outputs": [],
   "source": [
    "from shapely.geometry import Point\n",
    "import geopandas as gpd"
   ]
  },
  {
   "cell_type": "code",
   "execution_count": 90,
   "metadata": {
    "collapsed": true
   },
   "outputs": [],
   "source": [
    "class NodeCounter(object):\n",
    "    pois = []\n",
    "    read_nodes = 0\n",
    "    whitelist = {}\n",
    "    \n",
    "    def __init__(self, whitelist):\n",
    "        self.whitelist = whitelist\n",
    "\n",
    "    def poi_callback(self, list_of_nodes):\n",
    "        if not list_of_nodes:\n",
    "            return\n",
    "\n",
    "        for node_info in list_of_nodes:\n",
    "            if len(node_info[1]) > 1:\n",
    "                common_keys = list(self.whitelist.intersection(node_info[1].keys()))\n",
    "                if common_keys:\n",
    "                    poi = {\n",
    "                        'id': node_info[0],\n",
    "                        'key': common_keys[0],\n",
    "                        'value': node_info[1][common_keys[0]],\n",
    "                        'name': node_info[1]['name'] if 'name' in node_info[1] else None,\n",
    "                        'position': Point(node_info[2])\n",
    "                    }\n",
    "                    \n",
    "                    #poi['geometry'] = Point(node_info[2])\n",
    "                    self.pois.append(poi)\n",
    "                    \n",
    "                self.read_nodes += 1\n",
    "\n",
    "                if self.read_nodes > 1000:\n",
    "                    raise Exception('Ya leímos 1000 nodos :)')\n",
    "\n",
    "node_counter = NodeCounter(whitelist)\n",
    "\n",
    "try:\n",
    "    parser = OSMParser(nodes_callback=node_counter.poi_callback, concurrency=1)\n",
    "    parser.parse_pbf_file('./input/chile-latest.osm.pbf')\n",
    "except:\n",
    "    pass"
   ]
  },
  {
   "cell_type": "code",
   "execution_count": 91,
   "metadata": {
    "collapsed": false
   },
   "outputs": [
    {
     "data": {
      "text/plain": [
       "(104, 5)"
      ]
     },
     "execution_count": 91,
     "metadata": {},
     "output_type": "execute_result"
    }
   ],
   "source": [
    "dataframe_pois = gpd.GeoDataFrame(pd.DataFrame.from_records(node_counter.pois), \n",
    "                                  geometry='position', \n",
    "                                  crs={'init': 'epsg:4326'})\n",
    "dataframe_pois.shape"
   ]
  },
  {
   "cell_type": "code",
   "execution_count": 92,
   "metadata": {
    "collapsed": false
   },
   "outputs": [
    {
     "data": {
      "text/html": [
       "<div>\n",
       "<style>\n",
       "    .dataframe thead tr:only-child th {\n",
       "        text-align: right;\n",
       "    }\n",
       "\n",
       "    .dataframe thead th {\n",
       "        text-align: left;\n",
       "    }\n",
       "\n",
       "    .dataframe tbody tr th {\n",
       "        vertical-align: top;\n",
       "    }\n",
       "</style>\n",
       "<table border=\"1\" class=\"dataframe\">\n",
       "  <thead>\n",
       "    <tr style=\"text-align: right;\">\n",
       "      <th></th>\n",
       "      <th>id</th>\n",
       "      <th>key</th>\n",
       "      <th>name</th>\n",
       "      <th>position</th>\n",
       "      <th>value</th>\n",
       "    </tr>\n",
       "  </thead>\n",
       "  <tbody>\n",
       "    <tr>\n",
       "      <th>0</th>\n",
       "      <td>84204260</td>\n",
       "      <td>natural</td>\n",
       "      <td>Volcán Osorno</td>\n",
       "      <td>POINT (-72.49756940000012 -41.10418709999997)</td>\n",
       "      <td>volcano</td>\n",
       "    </tr>\n",
       "    <tr>\n",
       "      <th>1</th>\n",
       "      <td>86637068</td>\n",
       "      <td>natural</td>\n",
       "      <td>Volcán Calbuco</td>\n",
       "      <td>POINT (-72.60982550000011 -41.32985159999993)</td>\n",
       "      <td>volcano</td>\n",
       "    </tr>\n",
       "    <tr>\n",
       "      <th>2</th>\n",
       "      <td>89581069</td>\n",
       "      <td>natural</td>\n",
       "      <td>Pointe Noire</td>\n",
       "      <td>POINT (-69.35780489999996 -55.5549894)</td>\n",
       "      <td>cape</td>\n",
       "    </tr>\n",
       "    <tr>\n",
       "      <th>3</th>\n",
       "      <td>96178518</td>\n",
       "      <td>historic</td>\n",
       "      <td>Hito Trifinio Bolivia - Chile - Perú</td>\n",
       "      <td>POINT (-69.4684824 -17.49839980000004)</td>\n",
       "      <td>boundary_stone</td>\n",
       "    </tr>\n",
       "    <tr>\n",
       "      <th>4</th>\n",
       "      <td>96182306</td>\n",
       "      <td>historic</td>\n",
       "      <td>Hito 25</td>\n",
       "      <td>POINT (-69.98524689999999 -18.26978230000004)</td>\n",
       "      <td>boundary_stone</td>\n",
       "    </tr>\n",
       "  </tbody>\n",
       "</table>\n",
       "</div>"
      ],
      "text/plain": [
       "         id       key                                  name  \\\n",
       "0  84204260   natural                         Volcán Osorno   \n",
       "1  86637068   natural                        Volcán Calbuco   \n",
       "2  89581069   natural                          Pointe Noire   \n",
       "3  96178518  historic  Hito Trifinio Bolivia - Chile - Perú   \n",
       "4  96182306  historic                               Hito 25   \n",
       "\n",
       "                                        position           value  \n",
       "0  POINT (-72.49756940000012 -41.10418709999997)         volcano  \n",
       "1  POINT (-72.60982550000011 -41.32985159999993)         volcano  \n",
       "2         POINT (-69.35780489999996 -55.5549894)            cape  \n",
       "3         POINT (-69.4684824 -17.49839980000004)  boundary_stone  \n",
       "4  POINT (-69.98524689999999 -18.26978230000004)  boundary_stone  "
      ]
     },
     "execution_count": 92,
     "metadata": {},
     "output_type": "execute_result"
    }
   ],
   "source": [
    "dataframe_pois.head()"
   ]
  },
  {
   "cell_type": "code",
   "execution_count": 93,
   "metadata": {
    "collapsed": true
   },
   "outputs": [],
   "source": [
    "%matplotlib inline"
   ]
  },
  {
   "cell_type": "code",
   "execution_count": 94,
   "metadata": {
    "collapsed": false
   },
   "outputs": [
    {
     "data": {
      "text/plain": [
       "<matplotlib.axes._subplots.AxesSubplot at 0x7f635668db70>"
      ]
     },
     "execution_count": 94,
     "metadata": {},
     "output_type": "execute_result"
    },
    {
     "data": {
      "image/png": "[encoded data removed]",
      "text/plain": [
       "<matplotlib.figure.Figure at 0x7f634a414eb8>"
      ]
     },
     "metadata": {},
     "output_type": "display_data"
    }
   ],
   "source": [
    "dataframe_pois.plot()"
   ]
  },
  {
   "cell_type": "markdown",
   "metadata": {},
   "source": [
    "Ahora carguemos todos los POIs que vienen en el dataset."
   ]
  },
  {
   "cell_type": "code",
   "execution_count": 95,
   "metadata": {
    "collapsed": true
   },
   "outputs": [],
   "source": [
    "class NodeCounter(object):\n",
    "    pois = []\n",
    "    whitelist = {}\n",
    "    \n",
    "    def __init__(self, whitelist):\n",
    "        self.whitelist = whitelist\n",
    "\n",
    "    def poi_callback(self, list_of_nodes):\n",
    "        if not list_of_nodes:\n",
    "            return\n",
    "\n",
    "        for node_info in list_of_nodes:\n",
    "            if len(node_info[1]) > 1:\n",
    "                common_keys = list(self.whitelist.intersection(node_info[1].keys()))\n",
    "                if common_keys:\n",
    "                    poi = {\n",
    "                        'id': node_info[0],\n",
    "                        'key': common_keys[0],\n",
    "                        'value': node_info[1][common_keys[0]],\n",
    "                        'name': node_info[1]['name'] if 'name' in node_info[1] else None,\n",
    "                        'position': Point(node_info[2])\n",
    "                    }\n",
    "\n",
    "                    self.pois.append(poi)\n",
    "\n",
    "node_counter = NodeCounter(whitelist)\n",
    "parser = OSMParser(nodes_callback=node_counter.poi_callback)\n",
    "parser.parse_pbf_file('./input/chile-latest.osm.pbf')"
   ]
  },
  {
   "cell_type": "code",
   "execution_count": 96,
   "metadata": {
    "collapsed": false
   },
   "outputs": [
    {
     "data": {
      "text/plain": [
       "(68735, 5)"
      ]
     },
     "execution_count": 96,
     "metadata": {},
     "output_type": "execute_result"
    }
   ],
   "source": [
    "dataframe_pois = gpd.GeoDataFrame(pd.DataFrame.from_records(node_counter.pois), geometry='position', \n",
    "                                  crs={'init': 'epsg:4326'})\n",
    "dataframe_pois.shape"
   ]
  },
  {
   "cell_type": "code",
   "execution_count": 97,
   "metadata": {
    "collapsed": false
   },
   "outputs": [
    {
     "data": {
      "text/plain": [
       "<matplotlib.axes._subplots.AxesSubplot at 0x7f63565b1588>"
      ]
     },
     "execution_count": 97,
     "metadata": {},
     "output_type": "execute_result"
    },
    {
     "data": {
      "image/png": "[encoded data removed]",
      "text/plain": [
       "<matplotlib.figure.Figure at 0x7f63565ab278>"
      ]
     },
     "metadata": {},
     "output_type": "display_data"
    }
   ],
   "source": [
    "dataframe_pois.sample(1000).plot(figsize=(12,12))"
   ]
  },
  {
   "cell_type": "markdown",
   "metadata": {},
   "source": [
    "¡Tenemos puntos en todo Chile, incluyendo Isla de Pascua! Y eso que solamente dibujamos una muestra.\n",
    "\n",
    "## Eligiendo POIs de Acuerdo a su Ubicación\n",
    "\n",
    "Es probable que en nuestros proyectos estemos interesados en alguna área en particular, o bien, que queramos asignar alguna zona específica a cada POI. Esta zona puede ser una zona de análisis de transporte, una comuna, una provincia, o una región.\n",
    "\n",
    "Utilizaremos GeoPandas nuevamente para leer los bordes administrativos de las comunas y quedarnos solamente con los POIs de la Región Metropolitana."
   ]
  },
  {
   "cell_type": "code",
   "execution_count": 56,
   "metadata": {
    "collapsed": true
   },
   "outputs": [],
   "source": [
    "municipalities = gpd.read_file('./input/shapefile_comunas',\n",
    "                               crs={'init': 'epsg:5361'})"
   ]
  },
  {
   "cell_type": "markdown",
   "metadata": {},
   "source": [
    "Hay algo distinto. Aquí le pedimos a GeoPandas (gpd) que lea un archivo (read_file), pero en realidad le pasamos una carpeta, y además el parámetro crs es distinto al que usamos antes. ¿Por qué? \n",
    "\n",
    "  1. Los ficheros Shapefile (.shp) se distribuyen en una carpeta, ya que contienen varios archivos auxiliares que también son necesarios.\n",
    "  2. En este archivo particular se utiliza un sistema de coordenadas que no es el que uno esperaría, de (latitud,longitud). \n",
    "  \n",
    "Lo referente al punto 2 se observa a continuación. La columna geometry contiene polígonos cuyos puntos tienen coordenadas que no se parecen en nada a las de los POIs de OSM."
   ]
  },
  {
   "cell_type": "code",
   "execution_count": 60,
   "metadata": {
    "collapsed": false
   },
   "outputs": [
    {
     "data": {
      "text/html": [
       "<div>\n",
       "<style>\n",
       "    .dataframe thead tr:only-child th {\n",
       "        text-align: right;\n",
       "    }\n",
       "\n",
       "    .dataframe thead th {\n",
       "        text-align: left;\n",
       "    }\n",
       "\n",
       "    .dataframe tbody tr th {\n",
       "        vertical-align: top;\n",
       "    }\n",
       "</style>\n",
       "<table border=\"1\" class=\"dataframe\">\n",
       "  <thead>\n",
       "    <tr style=\"text-align: right;\">\n",
       "      <th></th>\n",
       "      <th>CIR_SENA</th>\n",
       "      <th>COD_COMUNA</th>\n",
       "      <th>DIS_ELEC</th>\n",
       "      <th>NOM_COM</th>\n",
       "      <th>NOM_PROV</th>\n",
       "      <th>NOM_REG</th>\n",
       "      <th>SHAPE_Area</th>\n",
       "      <th>SHAPE_LENG</th>\n",
       "      <th>SHAPE_Le_1</th>\n",
       "      <th>geometry</th>\n",
       "    </tr>\n",
       "  </thead>\n",
       "  <tbody>\n",
       "    <tr>\n",
       "      <th>0</th>\n",
       "      <td>14</td>\n",
       "      <td>9204</td>\n",
       "      <td>48</td>\n",
       "      <td>Ercilla</td>\n",
       "      <td>Malleco</td>\n",
       "      <td>Región de La Araucanía</td>\n",
       "      <td>4.979025e+08</td>\n",
       "      <td>170675.595438</td>\n",
       "      <td>170675.595706</td>\n",
       "      <td>POLYGON ((190393.2198999999 5794527.3661, 1904...</td>\n",
       "    </tr>\n",
       "    <tr>\n",
       "      <th>207</th>\n",
       "      <td>11</td>\n",
       "      <td>7408</td>\n",
       "      <td>39</td>\n",
       "      <td>Yerbas Buenas</td>\n",
       "      <td>Linares</td>\n",
       "      <td>Región del Maule</td>\n",
       "      <td>2.590269e+08</td>\n",
       "      <td>87657.194262</td>\n",
       "      <td>87657.194368</td>\n",
       "      <td>POLYGON ((273125.8499999996 6056569.5152, 2733...</td>\n",
       "    </tr>\n",
       "    <tr>\n",
       "      <th>142</th>\n",
       "      <td>12</td>\n",
       "      <td>8102</td>\n",
       "      <td>45</td>\n",
       "      <td>Coronel</td>\n",
       "      <td>Concepción</td>\n",
       "      <td>Región del Bío-Bío</td>\n",
       "      <td>2.787924e+08</td>\n",
       "      <td>127818.315587</td>\n",
       "      <td>127818.315541</td>\n",
       "      <td>(POLYGON ((133684.0343000004 5906280.7296, 133...</td>\n",
       "    </tr>\n",
       "    <tr>\n",
       "      <th>75</th>\n",
       "      <td>9</td>\n",
       "      <td>6204</td>\n",
       "      <td>35</td>\n",
       "      <td>Marchigüe</td>\n",
       "      <td>Cardenal Caro</td>\n",
       "      <td>Región del Libertador Bernardo O'Higgins</td>\n",
       "      <td>6.586934e+08</td>\n",
       "      <td>170038.624165</td>\n",
       "      <td>170038.623784</td>\n",
       "      <td>POLYGON ((241952.0623000003 6211313.0038, 2420...</td>\n",
       "    </tr>\n",
       "    <tr>\n",
       "      <th>243</th>\n",
       "      <td>1</td>\n",
       "      <td>1510</td>\n",
       "      <td>1</td>\n",
       "      <td>Camarones</td>\n",
       "      <td>Arica</td>\n",
       "      <td>Región de Arica y Parinacota</td>\n",
       "      <td>3.623947e+09</td>\n",
       "      <td>382307.008098</td>\n",
       "      <td>382307.007840</td>\n",
       "      <td>POLYGON ((449601.0926000001 7932143.4981, 4500...</td>\n",
       "    </tr>\n",
       "  </tbody>\n",
       "</table>\n",
       "</div>"
      ],
      "text/plain": [
       "     CIR_SENA  COD_COMUNA  DIS_ELEC        NOM_COM       NOM_PROV  \\\n",
       "0          14        9204        48        Ercilla        Malleco   \n",
       "207        11        7408        39  Yerbas Buenas        Linares   \n",
       "142        12        8102        45        Coronel     Concepción   \n",
       "75          9        6204        35      Marchigüe  Cardenal Caro   \n",
       "243         1        1510         1      Camarones          Arica   \n",
       "\n",
       "                                      NOM_REG    SHAPE_Area     SHAPE_LENG  \\\n",
       "0                      Región de La Araucanía  4.979025e+08  170675.595438   \n",
       "207                          Región del Maule  2.590269e+08   87657.194262   \n",
       "142                        Región del Bío-Bío  2.787924e+08  127818.315587   \n",
       "75   Región del Libertador Bernardo O'Higgins  6.586934e+08  170038.624165   \n",
       "243              Región de Arica y Parinacota  3.623947e+09  382307.008098   \n",
       "\n",
       "        SHAPE_Le_1                                           geometry  \n",
       "0    170675.595706  POLYGON ((190393.2198999999 5794527.3661, 1904...  \n",
       "207   87657.194368  POLYGON ((273125.8499999996 6056569.5152, 2733...  \n",
       "142  127818.315541  (POLYGON ((133684.0343000004 5906280.7296, 133...  \n",
       "75   170038.623784  POLYGON ((241952.0623000003 6211313.0038, 2420...  \n",
       "243  382307.007840  POLYGON ((449601.0926000001 7932143.4981, 4500...  "
      ]
     },
     "execution_count": 60,
     "metadata": {},
     "output_type": "execute_result"
    }
   ],
   "source": [
    "municipalities.sample(5)"
   ]
  },
  {
   "cell_type": "markdown",
   "metadata": {},
   "source": [
    "Del mismo modo que antes podíamos filtrar el DataFrame de acuerdo a si un valor era nulo, ahora podemos filtrarlo de acuerdo a la región a la que pertenece cada fila."
   ]
  },
  {
   "cell_type": "code",
   "execution_count": 61,
   "metadata": {
    "collapsed": false
   },
   "outputs": [
    {
     "data": {
      "text/plain": [
       "192                             Región del Maule\n",
       "280                           Región del Bío-Bío\n",
       "272                         Región de Valparaíso\n",
       "171                           Región del Bío-Bío\n",
       "325    Región de Aysén del Gral.Ibañez del Campo\n",
       "195                             Región del Maule\n",
       "343                         Región de Valparaíso\n",
       "179             Región Metropolitana de Santiago\n",
       "65      Región del Libertador Bernardo O'Higgins\n",
       "227             Región Metropolitana de Santiago\n",
       "148                           Región del Bío-Bío\n",
       "229                           Región de Los Ríos\n",
       "161                           Región del Bío-Bío\n",
       "213                             Región del Maule\n",
       "295             Región Metropolitana de Santiago\n",
       "Name: NOM_REG, dtype: object"
      ]
     },
     "execution_count": 61,
     "metadata": {},
     "output_type": "execute_result"
    }
   ],
   "source": [
    "municipalities.sample(15)['NOM_REG']"
   ]
  },
  {
   "cell_type": "code",
   "execution_count": 62,
   "metadata": {
    "collapsed": false
   },
   "outputs": [
    {
     "data": {
      "text/plain": [
       "101    False\n",
       "130    False\n",
       "112    False\n",
       "340    False\n",
       "109    False\n",
       "236    False\n",
       "184     True\n",
       "283    False\n",
       "249    False\n",
       "345    False\n",
       "238    False\n",
       "148    False\n",
       "174    False\n",
       "118    False\n",
       "171    False\n",
       "Name: NOM_REG, dtype: bool"
      ]
     },
     "execution_count": 62,
     "metadata": {},
     "output_type": "execute_result"
    }
   ],
   "source": [
    "municipalities.sample(15)['NOM_REG'] == 'Región Metropolitana de Santiago'"
   ]
  },
  {
   "cell_type": "code",
   "execution_count": 63,
   "metadata": {
    "collapsed": false
   },
   "outputs": [
    {
     "data": {
      "text/plain": [
       "(52, 10)"
      ]
     },
     "execution_count": 63,
     "metadata": {},
     "output_type": "execute_result"
    }
   ],
   "source": [
    "rm = municipalities[municipalities['NOM_REG'] == 'Región Metropolitana de Santiago']\n",
    "rm.shape"
   ]
  },
  {
   "cell_type": "code",
   "execution_count": 64,
   "metadata": {
    "collapsed": false
   },
   "outputs": [
    {
     "data": {
      "text/plain": [
       "<matplotlib.axes._subplots.AxesSubplot at 0x7f63587d8978>"
      ]
     },
     "execution_count": 64,
     "metadata": {},
     "output_type": "execute_result"
    },
    {
     "data": {
      "image/png": "[encoded data removed]",
      "text/plain": [
       "<matplotlib.figure.Figure at 0x7f6359733ba8>"
      ]
     },
     "metadata": {},
     "output_type": "display_data"
    }
   ],
   "source": [
    "rm.plot()"
   ]
  },
  {
   "cell_type": "markdown",
   "metadata": {},
   "source": [
    "Aquí se observa que efectivamente se utiliza un sistema de coordenadas diferente. Observen la magnitud de las coordenadas en comparación con las del gráfico de POIs.\n",
    "\n",
    "¿Cómo situar ambos GeoDataFrames en el mismo sistema de coordenadas?\n",
    "\n",
    "La respuesta es que debemos hacer que ambos GeoDataFrames utilicen la misma [_proyección cartográfica_](https://es.wikipedia.org/wiki/Proyecci%C3%B3n_cartogr%C3%A1fica). Afortunadamente GeoPandas permite convertir fácilmente de una proyección a otra."
   ]
  },
  {
   "cell_type": "code",
   "execution_count": 66,
   "metadata": {
    "collapsed": false
   },
   "outputs": [
    {
     "data": {
      "text/plain": [
       "<matplotlib.axes._subplots.AxesSubplot at 0x7f634a364a20>"
      ]
     },
     "execution_count": 66,
     "metadata": {},
     "output_type": "execute_result"
    },
    {
     "data": {
      "image/png": "[encoded data removed]",
      "text/plain": [
       "<matplotlib.figure.Figure at 0x7f634a36b3c8>"
      ]
     },
     "metadata": {},
     "output_type": "display_data"
    }
   ],
   "source": [
    "rm_lat_lon = rm.to_crs({'init': 'epsg:4326'})\n",
    "rm_lat_lon.plot(figsize=(12,12))"
   ]
  },
  {
   "cell_type": "markdown",
   "metadata": {
    "collapsed": true
   },
   "source": [
    "Ahora sí :)"
   ]
  },
  {
   "cell_type": "code",
   "execution_count": 67,
   "metadata": {
    "collapsed": false
   },
   "outputs": [
    {
     "data": {
      "text/html": [
       "<div>\n",
       "<style>\n",
       "    .dataframe thead tr:only-child th {\n",
       "        text-align: right;\n",
       "    }\n",
       "\n",
       "    .dataframe thead th {\n",
       "        text-align: left;\n",
       "    }\n",
       "\n",
       "    .dataframe tbody tr th {\n",
       "        vertical-align: top;\n",
       "    }\n",
       "</style>\n",
       "<table border=\"1\" class=\"dataframe\">\n",
       "  <thead>\n",
       "    <tr style=\"text-align: right;\">\n",
       "      <th></th>\n",
       "      <th>CIR_SENA</th>\n",
       "      <th>COD_COMUNA</th>\n",
       "      <th>DIS_ELEC</th>\n",
       "      <th>NOM_COM</th>\n",
       "      <th>NOM_PROV</th>\n",
       "      <th>NOM_REG</th>\n",
       "      <th>SHAPE_Area</th>\n",
       "      <th>SHAPE_LENG</th>\n",
       "      <th>SHAPE_Le_1</th>\n",
       "      <th>geometry</th>\n",
       "    </tr>\n",
       "  </thead>\n",
       "  <tbody>\n",
       "    <tr>\n",
       "      <th>220</th>\n",
       "      <td>7</td>\n",
       "      <td>1330</td>\n",
       "      <td>16</td>\n",
       "      <td>Tiltil</td>\n",
       "      <td>Chacabuco</td>\n",
       "      <td>Región Metropolitana de Santiago</td>\n",
       "      <td>6.531615e+08</td>\n",
       "      <td>133827.265443</td>\n",
       "      <td>133827.265139</td>\n",
       "      <td>POLYGON ((-70.83450815402658 -32.9276435402422...</td>\n",
       "    </tr>\n",
       "    <tr>\n",
       "      <th>312</th>\n",
       "      <td>8</td>\n",
       "      <td>1311</td>\n",
       "      <td>25</td>\n",
       "      <td>Macul</td>\n",
       "      <td>Santiago</td>\n",
       "      <td>Región Metropolitana de Santiago</td>\n",
       "      <td>1.279411e+07</td>\n",
       "      <td>15200.750374</td>\n",
       "      <td>15151.816703</td>\n",
       "      <td>POLYGON ((-70.57681955294478 -33.4702656930307...</td>\n",
       "    </tr>\n",
       "    <tr>\n",
       "      <th>313</th>\n",
       "      <td>7</td>\n",
       "      <td>1311</td>\n",
       "      <td>20</td>\n",
       "      <td>Maipú</td>\n",
       "      <td>Santiago</td>\n",
       "      <td>Región Metropolitana de Santiago</td>\n",
       "      <td>1.380380e+08</td>\n",
       "      <td>61424.982526</td>\n",
       "      <td>61429.469836</td>\n",
       "      <td>POLYGON ((-70.76505155386489 -33.4592583707145...</td>\n",
       "    </tr>\n",
       "    <tr>\n",
       "      <th>184</th>\n",
       "      <td>8</td>\n",
       "      <td>1312</td>\n",
       "      <td>25</td>\n",
       "      <td>San Joaquín</td>\n",
       "      <td>Santiago</td>\n",
       "      <td>Región Metropolitana de Santiago</td>\n",
       "      <td>9.876877e+06</td>\n",
       "      <td>13987.326781</td>\n",
       "      <td>13986.827395</td>\n",
       "      <td>POLYGON ((-70.62341581773579 -33.4733797392914...</td>\n",
       "    </tr>\n",
       "    <tr>\n",
       "      <th>311</th>\n",
       "      <td>8</td>\n",
       "      <td>1311</td>\n",
       "      <td>23</td>\n",
       "      <td>Las Condes</td>\n",
       "      <td>Santiago</td>\n",
       "      <td>Región Metropolitana de Santiago</td>\n",
       "      <td>9.839607e+07</td>\n",
       "      <td>51230.563241</td>\n",
       "      <td>51374.349007</td>\n",
       "      <td>POLYGON ((-70.53235176218874 -33.3821684107016...</td>\n",
       "    </tr>\n",
       "  </tbody>\n",
       "</table>\n",
       "</div>"
      ],
      "text/plain": [
       "     CIR_SENA  COD_COMUNA  DIS_ELEC      NOM_COM   NOM_PROV  \\\n",
       "220         7        1330        16       Tiltil  Chacabuco   \n",
       "312         8        1311        25        Macul   Santiago   \n",
       "313         7        1311        20        Maipú   Santiago   \n",
       "184         8        1312        25  San Joaquín   Santiago   \n",
       "311         8        1311        23   Las Condes   Santiago   \n",
       "\n",
       "                              NOM_REG    SHAPE_Area     SHAPE_LENG  \\\n",
       "220  Región Metropolitana de Santiago  6.531615e+08  133827.265443   \n",
       "312  Región Metropolitana de Santiago  1.279411e+07   15200.750374   \n",
       "313  Región Metropolitana de Santiago  1.380380e+08   61424.982526   \n",
       "184  Región Metropolitana de Santiago  9.876877e+06   13987.326781   \n",
       "311  Región Metropolitana de Santiago  9.839607e+07   51230.563241   \n",
       "\n",
       "        SHAPE_Le_1                                           geometry  \n",
       "220  133827.265139  POLYGON ((-70.83450815402658 -32.9276435402422...  \n",
       "312   15151.816703  POLYGON ((-70.57681955294478 -33.4702656930307...  \n",
       "313   61429.469836  POLYGON ((-70.76505155386489 -33.4592583707145...  \n",
       "184   13986.827395  POLYGON ((-70.62341581773579 -33.4733797392914...  \n",
       "311   51374.349007  POLYGON ((-70.53235176218874 -33.3821684107016...  "
      ]
     },
     "execution_count": 67,
     "metadata": {},
     "output_type": "execute_result"
    }
   ],
   "source": [
    "rm_lat_lon.sample(5)"
   ]
  },
  {
   "cell_type": "markdown",
   "metadata": {},
   "source": [
    "Ahora digamos que la Región Metropolitana quizás es demasiado grande para lo que queremos. Por ejemplo, podríamos estar interesados en una comuna particular. Veamos el caso de Santiago Centro."
   ]
  },
  {
   "cell_type": "code",
   "execution_count": 70,
   "metadata": {
    "collapsed": false
   },
   "outputs": [
    {
     "data": {
      "text/html": [
       "<div>\n",
       "<style>\n",
       "    .dataframe thead tr:only-child th {\n",
       "        text-align: right;\n",
       "    }\n",
       "\n",
       "    .dataframe thead th {\n",
       "        text-align: left;\n",
       "    }\n",
       "\n",
       "    .dataframe tbody tr th {\n",
       "        vertical-align: top;\n",
       "    }\n",
       "</style>\n",
       "<table border=\"1\" class=\"dataframe\">\n",
       "  <thead>\n",
       "    <tr style=\"text-align: right;\">\n",
       "      <th></th>\n",
       "      <th>CIR_SENA</th>\n",
       "      <th>COD_COMUNA</th>\n",
       "      <th>DIS_ELEC</th>\n",
       "      <th>NOM_COM</th>\n",
       "      <th>NOM_PROV</th>\n",
       "      <th>NOM_REG</th>\n",
       "      <th>SHAPE_Area</th>\n",
       "      <th>SHAPE_LENG</th>\n",
       "      <th>SHAPE_Le_1</th>\n",
       "      <th>geometry</th>\n",
       "    </tr>\n",
       "  </thead>\n",
       "  <tbody>\n",
       "    <tr>\n",
       "      <th>305</th>\n",
       "      <td>7</td>\n",
       "      <td>1310</td>\n",
       "      <td>22</td>\n",
       "      <td>Santiago</td>\n",
       "      <td>Santiago</td>\n",
       "      <td>Región Metropolitana de Santiago</td>\n",
       "      <td>2.276999e+07</td>\n",
       "      <td>24644.018619</td>\n",
       "      <td>22142.660056</td>\n",
       "      <td>POLYGON ((-70.67158854755513 -33.4763598849684...</td>\n",
       "    </tr>\n",
       "  </tbody>\n",
       "</table>\n",
       "</div>"
      ],
      "text/plain": [
       "     CIR_SENA  COD_COMUNA  DIS_ELEC   NOM_COM  NOM_PROV  \\\n",
       "305         7        1310        22  Santiago  Santiago   \n",
       "\n",
       "                              NOM_REG    SHAPE_Area    SHAPE_LENG  \\\n",
       "305  Región Metropolitana de Santiago  2.276999e+07  24644.018619   \n",
       "\n",
       "       SHAPE_Le_1                                           geometry  \n",
       "305  22142.660056  POLYGON ((-70.67158854755513 -33.4763598849684...  "
      ]
     },
     "execution_count": 70,
     "metadata": {},
     "output_type": "execute_result"
    }
   ],
   "source": [
    "stgo_centro = rm_lat_lon[rm_lat_lon['NOM_COM'] == 'Santiago']\n",
    "stgo_centro"
   ]
  },
  {
   "cell_type": "markdown",
   "metadata": {},
   "source": [
    "¿Cómo podemos obtener los POIs que están dentro de esta comuna?\n",
    "\n",
    "La respuesta es: a través de la operación que GeoPandas define como [Spatial Join](https://pro.arcgis.com/en/pro-app/tool-reference/big-data-analytics/spatial-relationships-with-big-data.htm). Existen distintos tipos de _joins_ de acuerdo a las geometrías que usamos. Punto con Punto, Polígono con Polígono, Punto con Polígono, y distintas _operaciones_, como intersección, contenimiento, cercanía, etc.\n",
    "\n",
    "Usemos la operación más básica, que consiste en obtener todos los POIs que están dentro del o los polígonos que nos interesan. Afortunadamente GeoPandas nos permite realizar esta operación de manera sencilla."
   ]
  },
  {
   "cell_type": "code",
   "execution_count": 99,
   "metadata": {
    "collapsed": false
   },
   "outputs": [
    {
     "ename": "KeyError",
     "evalue": "'geometry'",
     "output_type": "error",
     "traceback": [
      "\u001b[0;31m---------------------------------------------------------------------------\u001b[0m",
      "\u001b[0;31mKeyError\u001b[0m                                  Traceback (most recent call last)",
      "\u001b[0;32m~/.virtualenvs/jupyter/lib/python3.5/site-packages/pandas/core/indexes/base.py\u001b[0m in \u001b[0;36mget_loc\u001b[0;34m(self, key, method, tolerance)\u001b[0m\n\u001b[1;32m   2441\u001b[0m             \u001b[0;32mtry\u001b[0m\u001b[0;34m:\u001b[0m\u001b[0;34m\u001b[0m\u001b[0m\n\u001b[0;32m-> 2442\u001b[0;31m                 \u001b[0;32mreturn\u001b[0m \u001b[0mself\u001b[0m\u001b[0;34m.\u001b[0m\u001b[0m_engine\u001b[0m\u001b[0;34m.\u001b[0m\u001b[0mget_loc\u001b[0m\u001b[0;34m(\u001b[0m\u001b[0mkey\u001b[0m\u001b[0;34m)\u001b[0m\u001b[0;34m\u001b[0m\u001b[0m\n\u001b[0m\u001b[1;32m   2443\u001b[0m             \u001b[0;32mexcept\u001b[0m \u001b[0mKeyError\u001b[0m\u001b[0;34m:\u001b[0m\u001b[0;34m\u001b[0m\u001b[0m\n",
      "\u001b[0;32mpandas/_libs/index.pyx\u001b[0m in \u001b[0;36mpandas._libs.index.IndexEngine.get_loc (pandas/_libs/index.c:5280)\u001b[0;34m()\u001b[0m\n",
      "\u001b[0;32mpandas/_libs/index.pyx\u001b[0m in \u001b[0;36mpandas._libs.index.IndexEngine.get_loc (pandas/_libs/index.c:5126)\u001b[0;34m()\u001b[0m\n",
      "\u001b[0;32mpandas/_libs/hashtable_class_helper.pxi\u001b[0m in \u001b[0;36mpandas._libs.hashtable.PyObjectHashTable.get_item (pandas/_libs/hashtable.c:20523)\u001b[0;34m()\u001b[0m\n",
      "\u001b[0;32mpandas/_libs/hashtable_class_helper.pxi\u001b[0m in \u001b[0;36mpandas._libs.hashtable.PyObjectHashTable.get_item (pandas/_libs/hashtable.c:20477)\u001b[0;34m()\u001b[0m\n",
      "\u001b[0;31mKeyError\u001b[0m: 'geometry'",
      "\nDuring handling of the above exception, another exception occurred:\n",
      "\u001b[0;31mKeyError\u001b[0m                                  Traceback (most recent call last)",
      "\u001b[0;32m<ipython-input-99-08abd245b0da>\u001b[0m in \u001b[0;36m<module>\u001b[0;34m()\u001b[0m\n\u001b[0;32m----> 1\u001b[0;31m \u001b[0mstgo_centro_pois\u001b[0m \u001b[0;34m=\u001b[0m \u001b[0mgpd\u001b[0m\u001b[0;34m.\u001b[0m\u001b[0msjoin\u001b[0m\u001b[0;34m(\u001b[0m\u001b[0mdataframe_pois\u001b[0m\u001b[0;34m,\u001b[0m \u001b[0mstgo_centro\u001b[0m\u001b[0;34m,\u001b[0m \u001b[0mop\u001b[0m\u001b[0;34m=\u001b[0m\u001b[0;34m'within'\u001b[0m\u001b[0;34m)\u001b[0m\u001b[0;34m\u001b[0m\u001b[0m\n\u001b[0m\u001b[1;32m      2\u001b[0m \u001b[0mstgo_centro_pois\u001b[0m\u001b[0;34m.\u001b[0m\u001b[0msample\u001b[0m\u001b[0;34m(\u001b[0m\u001b[0;36m10\u001b[0m\u001b[0;34m)\u001b[0m\u001b[0;34m\u001b[0m\u001b[0m\n",
      "\u001b[0;32m~/.virtualenvs/jupyter/lib/python3.5/site-packages/geopandas/tools/sjoin.py\u001b[0m in \u001b[0;36msjoin\u001b[0;34m(left_df, right_df, how, op, lsuffix, rsuffix)\u001b[0m\n\u001b[1;32m     47\u001b[0m \u001b[0;34m\u001b[0m\u001b[0m\n\u001b[1;32m     48\u001b[0m     \u001b[0mtree_idx\u001b[0m \u001b[0;34m=\u001b[0m \u001b[0mrtree\u001b[0m\u001b[0;34m.\u001b[0m\u001b[0mindex\u001b[0m\u001b[0;34m.\u001b[0m\u001b[0mIndex\u001b[0m\u001b[0;34m(\u001b[0m\u001b[0;34m)\u001b[0m\u001b[0;34m\u001b[0m\u001b[0m\n\u001b[0;32m---> 49\u001b[0;31m     \u001b[0mright_df_bounds\u001b[0m \u001b[0;34m=\u001b[0m \u001b[0mright_df\u001b[0m\u001b[0;34m[\u001b[0m\u001b[0;34m'geometry'\u001b[0m\u001b[0;34m]\u001b[0m\u001b[0;34m.\u001b[0m\u001b[0mapply\u001b[0m\u001b[0;34m(\u001b[0m\u001b[0;32mlambda\u001b[0m \u001b[0mx\u001b[0m\u001b[0;34m:\u001b[0m \u001b[0mx\u001b[0m\u001b[0;34m.\u001b[0m\u001b[0mbounds\u001b[0m\u001b[0;34m)\u001b[0m\u001b[0;34m\u001b[0m\u001b[0m\n\u001b[0m\u001b[1;32m     50\u001b[0m     \u001b[0;32mfor\u001b[0m \u001b[0mi\u001b[0m \u001b[0;32min\u001b[0m \u001b[0mright_df_bounds\u001b[0m\u001b[0;34m.\u001b[0m\u001b[0mindex\u001b[0m\u001b[0;34m:\u001b[0m\u001b[0;34m\u001b[0m\u001b[0m\n\u001b[1;32m     51\u001b[0m         \u001b[0mtree_idx\u001b[0m\u001b[0;34m.\u001b[0m\u001b[0minsert\u001b[0m\u001b[0;34m(\u001b[0m\u001b[0mi\u001b[0m\u001b[0;34m,\u001b[0m \u001b[0mright_df_bounds\u001b[0m\u001b[0;34m[\u001b[0m\u001b[0mi\u001b[0m\u001b[0;34m]\u001b[0m\u001b[0;34m)\u001b[0m\u001b[0;34m\u001b[0m\u001b[0m\n",
      "\u001b[0;32m~/.virtualenvs/jupyter/lib/python3.5/site-packages/geopandas/geodataframe.py\u001b[0m in \u001b[0;36m__getitem__\u001b[0;34m(self, key)\u001b[0m\n\u001b[1;32m    374\u001b[0m         \u001b[0mGeoDataFrame\u001b[0m\u001b[0;34m.\u001b[0m\u001b[0;34m\u001b[0m\u001b[0m\n\u001b[1;32m    375\u001b[0m         \"\"\"\n\u001b[0;32m--> 376\u001b[0;31m         \u001b[0mresult\u001b[0m \u001b[0;34m=\u001b[0m \u001b[0msuper\u001b[0m\u001b[0;34m(\u001b[0m\u001b[0mGeoDataFrame\u001b[0m\u001b[0;34m,\u001b[0m \u001b[0mself\u001b[0m\u001b[0;34m)\u001b[0m\u001b[0;34m.\u001b[0m\u001b[0m__getitem__\u001b[0m\u001b[0;34m(\u001b[0m\u001b[0mkey\u001b[0m\u001b[0;34m)\u001b[0m\u001b[0;34m\u001b[0m\u001b[0m\n\u001b[0m\u001b[1;32m    377\u001b[0m         \u001b[0mgeo_col\u001b[0m \u001b[0;34m=\u001b[0m \u001b[0mself\u001b[0m\u001b[0;34m.\u001b[0m\u001b[0m_geometry_column_name\u001b[0m\u001b[0;34m\u001b[0m\u001b[0m\n\u001b[1;32m    378\u001b[0m         \u001b[0;32mif\u001b[0m \u001b[0misinstance\u001b[0m\u001b[0;34m(\u001b[0m\u001b[0mkey\u001b[0m\u001b[0;34m,\u001b[0m \u001b[0mstring_types\u001b[0m\u001b[0;34m)\u001b[0m \u001b[0;32mand\u001b[0m \u001b[0mkey\u001b[0m \u001b[0;34m==\u001b[0m \u001b[0mgeo_col\u001b[0m\u001b[0;34m:\u001b[0m\u001b[0;34m\u001b[0m\u001b[0m\n",
      "\u001b[0;32m~/.virtualenvs/jupyter/lib/python3.5/site-packages/pandas/core/frame.py\u001b[0m in \u001b[0;36m__getitem__\u001b[0;34m(self, key)\u001b[0m\n\u001b[1;32m   1962\u001b[0m             \u001b[0;32mreturn\u001b[0m \u001b[0mself\u001b[0m\u001b[0;34m.\u001b[0m\u001b[0m_getitem_multilevel\u001b[0m\u001b[0;34m(\u001b[0m\u001b[0mkey\u001b[0m\u001b[0;34m)\u001b[0m\u001b[0;34m\u001b[0m\u001b[0m\n\u001b[1;32m   1963\u001b[0m         \u001b[0;32melse\u001b[0m\u001b[0;34m:\u001b[0m\u001b[0;34m\u001b[0m\u001b[0m\n\u001b[0;32m-> 1964\u001b[0;31m             \u001b[0;32mreturn\u001b[0m \u001b[0mself\u001b[0m\u001b[0;34m.\u001b[0m\u001b[0m_getitem_column\u001b[0m\u001b[0;34m(\u001b[0m\u001b[0mkey\u001b[0m\u001b[0;34m)\u001b[0m\u001b[0;34m\u001b[0m\u001b[0m\n\u001b[0m\u001b[1;32m   1965\u001b[0m \u001b[0;34m\u001b[0m\u001b[0m\n\u001b[1;32m   1966\u001b[0m     \u001b[0;32mdef\u001b[0m \u001b[0m_getitem_column\u001b[0m\u001b[0;34m(\u001b[0m\u001b[0mself\u001b[0m\u001b[0;34m,\u001b[0m \u001b[0mkey\u001b[0m\u001b[0;34m)\u001b[0m\u001b[0;34m:\u001b[0m\u001b[0;34m\u001b[0m\u001b[0m\n",
      "\u001b[0;32m~/.virtualenvs/jupyter/lib/python3.5/site-packages/pandas/core/frame.py\u001b[0m in \u001b[0;36m_getitem_column\u001b[0;34m(self, key)\u001b[0m\n\u001b[1;32m   1969\u001b[0m         \u001b[0;31m# get column\u001b[0m\u001b[0;34m\u001b[0m\u001b[0;34m\u001b[0m\u001b[0m\n\u001b[1;32m   1970\u001b[0m         \u001b[0;32mif\u001b[0m \u001b[0mself\u001b[0m\u001b[0;34m.\u001b[0m\u001b[0mcolumns\u001b[0m\u001b[0;34m.\u001b[0m\u001b[0mis_unique\u001b[0m\u001b[0;34m:\u001b[0m\u001b[0;34m\u001b[0m\u001b[0m\n\u001b[0;32m-> 1971\u001b[0;31m             \u001b[0;32mreturn\u001b[0m \u001b[0mself\u001b[0m\u001b[0;34m.\u001b[0m\u001b[0m_get_item_cache\u001b[0m\u001b[0;34m(\u001b[0m\u001b[0mkey\u001b[0m\u001b[0;34m)\u001b[0m\u001b[0;34m\u001b[0m\u001b[0m\n\u001b[0m\u001b[1;32m   1972\u001b[0m \u001b[0;34m\u001b[0m\u001b[0m\n\u001b[1;32m   1973\u001b[0m         \u001b[0;31m# duplicate columns & possible reduce dimensionality\u001b[0m\u001b[0;34m\u001b[0m\u001b[0;34m\u001b[0m\u001b[0m\n",
      "\u001b[0;32m~/.virtualenvs/jupyter/lib/python3.5/site-packages/pandas/core/generic.py\u001b[0m in \u001b[0;36m_get_item_cache\u001b[0;34m(self, item)\u001b[0m\n\u001b[1;32m   1643\u001b[0m         \u001b[0mres\u001b[0m \u001b[0;34m=\u001b[0m \u001b[0mcache\u001b[0m\u001b[0;34m.\u001b[0m\u001b[0mget\u001b[0m\u001b[0;34m(\u001b[0m\u001b[0mitem\u001b[0m\u001b[0;34m)\u001b[0m\u001b[0;34m\u001b[0m\u001b[0m\n\u001b[1;32m   1644\u001b[0m         \u001b[0;32mif\u001b[0m \u001b[0mres\u001b[0m \u001b[0;32mis\u001b[0m \u001b[0;32mNone\u001b[0m\u001b[0;34m:\u001b[0m\u001b[0;34m\u001b[0m\u001b[0m\n\u001b[0;32m-> 1645\u001b[0;31m             \u001b[0mvalues\u001b[0m \u001b[0;34m=\u001b[0m \u001b[0mself\u001b[0m\u001b[0;34m.\u001b[0m\u001b[0m_data\u001b[0m\u001b[0;34m.\u001b[0m\u001b[0mget\u001b[0m\u001b[0;34m(\u001b[0m\u001b[0mitem\u001b[0m\u001b[0;34m)\u001b[0m\u001b[0;34m\u001b[0m\u001b[0m\n\u001b[0m\u001b[1;32m   1646\u001b[0m             \u001b[0mres\u001b[0m \u001b[0;34m=\u001b[0m \u001b[0mself\u001b[0m\u001b[0;34m.\u001b[0m\u001b[0m_box_item_values\u001b[0m\u001b[0;34m(\u001b[0m\u001b[0mitem\u001b[0m\u001b[0;34m,\u001b[0m \u001b[0mvalues\u001b[0m\u001b[0;34m)\u001b[0m\u001b[0;34m\u001b[0m\u001b[0m\n\u001b[1;32m   1647\u001b[0m             \u001b[0mcache\u001b[0m\u001b[0;34m[\u001b[0m\u001b[0mitem\u001b[0m\u001b[0;34m]\u001b[0m \u001b[0;34m=\u001b[0m \u001b[0mres\u001b[0m\u001b[0;34m\u001b[0m\u001b[0m\n",
      "\u001b[0;32m~/.virtualenvs/jupyter/lib/python3.5/site-packages/pandas/core/internals.py\u001b[0m in \u001b[0;36mget\u001b[0;34m(self, item, fastpath)\u001b[0m\n\u001b[1;32m   3588\u001b[0m \u001b[0;34m\u001b[0m\u001b[0m\n\u001b[1;32m   3589\u001b[0m             \u001b[0;32mif\u001b[0m \u001b[0;32mnot\u001b[0m \u001b[0misnull\u001b[0m\u001b[0;34m(\u001b[0m\u001b[0mitem\u001b[0m\u001b[0;34m)\u001b[0m\u001b[0;34m:\u001b[0m\u001b[0;34m\u001b[0m\u001b[0m\n\u001b[0;32m-> 3590\u001b[0;31m                 \u001b[0mloc\u001b[0m \u001b[0;34m=\u001b[0m \u001b[0mself\u001b[0m\u001b[0;34m.\u001b[0m\u001b[0mitems\u001b[0m\u001b[0;34m.\u001b[0m\u001b[0mget_loc\u001b[0m\u001b[0;34m(\u001b[0m\u001b[0mitem\u001b[0m\u001b[0;34m)\u001b[0m\u001b[0;34m\u001b[0m\u001b[0m\n\u001b[0m\u001b[1;32m   3591\u001b[0m             \u001b[0;32melse\u001b[0m\u001b[0;34m:\u001b[0m\u001b[0;34m\u001b[0m\u001b[0m\n\u001b[1;32m   3592\u001b[0m                 \u001b[0mindexer\u001b[0m \u001b[0;34m=\u001b[0m \u001b[0mnp\u001b[0m\u001b[0;34m.\u001b[0m\u001b[0marange\u001b[0m\u001b[0;34m(\u001b[0m\u001b[0mlen\u001b[0m\u001b[0;34m(\u001b[0m\u001b[0mself\u001b[0m\u001b[0;34m.\u001b[0m\u001b[0mitems\u001b[0m\u001b[0;34m)\u001b[0m\u001b[0;34m)\u001b[0m\u001b[0;34m[\u001b[0m\u001b[0misnull\u001b[0m\u001b[0;34m(\u001b[0m\u001b[0mself\u001b[0m\u001b[0;34m.\u001b[0m\u001b[0mitems\u001b[0m\u001b[0;34m)\u001b[0m\u001b[0;34m]\u001b[0m\u001b[0;34m\u001b[0m\u001b[0m\n",
      "\u001b[0;32m~/.virtualenvs/jupyter/lib/python3.5/site-packages/pandas/core/indexes/base.py\u001b[0m in \u001b[0;36mget_loc\u001b[0;34m(self, key, method, tolerance)\u001b[0m\n\u001b[1;32m   2442\u001b[0m                 \u001b[0;32mreturn\u001b[0m \u001b[0mself\u001b[0m\u001b[0;34m.\u001b[0m\u001b[0m_engine\u001b[0m\u001b[0;34m.\u001b[0m\u001b[0mget_loc\u001b[0m\u001b[0;34m(\u001b[0m\u001b[0mkey\u001b[0m\u001b[0;34m)\u001b[0m\u001b[0;34m\u001b[0m\u001b[0m\n\u001b[1;32m   2443\u001b[0m             \u001b[0;32mexcept\u001b[0m \u001b[0mKeyError\u001b[0m\u001b[0;34m:\u001b[0m\u001b[0;34m\u001b[0m\u001b[0m\n\u001b[0;32m-> 2444\u001b[0;31m                 \u001b[0;32mreturn\u001b[0m \u001b[0mself\u001b[0m\u001b[0;34m.\u001b[0m\u001b[0m_engine\u001b[0m\u001b[0;34m.\u001b[0m\u001b[0mget_loc\u001b[0m\u001b[0;34m(\u001b[0m\u001b[0mself\u001b[0m\u001b[0;34m.\u001b[0m\u001b[0m_maybe_cast_indexer\u001b[0m\u001b[0;34m(\u001b[0m\u001b[0mkey\u001b[0m\u001b[0;34m)\u001b[0m\u001b[0;34m)\u001b[0m\u001b[0;34m\u001b[0m\u001b[0m\n\u001b[0m\u001b[1;32m   2445\u001b[0m \u001b[0;34m\u001b[0m\u001b[0m\n\u001b[1;32m   2446\u001b[0m         \u001b[0mindexer\u001b[0m \u001b[0;34m=\u001b[0m \u001b[0mself\u001b[0m\u001b[0;34m.\u001b[0m\u001b[0mget_indexer\u001b[0m\u001b[0;34m(\u001b[0m\u001b[0;34m[\u001b[0m\u001b[0mkey\u001b[0m\u001b[0;34m]\u001b[0m\u001b[0;34m,\u001b[0m \u001b[0mmethod\u001b[0m\u001b[0;34m=\u001b[0m\u001b[0mmethod\u001b[0m\u001b[0;34m,\u001b[0m \u001b[0mtolerance\u001b[0m\u001b[0;34m=\u001b[0m\u001b[0mtolerance\u001b[0m\u001b[0;34m)\u001b[0m\u001b[0;34m\u001b[0m\u001b[0m\n",
      "\u001b[0;32mpandas/_libs/index.pyx\u001b[0m in \u001b[0;36mpandas._libs.index.IndexEngine.get_loc (pandas/_libs/index.c:5280)\u001b[0;34m()\u001b[0m\n",
      "\u001b[0;32mpandas/_libs/index.pyx\u001b[0m in \u001b[0;36mpandas._libs.index.IndexEngine.get_loc (pandas/_libs/index.c:5126)\u001b[0;34m()\u001b[0m\n",
      "\u001b[0;32mpandas/_libs/hashtable_class_helper.pxi\u001b[0m in \u001b[0;36mpandas._libs.hashtable.PyObjectHashTable.get_item (pandas/_libs/hashtable.c:20523)\u001b[0;34m()\u001b[0m\n",
      "\u001b[0;32mpandas/_libs/hashtable_class_helper.pxi\u001b[0m in \u001b[0;36mpandas._libs.hashtable.PyObjectHashTable.get_item (pandas/_libs/hashtable.c:20477)\u001b[0;34m()\u001b[0m\n",
      "\u001b[0;31mKeyError\u001b[0m: 'geometry'"
     ]
    }
   ],
   "source": [
    "stgo_centro_pois = gpd.sjoin(dataframe_pois, stgo_centro, op='within')\n",
    "stgo_centro_pois.sample(10)"
   ]
  },
  {
   "cell_type": "markdown",
   "metadata": {},
   "source": [
    "Obtuvimos una excepción del tipo KeyError. Dice que la columna ```geometry``` no está en el GeoDataFrame de POIs. Es verdad: habíamos nombrado esa columna como ```coordinates```. Lamentablemente para GeoPandas es necesario llamar ```geometry``` a la columna espacial. Aún así, tenemos suerte: es muy fácil corregir este problema:"
   ]
  },
  {
   "cell_type": "code",
   "execution_count": 100,
   "metadata": {
    "collapsed": true
   },
   "outputs": [],
   "source": [
    "dataframe_pois.rename(columns={'position': 'geometry'}, inplace=True)"
   ]
  },
  {
   "cell_type": "code",
   "execution_count": 101,
   "metadata": {
    "collapsed": false
   },
   "outputs": [
    {
     "data": {
      "text/html": [
       "<div>\n",
       "<style>\n",
       "    .dataframe thead tr:only-child th {\n",
       "        text-align: right;\n",
       "    }\n",
       "\n",
       "    .dataframe thead th {\n",
       "        text-align: left;\n",
       "    }\n",
       "\n",
       "    .dataframe tbody tr th {\n",
       "        vertical-align: top;\n",
       "    }\n",
       "</style>\n",
       "<table border=\"1\" class=\"dataframe\">\n",
       "  <thead>\n",
       "    <tr style=\"text-align: right;\">\n",
       "      <th></th>\n",
       "      <th>id</th>\n",
       "      <th>key</th>\n",
       "      <th>name</th>\n",
       "      <th>geometry</th>\n",
       "      <th>value</th>\n",
       "      <th>index_right</th>\n",
       "      <th>CIR_SENA</th>\n",
       "      <th>COD_COMUNA</th>\n",
       "      <th>DIS_ELEC</th>\n",
       "      <th>NOM_COM</th>\n",
       "      <th>NOM_PROV</th>\n",
       "      <th>NOM_REG</th>\n",
       "      <th>SHAPE_Area</th>\n",
       "      <th>SHAPE_LENG</th>\n",
       "      <th>SHAPE_Le_1</th>\n",
       "    </tr>\n",
       "  </thead>\n",
       "  <tbody>\n",
       "    <tr>\n",
       "      <th>51486</th>\n",
       "      <td>4458492281</td>\n",
       "      <td>amenity</td>\n",
       "      <td>Minimas</td>\n",
       "      <td>POINT (-70.67380090000005 -33.45868230000004)</td>\n",
       "      <td>nightclub</td>\n",
       "      <td>305</td>\n",
       "      <td>7</td>\n",
       "      <td>1310</td>\n",
       "      <td>22</td>\n",
       "      <td>Santiago</td>\n",
       "      <td>Santiago</td>\n",
       "      <td>Región Metropolitana de Santiago</td>\n",
       "      <td>2.276999e+07</td>\n",
       "      <td>24644.018619</td>\n",
       "      <td>22142.660056</td>\n",
       "    </tr>\n",
       "    <tr>\n",
       "      <th>51371</th>\n",
       "      <td>4455705039</td>\n",
       "      <td>shop</td>\n",
       "      <td>EQQUS</td>\n",
       "      <td>POINT (-70.67582520000026 -33.45416759999969)</td>\n",
       "      <td>yes</td>\n",
       "      <td>305</td>\n",
       "      <td>7</td>\n",
       "      <td>1310</td>\n",
       "      <td>22</td>\n",
       "      <td>Santiago</td>\n",
       "      <td>Santiago</td>\n",
       "      <td>Región Metropolitana de Santiago</td>\n",
       "      <td>2.276999e+07</td>\n",
       "      <td>24644.018619</td>\n",
       "      <td>22142.660056</td>\n",
       "    </tr>\n",
       "    <tr>\n",
       "      <th>58222</th>\n",
       "      <td>4557987389</td>\n",
       "      <td>tourism</td>\n",
       "      <td>Asilo de ancianos \"Nuevo amanecer\"</td>\n",
       "      <td>POINT (-70.66165139999936 -33.47172210000001)</td>\n",
       "      <td>guest_house</td>\n",
       "      <td>305</td>\n",
       "      <td>7</td>\n",
       "      <td>1310</td>\n",
       "      <td>22</td>\n",
       "      <td>Santiago</td>\n",
       "      <td>Santiago</td>\n",
       "      <td>Región Metropolitana de Santiago</td>\n",
       "      <td>2.276999e+07</td>\n",
       "      <td>24644.018619</td>\n",
       "      <td>22142.660056</td>\n",
       "    </tr>\n",
       "    <tr>\n",
       "      <th>53649</th>\n",
       "      <td>4463479630</td>\n",
       "      <td>shop</td>\n",
       "      <td>D yG Importaciones</td>\n",
       "      <td>POINT (-70.67617969999989 -33.45534830000028)</td>\n",
       "      <td>yes</td>\n",
       "      <td>305</td>\n",
       "      <td>7</td>\n",
       "      <td>1310</td>\n",
       "      <td>22</td>\n",
       "      <td>Santiago</td>\n",
       "      <td>Santiago</td>\n",
       "      <td>Región Metropolitana de Santiago</td>\n",
       "      <td>2.276999e+07</td>\n",
       "      <td>24644.018619</td>\n",
       "      <td>22142.660056</td>\n",
       "    </tr>\n",
       "    <tr>\n",
       "      <th>49614</th>\n",
       "      <td>4443287190</td>\n",
       "      <td>shop</td>\n",
       "      <td>Erbi</td>\n",
       "      <td>POINT (-70.63523339999999 -33.44794739999993)</td>\n",
       "      <td>convenience</td>\n",
       "      <td>305</td>\n",
       "      <td>7</td>\n",
       "      <td>1310</td>\n",
       "      <td>22</td>\n",
       "      <td>Santiago</td>\n",
       "      <td>Santiago</td>\n",
       "      <td>Región Metropolitana de Santiago</td>\n",
       "      <td>2.276999e+07</td>\n",
       "      <td>24644.018619</td>\n",
       "      <td>22142.660056</td>\n",
       "    </tr>\n",
       "    <tr>\n",
       "      <th>53903</th>\n",
       "      <td>4464140392</td>\n",
       "      <td>shop</td>\n",
       "      <td>Hyunkia</td>\n",
       "      <td>POINT (-70.64282719999952 -33.45315650000033)</td>\n",
       "      <td>car_parts</td>\n",
       "      <td>305</td>\n",
       "      <td>7</td>\n",
       "      <td>1310</td>\n",
       "      <td>22</td>\n",
       "      <td>Santiago</td>\n",
       "      <td>Santiago</td>\n",
       "      <td>Región Metropolitana de Santiago</td>\n",
       "      <td>2.276999e+07</td>\n",
       "      <td>24644.018619</td>\n",
       "      <td>22142.660056</td>\n",
       "    </tr>\n",
       "    <tr>\n",
       "      <th>49990</th>\n",
       "      <td>4455249392</td>\n",
       "      <td>shop</td>\n",
       "      <td>Gmo</td>\n",
       "      <td>POINT (-70.64905859999958 -33.4416453000006)</td>\n",
       "      <td>yes</td>\n",
       "      <td>305</td>\n",
       "      <td>7</td>\n",
       "      <td>1310</td>\n",
       "      <td>22</td>\n",
       "      <td>Santiago</td>\n",
       "      <td>Santiago</td>\n",
       "      <td>Región Metropolitana de Santiago</td>\n",
       "      <td>2.276999e+07</td>\n",
       "      <td>24644.018619</td>\n",
       "      <td>22142.660056</td>\n",
       "    </tr>\n",
       "    <tr>\n",
       "      <th>46297</th>\n",
       "      <td>4396815173</td>\n",
       "      <td>shop</td>\n",
       "      <td>Almacen</td>\n",
       "      <td>POINT (-70.66274769999971 -33.45590079999959)</td>\n",
       "      <td>convenience</td>\n",
       "      <td>305</td>\n",
       "      <td>7</td>\n",
       "      <td>1310</td>\n",
       "      <td>22</td>\n",
       "      <td>Santiago</td>\n",
       "      <td>Santiago</td>\n",
       "      <td>Región Metropolitana de Santiago</td>\n",
       "      <td>2.276999e+07</td>\n",
       "      <td>24644.018619</td>\n",
       "      <td>22142.660056</td>\n",
       "    </tr>\n",
       "    <tr>\n",
       "      <th>55346</th>\n",
       "      <td>4473056254</td>\n",
       "      <td>shop</td>\n",
       "      <td>Milagro</td>\n",
       "      <td>POINT (-70.67518110000013 -33.45249399999997)</td>\n",
       "      <td>yes</td>\n",
       "      <td>305</td>\n",
       "      <td>7</td>\n",
       "      <td>1310</td>\n",
       "      <td>22</td>\n",
       "      <td>Santiago</td>\n",
       "      <td>Santiago</td>\n",
       "      <td>Región Metropolitana de Santiago</td>\n",
       "      <td>2.276999e+07</td>\n",
       "      <td>24644.018619</td>\n",
       "      <td>22142.660056</td>\n",
       "    </tr>\n",
       "    <tr>\n",
       "      <th>52007</th>\n",
       "      <td>4466585935</td>\n",
       "      <td>amenity</td>\n",
       "      <td>Fuente de Soda La Curicana</td>\n",
       "      <td>POINT (-70.64742379999871 -33.44547849999999)</td>\n",
       "      <td>cafe</td>\n",
       "      <td>305</td>\n",
       "      <td>7</td>\n",
       "      <td>1310</td>\n",
       "      <td>22</td>\n",
       "      <td>Santiago</td>\n",
       "      <td>Santiago</td>\n",
       "      <td>Región Metropolitana de Santiago</td>\n",
       "      <td>2.276999e+07</td>\n",
       "      <td>24644.018619</td>\n",
       "      <td>22142.660056</td>\n",
       "    </tr>\n",
       "  </tbody>\n",
       "</table>\n",
       "</div>"
      ],
      "text/plain": [
       "               id      key                                name  \\\n",
       "51486  4458492281  amenity                             Minimas   \n",
       "51371  4455705039     shop                               EQQUS   \n",
       "58222  4557987389  tourism  Asilo de ancianos \"Nuevo amanecer\"   \n",
       "53649  4463479630     shop                  D yG Importaciones   \n",
       "49614  4443287190     shop                                Erbi   \n",
       "53903  4464140392     shop                             Hyunkia   \n",
       "49990  4455249392     shop                                 Gmo   \n",
       "46297  4396815173     shop                             Almacen   \n",
       "55346  4473056254     shop                             Milagro   \n",
       "52007  4466585935  amenity          Fuente de Soda La Curicana   \n",
       "\n",
       "                                            geometry        value  \\\n",
       "51486  POINT (-70.67380090000005 -33.45868230000004)    nightclub   \n",
       "51371  POINT (-70.67582520000026 -33.45416759999969)          yes   \n",
       "58222  POINT (-70.66165139999936 -33.47172210000001)  guest_house   \n",
       "53649  POINT (-70.67617969999989 -33.45534830000028)          yes   \n",
       "49614  POINT (-70.63523339999999 -33.44794739999993)  convenience   \n",
       "53903  POINT (-70.64282719999952 -33.45315650000033)    car_parts   \n",
       "49990   POINT (-70.64905859999958 -33.4416453000006)          yes   \n",
       "46297  POINT (-70.66274769999971 -33.45590079999959)  convenience   \n",
       "55346  POINT (-70.67518110000013 -33.45249399999997)          yes   \n",
       "52007  POINT (-70.64742379999871 -33.44547849999999)         cafe   \n",
       "\n",
       "       index_right  CIR_SENA  COD_COMUNA  DIS_ELEC   NOM_COM  NOM_PROV  \\\n",
       "51486          305         7        1310        22  Santiago  Santiago   \n",
       "51371          305         7        1310        22  Santiago  Santiago   \n",
       "58222          305         7        1310        22  Santiago  Santiago   \n",
       "53649          305         7        1310        22  Santiago  Santiago   \n",
       "49614          305         7        1310        22  Santiago  Santiago   \n",
       "53903          305         7        1310        22  Santiago  Santiago   \n",
       "49990          305         7        1310        22  Santiago  Santiago   \n",
       "46297          305         7        1310        22  Santiago  Santiago   \n",
       "55346          305         7        1310        22  Santiago  Santiago   \n",
       "52007          305         7        1310        22  Santiago  Santiago   \n",
       "\n",
       "                                NOM_REG    SHAPE_Area    SHAPE_LENG  \\\n",
       "51486  Región Metropolitana de Santiago  2.276999e+07  24644.018619   \n",
       "51371  Región Metropolitana de Santiago  2.276999e+07  24644.018619   \n",
       "58222  Región Metropolitana de Santiago  2.276999e+07  24644.018619   \n",
       "53649  Región Metropolitana de Santiago  2.276999e+07  24644.018619   \n",
       "49614  Región Metropolitana de Santiago  2.276999e+07  24644.018619   \n",
       "53903  Región Metropolitana de Santiago  2.276999e+07  24644.018619   \n",
       "49990  Región Metropolitana de Santiago  2.276999e+07  24644.018619   \n",
       "46297  Región Metropolitana de Santiago  2.276999e+07  24644.018619   \n",
       "55346  Región Metropolitana de Santiago  2.276999e+07  24644.018619   \n",
       "52007  Región Metropolitana de Santiago  2.276999e+07  24644.018619   \n",
       "\n",
       "         SHAPE_Le_1  \n",
       "51486  22142.660056  \n",
       "51371  22142.660056  \n",
       "58222  22142.660056  \n",
       "53649  22142.660056  \n",
       "49614  22142.660056  \n",
       "53903  22142.660056  \n",
       "49990  22142.660056  \n",
       "46297  22142.660056  \n",
       "55346  22142.660056  \n",
       "52007  22142.660056  "
      ]
     },
     "execution_count": 101,
     "metadata": {},
     "output_type": "execute_result"
    }
   ],
   "source": [
    "stgo_centro_pois = gpd.GeoDataFrame(gpd.sjoin(dataframe_pois, stgo_centro, op='within'))\n",
    "stgo_centro_pois.sample(10)"
   ]
  },
  {
   "cell_type": "markdown",
   "metadata": {},
   "source": [
    "¿Qué sucedió? Obtuvimos como resultado las filas del GeoDataFrame de POIs cuya posición estaba dentro de los polígonos del GeoDataFrame de comunas de interés (que en este caso era una). Además, esas filas tienen **nuevas columnas**: las correspondientes a las de los polígonos a las que pertenecían.\n",
    "\n",
    "Ahora dibujemos estos POIs:"
   ]
  },
  {
   "cell_type": "code",
   "execution_count": 102,
   "metadata": {
    "collapsed": false
   },
   "outputs": [
    {
     "data": {
      "text/plain": [
       "(3348, 15)"
      ]
     },
     "execution_count": 102,
     "metadata": {},
     "output_type": "execute_result"
    }
   ],
   "source": [
    "stgo_centro_pois.shape"
   ]
  },
  {
   "cell_type": "code",
   "execution_count": 103,
   "metadata": {
    "collapsed": false
   },
   "outputs": [
    {
     "data": {
      "text/plain": [
       "yes                                   606\n",
       "restaurant                            360\n",
       "pharmacy                              157\n",
       "convenience                           154\n",
       "bank                                  140\n",
       "car_parts                             129\n",
       "cafe                                  116\n",
       "school                                107\n",
       "fast_food                              97\n",
       "alcohol                                64\n",
       "hotel                                  58\n",
       "subway_entrance                        51\n",
       "company                                49\n",
       "clothes                                47\n",
       "kindergarten                           47\n",
       "parking                                38\n",
       "bakery                                 34\n",
       "bicycle_parking                        33\n",
       "optician                               32\n",
       "supermarket                            31\n",
       "government                             31\n",
       "atm                                    30\n",
       "hairdresser                            26\n",
       "books                                  25\n",
       "hostel                                 25\n",
       "bicycle                                25\n",
       "post_office                            24\n",
       "bicycle_rental                         24\n",
       "car_repair                             24\n",
       "shoes                                  24\n",
       "                                     ... \n",
       "car_wash                                1\n",
       "charging_station                        1\n",
       "bicycle_repair_station                  1\n",
       "curtain                                 1\n",
       "lighting                                1\n",
       "arts_centre                             1\n",
       "mast                                    1\n",
       "guns                                    1\n",
       "minimarket                              1\n",
       "building_materials                      1\n",
       "photographic_laboratory                 1\n",
       "accountant                              1\n",
       "ruins                                   1\n",
       "wine                                    1\n",
       "social_facility                         1\n",
       "doityourself                            1\n",
       "research                                1\n",
       "hobby                                   1\n",
       "taxi                                    1\n",
       "artículos estudiantes arquitectura      1\n",
       "yes,_museum                             1\n",
       "cosmetics                               1\n",
       "swimming_pool                           1\n",
       "register_office                         1\n",
       "building                                1\n",
       "administrative                          1\n",
       "houseware                               1\n",
       "stripclub                               1\n",
       "coworking_space                         1\n",
       "motorcycle_repair                       1\n",
       "Name: value, Length: 186, dtype: int64"
      ]
     },
     "execution_count": 103,
     "metadata": {},
     "output_type": "execute_result"
    }
   ],
   "source": [
    "stgo_centro_pois.value.value_counts()"
   ]
  },
  {
   "cell_type": "code",
   "execution_count": 116,
   "metadata": {
    "collapsed": false
   },
   "outputs": [
    {
     "data": {
      "text/plain": [
       "<matplotlib.axes._subplots.AxesSubplot at 0x7f6356a42c18>"
      ]
     },
     "execution_count": 116,
     "metadata": {},
     "output_type": "execute_result"
    },
    {
     "data": {
      "image/png": "[encoded data removed]",
      "text/plain": [
       "<matplotlib.figure.Figure at 0x7f6356a34be0>"
      ]
     },
     "metadata": {},
     "output_type": "display_data"
    }
   ],
   "source": [
    "relevant_pois = stgo_centro_pois[stgo_centro_pois.value == 'subway_entrance']\n",
    "relevant_pois.plot()"
   ]
  },
  {
   "cell_type": "markdown",
   "metadata": {},
   "source": [
    "Digamos que queremos visualizar las entradas de metro en un mapa interactivo que nos entregue contexto."
   ]
  },
  {
   "cell_type": "code",
   "execution_count": 104,
   "metadata": {
    "collapsed": true
   },
   "outputs": [],
   "source": [
    "import folium"
   ]
  },
  {
   "cell_type": "markdown",
   "metadata": {},
   "source": [
    "Centraremos el mapa en el centroide geométrico de la comuna de Santiago. Utilizaremos el atributo ```centroid``` que tiene cada instancia de un GeoDataFrame. Lo que hace es entregar el centroide de cada fila."
   ]
  },
  {
   "cell_type": "code",
   "execution_count": 106,
   "metadata": {
    "collapsed": false
   },
   "outputs": [
    {
     "data": {
      "text/plain": [
       "305    POINT (-70.65641338735794 -33.45353958456027)\n",
       "dtype: object"
      ]
     },
     "execution_count": 106,
     "metadata": {},
     "output_type": "execute_result"
    }
   ],
   "source": [
    "centroid = stgo_centro.centroid\n",
    "centroid"
   ]
  },
  {
   "cell_type": "markdown",
   "metadata": {},
   "source": [
    "Aunque estamos trabajando con un GeoDataFrame que tiene un solo elemento, la variable centroid sigue teniendo una serie. Observamos que el identificador del centroide es 305, por lo que podemos acceder a él haciendo lo siguiente:"
   ]
  },
  {
   "cell_type": "code",
   "execution_count": 112,
   "metadata": {
    "collapsed": true
   },
   "outputs": [],
   "source": [
    "centroid_position = centroid[305]"
   ]
  },
  {
   "cell_type": "code",
   "execution_count": 113,
   "metadata": {
    "collapsed": false
   },
   "outputs": [
    {
     "data": {
      "text/plain": [
       "(-70.65641338735794, -33.453539584560275)"
      ]
     },
     "execution_count": 113,
     "metadata": {},
     "output_type": "execute_result"
    }
   ],
   "source": [
    "centroid_position.x, centroid_position.y"
   ]
  },
  {
   "cell_type": "markdown",
   "metadata": {},
   "source": [
    "Creamos el mapa con folium. Noten que folium pide como ubicación latitud (y) y longitud (x), por lo que debemos entregarle los parámetros al revés de lo que esperaríamos."
   ]
  },
  {
   "cell_type": "code",
   "execution_count": 115,
   "metadata": {
    "collapsed": true
   },
   "outputs": [],
   "source": [
    "stgo_map = folium.Map(location=[centroid_position.y, centroid_position.x], zoom_start=12)\n",
    "#las_condes_map"
   ]
  },
  {
   "cell_type": "markdown",
   "metadata": {},
   "source": [
    "Bien, tenemos un mapa. Ahora queremos que cada POI tenga un marcador con su nombre. ¿Cómo lo hacemos? Para eso necesitamos **iterar** sobre el GeoDataFrame."
   ]
  },
  {
   "cell_type": "code",
   "execution_count": 118,
   "metadata": {
    "collapsed": true
   },
   "outputs": [],
   "source": [
    "for idx, poi in relevant_pois.iterrows():\n",
    "    #print(poi)\n",
    "    marker = folium.Marker([poi.geometry.y, poi.geometry.x], popup=poi['name'])\n",
    "    marker.add_to(stgo_map)\n",
    "    #break"
   ]
  },
  {
   "cell_type": "code",
   "execution_count": 119,
   "metadata": {
    "collapsed": false
   },
   "outputs": [
    {
     "data": {
      "text/html": [
       "<div style=\"width:100%;\"><div style=\"position:relative;width:100%;height:0;padding-bottom:60%;\"><iframe src=\"data:text/html;charset=utf-8;base64,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\" style=\"position:absolute;width:100%;height:100%;left:0;top:0;border:none !important;\" allowfullscreen webkitallowfullscreen mozallowfullscreen></iframe></div></div>"
      ],
      "text/plain": [
       "<folium.folium.Map at 0x7f635333e2b0>"
      ]
     },
     "execution_count": 119,
     "metadata": {},
     "output_type": "execute_result"
    }
   ],
   "source": [
    "stgo_map"
   ]
  },
  {
   "cell_type": "code",
   "execution_count": null,
   "metadata": {
    "collapsed": true
   },
   "outputs": [],
   "source": []
  }
 ],
 "metadata": {
  "kernelspec": {
   "display_name": "Python 3",
   "language": "python",
   "name": "python3"
  },
  "language_info": {
   "codemirror_mode": {
    "name": "ipython",
    "version": 3
   },
   "file_extension": ".py",
   "mimetype": "text/x-python",
   "name": "python",
   "nbconvert_exporter": "python",
   "pygments_lexer": "ipython3",
   "version": "3.6.2"
  }
 },
 "nbformat": 4,
 "nbformat_minor": 1
}
